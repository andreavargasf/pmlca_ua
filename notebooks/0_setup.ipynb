{
 "cells": [
  {
   "cell_type": "markdown",
   "id": "bde66856-6129-4cc7-882a-b79db0b83cd3",
   "metadata": {},
   "source": [
    "# Set up the environment"
   ]
  },
  {
   "cell_type": "markdown",
   "id": "524fc73e-2b3f-427c-9dab-7d65e1a1985b",
   "metadata": {},
   "source": [
    "## Dependency files"
   ]
  },
  {
   "cell_type": "markdown",
   "id": "9f1e2a93-aece-4506-9639-d4af9db03f27",
   "metadata": {},
   "source": [
    "This notebooks run on a recent [brightway25](https://brightway.dev) environment. Besides this, you will also need a jupyter install. \n",
    "The different dependencies required to run this notebooks are listed in convenient [requirements.txt](requirements.txt) (for `pip/pipenv` users, or as a `conda`/`mamba` [environment.yaml](environment.yaml) files."
   ]
  },
  {
   "cell_type": "markdown",
   "id": "25e418d1-6cc4-46d6-8a42-a6d9d831ca3c",
   "metadata": {},
   "source": [
    "## Dependencies"
   ]
  },
  {
   "cell_type": "markdown",
   "id": "2df2cbc6-3425-45d9-af32-3082c08c95ed",
   "metadata": {},
   "source": [
    "### For MacOS:\n",
    "- brightway25_nosolver\n",
    "- scikit-umfpack\n",
    "- jupyterlab\n",
    "- SALib\n",
    "\n",
    "### For Windows:\n",
    "- brightway25\n",
    "- jupyterlab\n",
    "- SALib"
   ]
  },
  {
   "cell_type": "code",
   "execution_count": null,
   "id": "74062de5-88fc-474c-b7c7-908864d4ccf0",
   "metadata": {},
   "outputs": [],
   "source": []
  }
 ],
 "metadata": {
  "kernelspec": {
   "display_name": "Python 3 (ipykernel)",
   "language": "python",
   "name": "python3"
  },
  "language_info": {
   "codemirror_mode": {
    "name": "ipython",
    "version": 3
   },
   "file_extension": ".py",
   "mimetype": "text/x-python",
   "name": "python",
   "nbconvert_exporter": "python",
   "pygments_lexer": "ipython3",
   "version": "3.11.8"
  }
 },
 "nbformat": 4,
 "nbformat_minor": 5
}
