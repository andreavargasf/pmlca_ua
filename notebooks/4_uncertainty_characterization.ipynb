{
 "cells": [
  {
   "cell_type": "markdown",
   "id": "8f7c9bdd-77d5-4c0b-b921-97bb9cd6f1d5",
   "metadata": {},
   "source": [
    "# Uncertainty Characterization "
   ]
  },
  {
   "cell_type": "markdown",
   "id": "84d5e2c4-6d9c-4b29-bb79-30a549e3db6f",
   "metadata": {},
   "source": [
    "This notebook contains the required steps to characterize uncertainty in the foreground parameters considered in the analysis. We use probability distributions to characterize uncertainties. Samples are generated using the [SALib](https://salib.readthedocs.io/en/latest/) Python library. Distributions are defined using the following convention dictated by SALib:\n",
    "\n",
    "| Distribution | Bounds            | Examples         | Comments                                                           |\n",
    "|--------------|-------------------|------------------|--------------------------------------------------------------------|\n",
    "| unif         | [lower, upper]   | [-3.14159, 3.14159] | Uniform distribution with bounds from -π to π                     |\n",
    "| logunif      | [lower, upper]    | [0.1, 10]        | Logarithmic uniform with bounds from 0.1 to 10                    |\n",
    "| triang       | [lower, upper, peak] | [1.0, 3.0, 0.5] | Triangular with bounds from 1.0 to 3.0 and a peak at 2.0          |\n",
    "| norm         | (mean, std_dev)   | (0, 1)           | Normal distribution with mean 0 and standard deviation 1          |\n",
    "| truncnorm    | [lower, upper, mean, std_dev] | [0, 1, 0, 1] | Truncated normal with bounds from 0 to 1, mean 0, and standard deviation 1 |\n",
    "| lognorm      | (ln_mean, ln_std_dev) | (0, 1)        | Lognormal with ln-space mean 0 and ln-space standard deviation 1  |\n",
    "\n",
    "\n",
    "The uncertainty characterization values originally come as an excel file. "
   ]
  },
  {
   "cell_type": "code",
   "execution_count": null,
   "id": "64af0be7-788e-4695-be94-9eab0974efa1",
   "metadata": {},
   "outputs": [],
   "source": []
  }
 ],
 "metadata": {
  "kernelspec": {
   "display_name": "Python 3 (ipykernel)",
   "language": "python",
   "name": "python3"
  },
  "language_info": {
   "codemirror_mode": {
    "name": "ipython",
    "version": 3
   },
   "file_extension": ".py",
   "mimetype": "text/x-python",
   "name": "python",
   "nbconvert_exporter": "python",
   "pygments_lexer": "ipython3",
   "version": "3.11.8"
  }
 },
 "nbformat": 4,
 "nbformat_minor": 5
}
