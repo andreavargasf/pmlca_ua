{
 "cells": [
  {
   "cell_type": "markdown",
   "id": "c9f27d30-1851-4021-b9aa-587145b57f41",
   "metadata": {},
   "source": [
    "# Uncertainty analysisis (ua) in pavement management life cycle assessment (pmlca)\n"
   ]
  },
  {
   "cell_type": "markdown",
   "id": "3dcc4878-b439-4fc5-8d66-053eec6a7bcd",
   "metadata": {},
   "source": [
    "This repository cintains the following notebooks:\n",
    "+ [0_setup.ipynb](0_setup.ipynb) - Describes the python environment used to run this notebooks\n",
    "+ [1a_background_db.ipynb](1a_background_db.ipynb) - Setting up the background database by importing ecoinvent.\n",
    "+ [1b_background_db.ipynb](1a_background_db.ipynb) - Setting up the background database by adding new processes to the imported background database. \n",
    "+ [2_foreground_db.ipynb](2_foreground_db.ipynb) - Setting up the foreground database.\n",
    "+ [3_sample_static_lcia.ipynb](3_sample_static_lcia.ipynb) - Basic LCIA calculations.\n",
    "+ [4_uncertainty_characterization.ipynb](4_uncertainty_characterization.ipynb) - Stochastic sampling of uncertain input parameters and scenario definitions."
   ]
  },
  {
   "cell_type": "code",
   "execution_count": null,
   "id": "ada17f51-9c19-4f2a-be4e-654a3c2a29ae",
   "metadata": {},
   "outputs": [],
   "source": []
  }
 ],
 "metadata": {
  "kernelspec": {
   "display_name": "Python 3 (ipykernel)",
   "language": "python",
   "name": "python3"
  },
  "language_info": {
   "codemirror_mode": {
    "name": "ipython",
    "version": 3
   },
   "file_extension": ".py",
   "mimetype": "text/x-python",
   "name": "python",
   "nbconvert_exporter": "python",
   "pygments_lexer": "ipython3",
   "version": "3.11.8"
  }
 },
 "nbformat": 4,
 "nbformat_minor": 5
}
