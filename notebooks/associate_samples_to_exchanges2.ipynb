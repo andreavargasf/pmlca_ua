{
 "cells": [
  {
   "cell_type": "markdown",
   "id": "307523cc-e086-4d55-a5fb-14206902394a",
   "metadata": {},
   "source": [
    "# Exchanges exploration"
   ]
  },
  {
   "cell_type": "code",
   "execution_count": 1,
   "id": "a077b34f-466e-4242-91f2-30e6419f4401",
   "metadata": {
    "ExecuteTime": {
     "end_time": "2024-03-18T12:36:22.693194Z",
     "start_time": "2024-03-18T12:36:22.678591Z"
    }
   },
   "outputs": [],
   "source": [
    "%load_ext autoreload\n",
    "%autoreload 2"
   ]
  },
  {
   "cell_type": "code",
   "execution_count": 2,
   "id": "35dddf15-d6b7-4e72-85b2-6e389921d360",
   "metadata": {
    "ExecuteTime": {
     "end_time": "2024-03-18T12:36:25.276141Z",
     "start_time": "2024-03-18T12:36:23.963065Z"
    }
   },
   "outputs": [
    {
     "name": "stderr",
     "output_type": "stream",
     "text": [
      "/tmp/ipykernel_582399/2816604150.py:14: TqdmExperimentalWarning: Using `tqdm.autonotebook.tqdm` in notebook mode. Use `tqdm.tqdm` instead to force console mode (e.g. in jupyter console)\n",
      "  from tqdm import autonotebook\n"
     ]
    }
   ],
   "source": [
    "from pprint import pprint\n",
    "\n",
    "import bw2analyzer as bwa\n",
    "import bw2calc as bc\n",
    "import bw2data as bd\n",
    "import bw2io as bi\n",
    "import bw_processing as bwp\n",
    "import numpy as np\n",
    "\n",
    "# import ipywidgets as widgets\n",
    "import pandas as pd\n",
    "from bw2data.query import Filter, Query\n",
    "from IPython.display import display\n",
    "from tqdm import autonotebook"
   ]
  },
  {
   "cell_type": "code",
   "execution_count": 3,
   "id": "326f0f85-8c76-4f4a-b535-54b883fa0de3",
   "metadata": {
    "ExecuteTime": {
     "end_time": "2024-03-18T12:36:28.762023Z",
     "start_time": "2024-03-18T12:36:28.744183Z"
    }
   },
   "outputs": [],
   "source": [
    "from project_details import EI_DB_NAME, PROJECT_NAME"
   ]
  },
  {
   "cell_type": "code",
   "execution_count": 4,
   "id": "c56ea982-99ee-46a9-b5cc-ec14ca201e80",
   "metadata": {
    "ExecuteTime": {
     "end_time": "2024-03-18T12:36:29.530595Z",
     "start_time": "2024-03-18T12:36:29.507220Z"
    },
    "scrolled": true
   },
   "outputs": [
    {
     "data": {
      "text/plain": [
       "Databases dictionary with 3 object(s):\n",
       "\tasphalt\n",
       "\tbiosphere3\n",
       "\tecoinvent-3.9.1-cutoff"
      ]
     },
     "execution_count": 4,
     "metadata": {},
     "output_type": "execute_result"
    }
   ],
   "source": [
    "bd.projects.set_current(PROJECT_NAME)\n",
    "bd.databases"
   ]
  },
  {
   "cell_type": "code",
   "execution_count": 5,
   "id": "a17ea6cc-4620-46fc-8329-94832bd6cd9a",
   "metadata": {
    "ExecuteTime": {
     "end_time": "2024-03-18T12:36:30.468878Z",
     "start_time": "2024-03-18T12:36:30.450800Z"
    }
   },
   "outputs": [],
   "source": [
    "# Is the background database name the same as the one we wrote in `propject_details.py`?\n",
    "assert EI_DB_NAME in bd.databases"
   ]
  },
  {
   "cell_type": "code",
   "execution_count": 6,
   "id": "927da16a-6102-4124-be27-4b4af5784c0f",
   "metadata": {
    "ExecuteTime": {
     "end_time": "2024-03-18T12:36:33.534730Z",
     "start_time": "2024-03-18T12:36:33.519170Z"
    }
   },
   "outputs": [],
   "source": [
    "FG_DB_NAME = \"asphalt\""
   ]
  },
  {
   "cell_type": "code",
   "execution_count": 7,
   "id": "90743b5c-1b47-4d34-9865-95c105c1fa46",
   "metadata": {
    "ExecuteTime": {
     "end_time": "2024-03-18T12:36:34.716478Z",
     "start_time": "2024-03-18T12:36:34.702609Z"
    }
   },
   "outputs": [],
   "source": [
    "db_asphalt = bd.Database(FG_DB_NAME)"
   ]
  },
  {
   "cell_type": "code",
   "execution_count": 8,
   "id": "9f9e864a-a964-4d3c-a29a-8f185ef8f992",
   "metadata": {
    "ExecuteTime": {
     "end_time": "2024-03-18T12:36:36.232896Z",
     "start_time": "2024-03-18T12:36:36.211739Z"
    }
   },
   "outputs": [],
   "source": [
    "pavement_complete_a = db_asphalt.get(\"DZOAB, A\")"
   ]
  },
  {
   "cell_type": "code",
   "execution_count": 9,
   "id": "ffbf5cb8-eb0e-403a-aa77-a9f8de43f59c",
   "metadata": {
    "ExecuteTime": {
     "end_time": "2024-03-18T12:36:37.112853Z",
     "start_time": "2024-03-18T12:36:37.080407Z"
    },
    "scrolled": true
   },
   "outputs": [
    {
     "name": "stdout",
     "output_type": "stream",
     "text": [
      "1: 'DZOAB, A' (kilogram, NL, None)\n",
      "  1: 'A1, pavement, materials, A' (kilogram, NL, None)\n",
      "  1: 'A2, pavement, transport to plant, A' (kilogram, NL, None)\n",
      "  1: 'A3, pavement, production, A' (kilogram, NL, None)\n",
      "  1: 'A4, pavement, transport to site' (kilogram, NL, None)\n",
      "  1: 'A5, pavement, construction' (kilogram, NL, None)\n",
      "  1: 'C1, pavement, demolition' (kilogram, NL, None)\n",
      "  1: 'C2, pavement, transport to processing' (kilogram, NL, None)\n",
      "  1: 'C3, pavement, processing' (kilogram, NL, None)\n"
     ]
    }
   ],
   "source": [
    "bwa.print_recursive_supply_chain(pavement_complete_a, max_level=1)"
   ]
  },
  {
   "cell_type": "markdown",
   "id": "50d2e43a-198c-4a68-8bb6-0fc1445ca730",
   "metadata": {},
   "source": [
    "## Associate exchanges to samples\n",
    "\n",
    "### Work with the pavement materials\n",
    "\n",
    "First let's verify that we can use the information already contained in the db.\n",
    "\n",
    "The excel file for the foreground provides a comments field that gives a generic name of the exchange. This can be linked to the name of the column of the generated samples."
   ]
  },
  {
   "cell_type": "markdown",
   "id": "e2398db1-b5b3-41d5-94b9-86cf3a1f831b",
   "metadata": {},
   "source": [
    "Let's first look at the pavement materials data to create the data structures that we could use later with data packages."
   ]
  },
  {
   "cell_type": "code",
   "execution_count": 10,
   "id": "0bca6103-f424-4e16-85f2-3c9d3be1061f",
   "metadata": {},
   "outputs": [
    {
     "name": "stdout",
     "output_type": "stream",
     "text": [
      "'A1, pavement, materials, A' (kilogram, NL, None)\n",
      "Exchange: 0.3 kilogram 'asphalt granulate, free of burden' (kilogram, NL, None) to 'A1, pavement, materials, A' (kilogram, NL, None)>\n",
      "Exchange: 0.0412 kilogram 'bitumen adhesive compound production, hot' (kilogram, RER, None) to 'A1, pavement, materials, A' (kilogram, NL, None)>\n",
      "Exchange: 0.5861 kilogram 'crushed stone, from quarry in Europe, excluding transport to the Netherlands' (kilogram, NL, None) to 'A1, pavement, materials, A' (kilogram, NL, None)>\n",
      "Exchange: 0.0094 kilogram 'crushed stone, from quarry in Europe, excluding transport to the Netherlands' (kilogram, NL, None) to 'A1, pavement, materials, A' (kilogram, NL, None)>\n",
      "Exchange: 0.0342 kilogram 'gravel production, crushed' (kilogram, RoW, None) to 'A1, pavement, materials, A' (kilogram, NL, None)>\n",
      "Exchange: 0.0021 kilogram 'cellulose fibre production' (kilogram, RoW, None) to 'A1, pavement, materials, A' (kilogram, NL, None)>\n",
      "Exchange: 0.027 kilogram 'medium filler' (kilogram, NL, None) to 'A1, pavement, materials, A' (kilogram, NL, None)>\n"
     ]
    }
   ],
   "source": [
    "pavement_mats = bd.get_activity(25964)\n",
    "print(pavement_mats)\n",
    "for e in pavement_mats.technosphere():\n",
    "    print(e)"
   ]
  },
  {
   "cell_type": "markdown",
   "id": "0a722c61-8293-44a3-86fe-ad9df5d01a8e",
   "metadata": {},
   "source": [
    "The exchanges include a \"comments\" field"
   ]
  },
  {
   "cell_type": "code",
   "execution_count": 11,
   "id": "47f22cea-2b8d-46b4-a2a0-c1b05c6bf4bb",
   "metadata": {},
   "outputs": [
    {
     "name": "stdout",
     "output_type": "stream",
     "text": [
      "'rap'\n",
      "'bitumen'\n",
      "'crushed stone'\n",
      "'own material'\n",
      "'crushed sand'\n",
      "'drip resistant material'\n",
      "'filler'\n"
     ]
    }
   ],
   "source": [
    "for e in pavement_mats.technosphere():\n",
    "    if \"comments\" in e.as_dict():\n",
    "        # print(e[\"comments\"])\n",
    "        pprint(e[\"comments\"])"
   ]
  },
  {
   "cell_type": "code",
   "execution_count": 12,
   "id": "78b5e900-7ae8-45fe-90ba-c20b5ccafc56",
   "metadata": {},
   "outputs": [],
   "source": [
    "def exchange_coords(exchange):\n",
    "    \"\"\"create a tuple with the numerical ids of the input and output activites of an exchange.\"\"\"\n",
    "    input_activity = bd.get_activity(exchange[\"input\"])\n",
    "    output_activity = bd.get_activity(exchange[\"output\"])\n",
    "    return (input_activity.id, output_activity.id)"
   ]
  },
  {
   "cell_type": "code",
   "execution_count": 13,
   "id": "d2bd31c6-5819-4724-95ca-52a967730c71",
   "metadata": {},
   "outputs": [
    {
     "name": "stdout",
     "output_type": "stream",
     "text": [
      "(25957, 25964)\n",
      "(24816, 25964)\n",
      "(25959, 25964)\n",
      "(25959, 25964)\n",
      "(20635, 25964)\n",
      "(6027, 25964)\n",
      "(25960, 25964)\n"
     ]
    }
   ],
   "source": [
    "# We can create tuples of coords for every non \"production\" exchange of an activity like this.\n",
    "for e in pavement_mats.technosphere():\n",
    "    print(exchange_coords(e))"
   ]
  },
  {
   "cell_type": "markdown",
   "id": "48e2f88e-cf4c-4e87-9a19-202990828257",
   "metadata": {},
   "source": [
    "### Parse all the pre-generated samples."
   ]
  },
  {
   "cell_type": "code",
   "execution_count": 14,
   "id": "c3e7b72a-6311-481e-9e0d-8e8944f76552",
   "metadata": {},
   "outputs": [
    {
     "data": {
      "text/html": [
       "<div>\n",
       "<style scoped>\n",
       "    .dataframe tbody tr th:only-of-type {\n",
       "        vertical-align: middle;\n",
       "    }\n",
       "\n",
       "    .dataframe tbody tr th {\n",
       "        vertical-align: top;\n",
       "    }\n",
       "\n",
       "    .dataframe thead th {\n",
       "        text-align: right;\n",
       "    }\n",
       "</style>\n",
       "<table border=\"1\" class=\"dataframe\">\n",
       "  <thead>\n",
       "    <tr style=\"text-align: right;\">\n",
       "      <th></th>\n",
       "      <th>A1_bitumen</th>\n",
       "      <th>A1_crushedsand</th>\n",
       "      <th>A1_crushedstone3</th>\n",
       "      <th>A1_asphaltgranulate</th>\n",
       "      <th>A1_ownmaterial</th>\n",
       "      <th>A1_mediumfiller</th>\n",
       "      <th>A1_dripresistantmaterial</th>\n",
       "      <th>A2_bitumen</th>\n",
       "      <th>A2_crushedsand_t</th>\n",
       "      <th>A2_crushedsand_iv</th>\n",
       "      <th>...</th>\n",
       "      <th>A2_mediumfiller</th>\n",
       "      <th>A2_dripresistantmaterial</th>\n",
       "      <th>A3_naturalgas</th>\n",
       "      <th>A3_electricity</th>\n",
       "      <th>A3_diesel</th>\n",
       "      <th>A4_distance</th>\n",
       "      <th>A5_construction</th>\n",
       "      <th>C1_removal</th>\n",
       "      <th>C2_distance</th>\n",
       "      <th>C3_craneandshovel</th>\n",
       "    </tr>\n",
       "  </thead>\n",
       "  <tbody>\n",
       "    <tr>\n",
       "      <th>0</th>\n",
       "      <td>0.042769</td>\n",
       "      <td>0.033898</td>\n",
       "      <td>0.607428</td>\n",
       "      <td>0.309227</td>\n",
       "      <td>0.008904</td>\n",
       "      <td>0.026087</td>\n",
       "      <td>0.002093</td>\n",
       "      <td>0.456430</td>\n",
       "      <td>0.039696</td>\n",
       "      <td>0.862846</td>\n",
       "      <td>...</td>\n",
       "      <td>0.097782</td>\n",
       "      <td>0.126065</td>\n",
       "      <td>0.007560</td>\n",
       "      <td>0.005661</td>\n",
       "      <td>0.000125</td>\n",
       "      <td>0.027180</td>\n",
       "      <td>0.000325</td>\n",
       "      <td>0.000807</td>\n",
       "      <td>0.071503</td>\n",
       "      <td>0.000199</td>\n",
       "    </tr>\n",
       "    <tr>\n",
       "      <th>1</th>\n",
       "      <td>0.039400</td>\n",
       "      <td>0.033167</td>\n",
       "      <td>0.587766</td>\n",
       "      <td>0.286452</td>\n",
       "      <td>0.008751</td>\n",
       "      <td>0.025986</td>\n",
       "      <td>0.002148</td>\n",
       "      <td>0.208577</td>\n",
       "      <td>0.057187</td>\n",
       "      <td>0.463359</td>\n",
       "      <td>...</td>\n",
       "      <td>0.198974</td>\n",
       "      <td>0.218366</td>\n",
       "      <td>0.007652</td>\n",
       "      <td>0.005420</td>\n",
       "      <td>0.000114</td>\n",
       "      <td>0.056457</td>\n",
       "      <td>0.000331</td>\n",
       "      <td>0.000753</td>\n",
       "      <td>0.022461</td>\n",
       "      <td>0.000184</td>\n",
       "    </tr>\n",
       "    <tr>\n",
       "      <th>2</th>\n",
       "      <td>0.040493</td>\n",
       "      <td>0.036037</td>\n",
       "      <td>0.558587</td>\n",
       "      <td>0.284832</td>\n",
       "      <td>0.009144</td>\n",
       "      <td>0.027256</td>\n",
       "      <td>0.002093</td>\n",
       "      <td>0.242726</td>\n",
       "      <td>0.043410</td>\n",
       "      <td>0.597687</td>\n",
       "      <td>...</td>\n",
       "      <td>0.154386</td>\n",
       "      <td>0.219272</td>\n",
       "      <td>0.007962</td>\n",
       "      <td>0.005683</td>\n",
       "      <td>0.000118</td>\n",
       "      <td>0.060631</td>\n",
       "      <td>0.000333</td>\n",
       "      <td>0.000827</td>\n",
       "      <td>0.040531</td>\n",
       "      <td>0.000179</td>\n",
       "    </tr>\n",
       "    <tr>\n",
       "      <th>3</th>\n",
       "      <td>0.039338</td>\n",
       "      <td>0.034951</td>\n",
       "      <td>0.585766</td>\n",
       "      <td>0.296381</td>\n",
       "      <td>0.009676</td>\n",
       "      <td>0.025594</td>\n",
       "      <td>0.002071</td>\n",
       "      <td>0.282429</td>\n",
       "      <td>0.018890</td>\n",
       "      <td>0.773004</td>\n",
       "      <td>...</td>\n",
       "      <td>0.175106</td>\n",
       "      <td>0.192699</td>\n",
       "      <td>0.008075</td>\n",
       "      <td>0.005632</td>\n",
       "      <td>0.000122</td>\n",
       "      <td>0.056707</td>\n",
       "      <td>0.000318</td>\n",
       "      <td>0.000830</td>\n",
       "      <td>0.050517</td>\n",
       "      <td>0.000187</td>\n",
       "    </tr>\n",
       "    <tr>\n",
       "      <th>4</th>\n",
       "      <td>0.040019</td>\n",
       "      <td>0.034629</td>\n",
       "      <td>0.582246</td>\n",
       "      <td>0.286346</td>\n",
       "      <td>0.009178</td>\n",
       "      <td>0.026117</td>\n",
       "      <td>0.002178</td>\n",
       "      <td>0.187741</td>\n",
       "      <td>0.041425</td>\n",
       "      <td>0.534964</td>\n",
       "      <td>...</td>\n",
       "      <td>0.087964</td>\n",
       "      <td>0.167227</td>\n",
       "      <td>0.008339</td>\n",
       "      <td>0.005551</td>\n",
       "      <td>0.000124</td>\n",
       "      <td>0.023251</td>\n",
       "      <td>0.000316</td>\n",
       "      <td>0.000746</td>\n",
       "      <td>0.058315</td>\n",
       "      <td>0.000184</td>\n",
       "    </tr>\n",
       "  </tbody>\n",
       "</table>\n",
       "<p>5 rows × 25 columns</p>\n",
       "</div>"
      ],
      "text/plain": [
       "   A1_bitumen  A1_crushedsand  A1_crushedstone3  A1_asphaltgranulate  \\\n",
       "0    0.042769        0.033898          0.607428             0.309227   \n",
       "1    0.039400        0.033167          0.587766             0.286452   \n",
       "2    0.040493        0.036037          0.558587             0.284832   \n",
       "3    0.039338        0.034951          0.585766             0.296381   \n",
       "4    0.040019        0.034629          0.582246             0.286346   \n",
       "\n",
       "   A1_ownmaterial  A1_mediumfiller  A1_dripresistantmaterial  A2_bitumen  \\\n",
       "0        0.008904         0.026087                  0.002093    0.456430   \n",
       "1        0.008751         0.025986                  0.002148    0.208577   \n",
       "2        0.009144         0.027256                  0.002093    0.242726   \n",
       "3        0.009676         0.025594                  0.002071    0.282429   \n",
       "4        0.009178         0.026117                  0.002178    0.187741   \n",
       "\n",
       "   A2_crushedsand_t  A2_crushedsand_iv  ...  A2_mediumfiller  \\\n",
       "0          0.039696           0.862846  ...         0.097782   \n",
       "1          0.057187           0.463359  ...         0.198974   \n",
       "2          0.043410           0.597687  ...         0.154386   \n",
       "3          0.018890           0.773004  ...         0.175106   \n",
       "4          0.041425           0.534964  ...         0.087964   \n",
       "\n",
       "   A2_dripresistantmaterial  A3_naturalgas  A3_electricity  A3_diesel  \\\n",
       "0                  0.126065       0.007560        0.005661   0.000125   \n",
       "1                  0.218366       0.007652        0.005420   0.000114   \n",
       "2                  0.219272       0.007962        0.005683   0.000118   \n",
       "3                  0.192699       0.008075        0.005632   0.000122   \n",
       "4                  0.167227       0.008339        0.005551   0.000124   \n",
       "\n",
       "   A4_distance  A5_construction  C1_removal  C2_distance  C3_craneandshovel  \n",
       "0     0.027180         0.000325    0.000807     0.071503           0.000199  \n",
       "1     0.056457         0.000331    0.000753     0.022461           0.000184  \n",
       "2     0.060631         0.000333    0.000827     0.040531           0.000179  \n",
       "3     0.056707         0.000318    0.000830     0.050517           0.000187  \n",
       "4     0.023251         0.000316    0.000746     0.058315           0.000184  \n",
       "\n",
       "[5 rows x 25 columns]"
      ]
     },
     "execution_count": 14,
     "metadata": {},
     "output_type": "execute_result"
    }
   ],
   "source": [
    "samples_df = pd.read_excel(\n",
    "    \"Samples.xlsx\", sheet_name=pavement_complete_a[\"name\"], dtype=float, index_col=0\n",
    ")\n",
    "samples_df.head()"
   ]
  },
  {
   "cell_type": "code",
   "execution_count": 15,
   "id": "70ba9e72-b01f-47c6-8016-ecb448faf540",
   "metadata": {},
   "outputs": [
    {
     "data": {
      "text/plain": [
       "Index(['A1_bitumen', 'A1_crushedsand', 'A1_crushedstone3',\n",
       "       'A1_asphaltgranulate', 'A1_ownmaterial', 'A1_mediumfiller',\n",
       "       'A1_dripresistantmaterial', 'A2_bitumen', 'A2_crushedsand_t',\n",
       "       'A2_crushedsand_iv', 'A2_crushedstone3_t', 'A2_crushedstone3_iv',\n",
       "       'A2_crushedstone3_sv', 'A2_ownmaterial_t', 'A2_ownmaterial_iv',\n",
       "       'A2_mediumfiller', 'A2_dripresistantmaterial', 'A3_naturalgas',\n",
       "       'A3_electricity', 'A3_diesel', 'A4_distance', 'A5_construction',\n",
       "       'C1_removal', 'C2_distance', 'C3_craneandshovel'],\n",
       "      dtype='object')"
      ]
     },
     "execution_count": 15,
     "metadata": {},
     "output_type": "execute_result"
    }
   ],
   "source": [
    "samples_df.columns"
   ]
  },
  {
   "cell_type": "markdown",
   "id": "6684734e-5e6f-4d30-a49a-89b0b26b9710",
   "metadata": {},
   "source": [
    "Each sample column is meant to be associated to one phase (A1, A2, etc.) and an inputs of a pavement exchange.\n",
    "We can map the comment of the exchange to an existing samples column name roughly like this:\n",
    "\n",
    "📌 I figured out, the above is not necessarily true. For example, the A4 phase, has 2 inputs: EURO5 & EURO6 trucks. \n",
    "    ❓ How is this supposed to be applied ? the `A4_distance` samples are to be applied to each truck ?\n"
   ]
  },
  {
   "cell_type": "code",
   "execution_count": 16,
   "id": "24980c49-c55a-4283-ab4a-7dec3e1cd500",
   "metadata": {},
   "outputs": [],
   "source": [
    "def sample_name_for_exchange(exchange, phase):\n",
    "    \"\"\"Return the sample name to use for this exchange.\"\"\"\n",
    "    all_names_mapping = {\n",
    "        \"A1\": {\n",
    "            \"bitumen\": \"A1_bitumen\",\n",
    "            \"crushed sand\": \"A1_crushedsand\",\n",
    "            \"crushed stone\": \"A1_crushedstone3\",\n",
    "            \"rap\": \"A1_asphaltgranulate\",\n",
    "            \"own material\": \"A1_ownmaterial\",\n",
    "            \"filler\": \"A1_mediumfiller\",\n",
    "            \"drip resistant material\": \"A1_dripresistantmaterial\",\n",
    "        },\n",
    "        \"A2\": {\n",
    "            \"bitumen\": \"A2_bitumen\",\n",
    "            \"filler\": \"A2_mediumfiller\",\n",
    "            \"drip resistant material\": \"A2_dripresistantmaterial\",\n",
    "        },\n",
    "    }\n",
    "\n",
    "    if \"A1\" == phase:\n",
    "        names_mapping = all_names_mapping[phase]\n",
    "        col_name = names_mapping[exchange[\"comments\"]]\n",
    "    if \"A2\" == phase:\n",
    "        names_mapping = all_names_mapping[phase]\n",
    "        if exchange[\"comments\"] in names_mapping:\n",
    "            return names_mapping[exchange[\"comments\"]]\n",
    "        else:\n",
    "            input_activity = bd.get_activity(exchange[\"input\"])\n",
    "            comments = exchange[\"comments\"]\n",
    "            var_name = exchange[\"comments\"].replace(\" \", \"\")\n",
    "            if var_name == \"crushedstone\":\n",
    "                var_name = var_name + \"3\"\n",
    "            ref_prod = input_activity[\"reference product\"]\n",
    "            if ref_prod == \"transport, freight, sea, ferry\":\n",
    "                suffix = \"sv\"\n",
    "            if ref_prod == \"transport, freight, inland waterways, barge\":\n",
    "                suffix = \"iv\"\n",
    "            if ref_prod == \"transport, freight, lorry, unspecified\":\n",
    "                suffix = \"t\"\n",
    "            col_name = f\"{phase}_{var_name}_{suffix}\"\n",
    "    if \"A3\" == phase:\n",
    "        input_activity = bd.get_activity(exchange[\"input\"])\n",
    "        ref_prod = input_activity[\"reference product\"]\n",
    "        if ref_prod == \"electricity, low voltage\":\n",
    "            col_name = f\"{phase}_electricity\"\n",
    "        elif ref_prod == \"heat, district or industrial, natural gas\":\n",
    "            col_name = f\"{phase}_naturalgas\"\n",
    "        elif ref_prod == \"diesel, burned in building machine\":\n",
    "            col_name = f\"{phase}_diesel\"\n",
    "    if \"A4\" == phase or \"C2\" == phase:\n",
    "        input_activity = bd.get_activity(exchange[\"input\"])\n",
    "        ref_prod = input_activity[\"reference product\"]\n",
    "        if ref_prod in [\n",
    "            \"transport, freight, lorry >32 metric ton, EURO5\",\n",
    "            \"transport, freight, lorry >32 metric ton, EURO6\",\n",
    "        ]:\n",
    "            col_name = f\"{phase}_distance\"\n",
    "    if \"A5\" == phase:\n",
    "        col_name = f\"{phase}_construction\"\n",
    "    if \"C1\" == phase:\n",
    "        comments = exchange[\"comments\"]\n",
    "        var_name = exchange[\"comments\"].lower()\n",
    "        col_name = f\"{phase}_{var_name}\"\n",
    "    if \"C3\" == phase:\n",
    "        col_name = f\"{phase}_craneandshovel\"\n",
    "\n",
    "    return col_name"
   ]
  },
  {
   "cell_type": "code",
   "execution_count": 17,
   "id": "95658c28-eede-4a3c-b914-76674454ac9b",
   "metadata": {},
   "outputs": [],
   "source": [
    "def build_coords_sample(activity, samples_df):\n",
    "    \"\"\"Build the coords + sample dictionnary for all phases of activity.\n",
    "\n",
    "    The activities are the top level \"pavement complete\" producing ones:\n",
    "\n",
    "    [0]: DZOAB, A, PVI (pavement, complete, NL)\n",
    "    [1]: DZOAB, B, PVI (pavement, complete, NL)\n",
    "    [2]: DZOAB, B (pavement, complete, NL)\n",
    "    [3]: DZOAB, A (pavement, complete, NL)\n",
    "\n",
    "    \"\"\"\n",
    "    # Make sure we have a valid activity to start with\n",
    "    assert \"pavement, complete\" == activity[\"reference product\"]\n",
    "    coords_samples_map = {}\n",
    "\n",
    "    # the phases are for example: A1, pavement, materials, A\n",
    "    # We must create the coords_sample for the inputs of each \"phase\"\n",
    "    phase_exchanges = [input for input in activity.technosphere()]\n",
    "\n",
    "    for phase_exchange in phase_exchanges:\n",
    "        input_activity = bd.get_activity(phase_exchange[\"input\"])\n",
    "        # pprint(input_activity)\n",
    "        # mapping = build_mapping(input_activity)\n",
    "        # print(mapping)\n",
    "        # Extract the \"A1\", \"A2\", etc. substring from the phase name\n",
    "        current_phase = input_activity[\"name\"].split(\",\")[0]\n",
    "        for exchange in input_activity.technosphere():\n",
    "            col_name = sample_name_for_exchange(exchange, current_phase)\n",
    "            # print(f\"{exchange}\\n\\t 👉 {col_name}\")\n",
    "            coords = exchange_coords(exchange)\n",
    "            coords_samples_map[exchange_coords(exchange)] = samples_df[\n",
    "                col_name\n",
    "            ].values  # numpy.ndarray\n",
    "    return coords_samples_map"
   ]
  },
  {
   "cell_type": "code",
   "execution_count": 18,
   "id": "fbae3d65-d5fe-4d02-854f-c3b30f9be2a7",
   "metadata": {},
   "outputs": [],
   "source": [
    "# coords_samples_map = build_coords_sample(pavement_complete_a, samples_df)"
   ]
  },
  {
   "cell_type": "code",
   "execution_count": 20,
   "id": "19b478fa-dda7-4922-811c-d879af1cd352",
   "metadata": {},
   "outputs": [
    {
     "name": "stdout",
     "output_type": "stream",
     "text": [
      "Exchange: 0.3 kilogram 'asphalt granulate, free of burden' (kilogram, NL, None) to 'A1, pavement, materials, A' (kilogram, NL, None)> -> A1_asphaltgranulate\n",
      "Exchange: 0.0412 kilogram 'bitumen adhesive compound production, hot' (kilogram, RER, None) to 'A1, pavement, materials, A' (kilogram, NL, None)> -> A1_bitumen\n",
      "Exchange: 0.5861 kilogram 'crushed stone, from quarry in Europe, excluding transport to the Netherlands' (kilogram, NL, None) to 'A1, pavement, materials, A' (kilogram, NL, None)> -> A1_crushedstone3\n",
      "Exchange: 0.0094 kilogram 'crushed stone, from quarry in Europe, excluding transport to the Netherlands' (kilogram, NL, None) to 'A1, pavement, materials, A' (kilogram, NL, None)> -> A1_ownmaterial\n",
      "Exchange: 0.0342 kilogram 'gravel production, crushed' (kilogram, RoW, None) to 'A1, pavement, materials, A' (kilogram, NL, None)> -> A1_crushedsand\n",
      "Exchange: 0.0021 kilogram 'cellulose fibre production' (kilogram, RoW, None) to 'A1, pavement, materials, A' (kilogram, NL, None)> -> A1_dripresistantmaterial\n",
      "Exchange: 0.027 kilogram 'medium filler' (kilogram, NL, None) to 'A1, pavement, materials, A' (kilogram, NL, None)> -> A1_mediumfiller\n"
     ]
    }
   ],
   "source": [
    "# This is how to build the samples but only for the pavement materials activity\n",
    "coords_samples_map = {}\n",
    "for e in pavement_mats.technosphere():\n",
    "    col_name = sample_name_for_exchange(e, \"A1\")\n",
    "    print(f\"{e} -> {col_name}\")\n",
    "    coords_samples_map[exchange_coords(e)] = samples_df[\n",
    "        col_name\n",
    "    ].values  # numpy.ndarray"
   ]
  },
  {
   "cell_type": "markdown",
   "id": "fe54af41-d0b3-4e82-a9a2-ce9099bad2a2",
   "metadata": {},
   "source": [
    "Here is a dictionnary with the coords + vector with the samples."
   ]
  },
  {
   "cell_type": "code",
   "execution_count": 25,
   "id": "ff860f7c-0761-46a7-9186-bc9b00eed37f",
   "metadata": {},
   "outputs": [
    {
     "name": "stdout",
     "output_type": "stream",
     "text": [
      "(25957, 25964) --array-> [0.30922678 0.28645184 0.28483178 ... 0.30004993 0.28893112 0.29320903]\n",
      "(24816, 25964) --array-> [0.04276906 0.03939971 0.04049269 ... 0.03997305 0.04136191 0.04123304]\n",
      "(25959, 25964) --array-> [0.00890414 0.00875113 0.00914362 ... 0.00933997 0.00974056 0.0098617 ]\n",
      "(20635, 25964) --array-> [0.03389766 0.03316733 0.03603696 ... 0.03230746 0.03355975 0.03485532]\n",
      "(6027, 25964) --array-> [0.00209336 0.00214763 0.00209298 ... 0.00207337 0.0021744  0.00219949]\n",
      "(25960, 25964) --array-> [0.02608693 0.02598636 0.02725618 ... 0.02811418 0.02555453 0.02638917]\n"
     ]
    }
   ],
   "source": [
    "for k, v in coords_samples_map.items():\n",
    "    print(f\"{k} --array-> {v}\")"
   ]
  },
  {
   "cell_type": "code",
   "execution_count": 27,
   "id": "d580cfc1-d091-459d-b211-efb3a40acb60",
   "metadata": {},
   "outputs": [],
   "source": [
    "# cml_methods = [m for m in bd.methods if m[0] == \"CML v4.8 2016\"]\n",
    "cml_method_gwp = (\n",
    "    \"CML v4.8 2016\",\n",
    "    \"climate change\",\n",
    "    \"global warming potential (GWP100)\",\n",
    ")"
   ]
  },
  {
   "cell_type": "markdown",
   "id": "18480f1d-d1f3-442b-b1cb-937931d56f14",
   "metadata": {},
   "source": [
    "## Regular LCA from activity + method"
   ]
  },
  {
   "cell_type": "code",
   "execution_count": 28,
   "id": "47550fc0-41e1-425b-8fa4-e3cc217092e3",
   "metadata": {},
   "outputs": [],
   "source": [
    "a_lca = bc.LCA({pavement_complete_a: 1}, cml_method_gwp)"
   ]
  },
  {
   "cell_type": "code",
   "execution_count": 29,
   "id": "15587860-fefc-49ab-bcff-65baf77656bb",
   "metadata": {},
   "outputs": [
    {
     "data": {
      "text/plain": [
       "0.16297396843731118"
      ]
     },
     "execution_count": 29,
     "metadata": {},
     "output_type": "execute_result"
    }
   ],
   "source": [
    "a_lca.lci()\n",
    "a_lca.lcia()\n",
    "a_lca.score"
   ]
  },
  {
   "cell_type": "markdown",
   "id": "aa44570f-9e16-4b8b-ad61-e846782e8b30",
   "metadata": {},
   "source": [
    "## LCA using datapackages"
   ]
  },
  {
   "cell_type": "code",
   "execution_count": 30,
   "id": "139162c1-11a2-4bba-8ae5-5c11de7bf7fa",
   "metadata": {},
   "outputs": [],
   "source": [
    "# the following function returns:\n",
    "# indexed_demand, data_objs, remapping_dicts\n",
    "# that follow the data package spec\n",
    "indexed_demand, data_objs, remapping_dicts = bd.prepare_lca_inputs(\n",
    "    {pavement_complete_a: 1}, cml_method_gwp\n",
    ")"
   ]
  },
  {
   "cell_type": "code",
   "execution_count": 31,
   "id": "4c8bf3e5-cb09-479c-bb4c-0e89e0388b24",
   "metadata": {},
   "outputs": [
    {
     "data": {
      "text/plain": [
       "{25976: 1}"
      ]
     },
     "execution_count": 31,
     "metadata": {},
     "output_type": "execute_result"
    }
   ],
   "source": [
    "indexed_demand"
   ]
  },
  {
   "cell_type": "code",
   "execution_count": 32,
   "id": "be5a5fa5-a6f9-4dd5-92e9-2d44dab4013d",
   "metadata": {},
   "outputs": [
    {
     "data": {
      "text/plain": [
       "[<bw_processing.datapackage.Datapackage at 0x7fc5e1728950>,\n",
       " <bw_processing.datapackage.Datapackage at 0x7fc5e172ff90>,\n",
       " <bw_processing.datapackage.Datapackage at 0x7fc5e17319d0>,\n",
       " <bw_processing.datapackage.Datapackage at 0x7fc5e1c58310>]"
      ]
     },
     "execution_count": 32,
     "metadata": {},
     "output_type": "execute_result"
    }
   ],
   "source": [
    "data_objs"
   ]
  },
  {
   "cell_type": "code",
   "execution_count": 33,
   "id": "251cd45a-a4ec-4321-bc86-79fb5161ef29",
   "metadata": {},
   "outputs": [
    {
     "name": "stdout",
     "output_type": "stream",
     "text": [
      "ecoinvent-3.9.1-cutoff\n",
      "biosphere3\n",
      "asphalt\n",
      "cml-v48-2016cg.231d6e8f8b1c199a47182515eba4032e.zip\n"
     ]
    }
   ],
   "source": [
    "for i in data_objs:\n",
    "    print(i.metadata[\"name\"])"
   ]
  },
  {
   "cell_type": "code",
   "execution_count": 34,
   "id": "9553412a-eb71-42cc-bd79-e65c2b941f64",
   "metadata": {},
   "outputs": [
    {
     "data": {
      "text/plain": [
       "0.16297396843731118"
      ]
     },
     "execution_count": 34,
     "metadata": {},
     "output_type": "execute_result"
    }
   ],
   "source": [
    "dp_lca = bc.LCA(demand=indexed_demand, data_objs=data_objs)\n",
    "dp_lca.lci()\n",
    "dp_lca.lcia()\n",
    "dp_lca.score"
   ]
  },
  {
   "cell_type": "code",
   "execution_count": 35,
   "id": "0a0934d7-0c08-4b1e-b10d-b847ea700039",
   "metadata": {},
   "outputs": [
    {
     "data": {
      "text/plain": [
       "'biosphere3'"
      ]
     },
     "execution_count": 35,
     "metadata": {},
     "output_type": "execute_result"
    }
   ],
   "source": [
    "biosphere_dp = [dp for dp in data_objs if dp.metadata[\"name\"] == \"biosphere3\"].pop()\n",
    "biosphere_dp.metadata[\"name\"]"
   ]
  },
  {
   "cell_type": "code",
   "execution_count": 36,
   "id": "b9575958-2576-4449-aa19-88ce478b70e7",
   "metadata": {},
   "outputs": [
    {
     "data": {
      "text/plain": [
       "'ecoinvent-3.9.1-cutoff'"
      ]
     },
     "execution_count": 36,
     "metadata": {},
     "output_type": "execute_result"
    }
   ],
   "source": [
    "ei_dp = [dp for dp in data_objs if dp.metadata[\"name\"] == EI_DB_NAME].pop()\n",
    "ei_dp.metadata[\"name\"]"
   ]
  },
  {
   "cell_type": "code",
   "execution_count": 37,
   "id": "b0a1fab4-c848-4e0b-8079-9e30f63d7d79",
   "metadata": {},
   "outputs": [
    {
     "data": {
      "text/plain": [
       "'asphalt'"
      ]
     },
     "execution_count": 37,
     "metadata": {},
     "output_type": "execute_result"
    }
   ],
   "source": [
    "fg_dp = [dp for dp in data_objs if dp.metadata[\"name\"] == \"asphalt\"].pop()\n",
    "fg_dp.metadata[\"name\"]"
   ]
  },
  {
   "cell_type": "code",
   "execution_count": 38,
   "id": "f0c1ebdc-1068-451d-9657-93755186e68c",
   "metadata": {
    "scrolled": true
   },
   "outputs": [
    {
     "name": "stdout",
     "output_type": "stream",
     "text": [
      "{'combinatorial': False,\n",
      " 'created': '2024-02-20T08:01:29.701385Z',\n",
      " 'id': '9df22ebd67ac4f8d90a3834f7825ca08',\n",
      " 'licenses': [{'name': 'ODC-PDDL-1.0',\n",
      "               'path': 'http://opendatacommons.org/licenses/pddl/',\n",
      "               'title': 'Open Data Commons Public Domain Dedication and '\n",
      "                        'License v1.0'}],\n",
      " 'name': 'asphalt',\n",
      " 'profile': 'data-package',\n",
      " 'resources': [{'category': 'vector',\n",
      "                'format': 'npy',\n",
      "                'group': 'asphalt_inventory_geomapping_matrix',\n",
      "                'kind': 'indices',\n",
      "                'matrix': 'inv_geomapping_matrix',\n",
      "                'mediatype': 'application/octet-stream',\n",
      "                'name': 'asphalt_inventory_geomapping_matrix.indices',\n",
      "                'nrows': 20,\n",
      "                'path': 'asphalt_inventory_geomapping_matrix.indices.npy',\n",
      "                'profile': 'data-resource'},\n",
      "               {'category': 'vector',\n",
      "                'format': 'npy',\n",
      "                'group': 'asphalt_inventory_geomapping_matrix',\n",
      "                'kind': 'data',\n",
      "                'matrix': 'inv_geomapping_matrix',\n",
      "                'mediatype': 'application/octet-stream',\n",
      "                'name': 'asphalt_inventory_geomapping_matrix.data',\n",
      "                'nrows': 20,\n",
      "                'path': 'asphalt_inventory_geomapping_matrix.data.npy',\n",
      "                'profile': 'data-resource'},\n",
      "               {'category': 'vector',\n",
      "                'format': 'npy',\n",
      "                'group': 'asphalt_biosphere_matrix',\n",
      "                'kind': 'indices',\n",
      "                'matrix': 'biosphere_matrix',\n",
      "                'mediatype': 'application/octet-stream',\n",
      "                'name': 'asphalt_biosphere_matrix.indices',\n",
      "                'nrows': 6,\n",
      "                'path': 'asphalt_biosphere_matrix.indices.npy',\n",
      "                'profile': 'data-resource'},\n",
      "               {'category': 'vector',\n",
      "                'format': 'npy',\n",
      "                'group': 'asphalt_biosphere_matrix',\n",
      "                'kind': 'data',\n",
      "                'matrix': 'biosphere_matrix',\n",
      "                'mediatype': 'application/octet-stream',\n",
      "                'name': 'asphalt_biosphere_matrix.data',\n",
      "                'nrows': 6,\n",
      "                'path': 'asphalt_biosphere_matrix.data.npy',\n",
      "                'profile': 'data-resource'},\n",
      "               {'category': 'vector',\n",
      "                'format': 'npy',\n",
      "                'group': 'asphalt_technosphere_matrix',\n",
      "                'kind': 'indices',\n",
      "                'matrix': 'technosphere_matrix',\n",
      "                'mediatype': 'application/octet-stream',\n",
      "                'name': 'asphalt_technosphere_matrix.indices',\n",
      "                'nrows': 112,\n",
      "                'path': 'asphalt_technosphere_matrix.indices.npy',\n",
      "                'profile': 'data-resource'},\n",
      "               {'category': 'vector',\n",
      "                'format': 'npy',\n",
      "                'group': 'asphalt_technosphere_matrix',\n",
      "                'kind': 'data',\n",
      "                'matrix': 'technosphere_matrix',\n",
      "                'mediatype': 'application/octet-stream',\n",
      "                'name': 'asphalt_technosphere_matrix.data',\n",
      "                'nrows': 112,\n",
      "                'path': 'asphalt_technosphere_matrix.data.npy',\n",
      "                'profile': 'data-resource'},\n",
      "               {'category': 'vector',\n",
      "                'format': 'npy',\n",
      "                'group': 'asphalt_technosphere_matrix',\n",
      "                'kind': 'distributions',\n",
      "                'matrix': 'technosphere_matrix',\n",
      "                'mediatype': 'application/octet-stream',\n",
      "                'name': 'asphalt_technosphere_matrix.distributions',\n",
      "                'nrows': 112,\n",
      "                'path': 'asphalt_technosphere_matrix.distributions.npy',\n",
      "                'profile': 'data-resource'},\n",
      "               {'category': 'vector',\n",
      "                'format': 'npy',\n",
      "                'group': 'asphalt_technosphere_matrix',\n",
      "                'kind': 'flip',\n",
      "                'matrix': 'technosphere_matrix',\n",
      "                'mediatype': 'application/octet-stream',\n",
      "                'name': 'asphalt_technosphere_matrix.flip',\n",
      "                'nrows': 112,\n",
      "                'path': 'asphalt_technosphere_matrix.flip.npy',\n",
      "                'profile': 'data-resource'}],\n",
      " 'seed': None,\n",
      " 'sequential': False,\n",
      " 'sum_inter_duplicates': False,\n",
      " 'sum_intra_duplicates': True}\n"
     ]
    }
   ],
   "source": [
    "pprint(fg_dp.metadata)"
   ]
  },
  {
   "cell_type": "code",
   "execution_count": 39,
   "id": "d1a7ff85-7af3-4f3f-88c4-5f9ba598890d",
   "metadata": {},
   "outputs": [],
   "source": [
    "dp_correlated = bwp.create_datapackage(sequential=True)"
   ]
  },
  {
   "cell_type": "code",
   "execution_count": 40,
   "id": "34fe1e78-2c66-4aa9-a493-ef53bef7421c",
   "metadata": {},
   "outputs": [
    {
     "name": "stdout",
     "output_type": "stream",
     "text": [
      "[(25957, 25964),\n",
      " (24816, 25964),\n",
      " (25959, 25964),\n",
      " (20635, 25964),\n",
      " (6027, 25964),\n",
      " (25960, 25964)]\n"
     ]
    }
   ],
   "source": [
    "samples_indices = [coord for coord in coords_samples_map.keys()]\n",
    "pprint(samples_indices)"
   ]
  },
  {
   "cell_type": "code",
   "execution_count": 41,
   "id": "d33c57ad-e4cb-489e-af33-b730a205ffe9",
   "metadata": {},
   "outputs": [
    {
     "name": "stdout",
     "output_type": "stream",
     "text": [
      "array([[0.30922678, 0.28645184, 0.28483178, ..., 0.30004993, 0.28893112,\n",
      "        0.29320903],\n",
      "       [0.04276906, 0.03939971, 0.04049269, ..., 0.03997305, 0.04136191,\n",
      "        0.04123304],\n",
      "       [0.00890414, 0.00875113, 0.00914362, ..., 0.00933997, 0.00974056,\n",
      "        0.0098617 ],\n",
      "       [0.03389766, 0.03316733, 0.03603696, ..., 0.03230746, 0.03355975,\n",
      "        0.03485532],\n",
      "       [0.00209336, 0.00214763, 0.00209298, ..., 0.00207337, 0.0021744 ,\n",
      "        0.00219949],\n",
      "       [0.02608693, 0.02598636, 0.02725618, ..., 0.02811418, 0.02555453,\n",
      "        0.02638917]])\n"
     ]
    }
   ],
   "source": [
    "# Prepare the data_array, it must be an array of arrays\n",
    "samples_values = np.array([coords_samples_map[coord] for coord in samples_indices])\n",
    "pprint(samples_values)"
   ]
  },
  {
   "cell_type": "code",
   "execution_count": 47,
   "id": "bdb85712-5c7a-4930-be85-84f775f8ce38",
   "metadata": {},
   "outputs": [],
   "source": [
    "dp_correlated.add_persistent_array(\n",
    "    matrix=\"technosphere_matrix\",\n",
    "    indices_array=np.array(samples_indices, dtype=bwp.INDICES_DTYPE),\n",
    "    data_array=samples_values,\n",
    "    # We flip the signs of the samples\n",
    "    # to obey bw's convention\n",
    "    flip_array=np.array([True for _ in range(len(samples_values))]),\n",
    ")"
   ]
  },
  {
   "cell_type": "markdown",
   "id": "2b02fa2f-2040-4962-a7ef-ce395d98e70d",
   "metadata": {},
   "source": [
    "### Build the new data objects to re-do the LCA"
   ]
  },
  {
   "cell_type": "code",
   "execution_count": 48,
   "id": "9efd9600-2e06-4bb1-a490-c5a0b33b6793",
   "metadata": {},
   "outputs": [],
   "source": [
    "data_objs.append(dp_correlated)"
   ]
  },
  {
   "cell_type": "code",
   "execution_count": 49,
   "id": "dd4172ef-a14e-44b2-a93a-1b1056cdc2b1",
   "metadata": {},
   "outputs": [
    {
     "data": {
      "text/plain": [
       "0.1536399277298662"
      ]
     },
     "execution_count": 49,
     "metadata": {},
     "output_type": "execute_result"
    }
   ],
   "source": [
    "dp_lca = bc.LCA(demand=indexed_demand, data_objs=data_objs, use_arrays=True)\n",
    "dp_lca.lci()\n",
    "dp_lca.lcia()\n",
    "dp_lca.score"
   ]
  },
  {
   "cell_type": "code",
   "execution_count": 53,
   "id": "4472f108-ef69-4674-be08-ae0afd4657ba",
   "metadata": {},
   "outputs": [
    {
     "data": {
      "application/vnd.jupyter.widget-view+json": {
       "model_id": "fe594d3151fb47eaa5bb5b513185ced5",
       "version_major": 2,
       "version_minor": 0
      },
      "text/plain": [
       "  0%|          | 0/400 [00:00<?, ?it/s]"
      ]
     },
     "metadata": {},
     "output_type": "display_data"
    }
   ],
   "source": [
    "scores = []\n",
    "for _ in autonotebook.tqdm(range(400)):\n",
    "    next(dp_lca)\n",
    "    scores.append(dp_lca.score)"
   ]
  },
  {
   "cell_type": "code",
   "execution_count": 54,
   "id": "e1aa3718-a197-4ae1-8a03-487da7737085",
   "metadata": {},
   "outputs": [
    {
     "data": {
      "text/plain": [
       "0.15269161733122613"
      ]
     },
     "execution_count": 54,
     "metadata": {},
     "output_type": "execute_result"
    }
   ],
   "source": [
    "scores_a = np.array(scores)\n",
    "scores_a.mean()"
   ]
  },
  {
   "cell_type": "code",
   "execution_count": 55,
   "id": "faabe8a8-238b-4e27-99e4-3035b63f924c",
   "metadata": {},
   "outputs": [],
   "source": [
    "scores_a_s = pd.Series(scores_a)"
   ]
  },
  {
   "cell_type": "code",
   "execution_count": 56,
   "id": "a0b84c3a-8eaf-42cb-8d53-a96a8810eb1b",
   "metadata": {},
   "outputs": [
    {
     "data": {
      "text/plain": [
       "count    400.000000\n",
       "mean       0.152692\n",
       "std        0.001239\n",
       "min        0.148782\n",
       "25%        0.151874\n",
       "50%        0.152704\n",
       "75%        0.153548\n",
       "max        0.156227\n",
       "dtype: float64"
      ]
     },
     "execution_count": 56,
     "metadata": {},
     "output_type": "execute_result"
    }
   ],
   "source": [
    "scores_a_s.describe()"
   ]
  }
 ],
 "metadata": {
  "kernelspec": {
   "display_name": "Python 3 (ipykernel)",
   "language": "python",
   "name": "python3"
  },
  "language_info": {
   "codemirror_mode": {
    "name": "ipython",
    "version": 3
   },
   "file_extension": ".py",
   "mimetype": "text/x-python",
   "name": "python",
   "nbconvert_exporter": "python",
   "pygments_lexer": "ipython3",
   "version": "3.11.8"
  }
 },
 "nbformat": 4,
 "nbformat_minor": 5
}
