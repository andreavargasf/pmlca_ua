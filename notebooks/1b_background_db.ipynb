{
 "cells": [
  {
   "cell_type": "markdown",
   "id": "54b3b037-954f-469f-a2e2-a535ed814329",
   "metadata": {},
   "source": [
    "# Modify Background Database\n",
    "\n",
    "In this project, certain processes based on exisiting processes contained in the background databases must be added to their respective background database. These processes are based on:\n",
    "\n",
    "- diesel, burned in building machine, from `EI_DB_NAME`\n",
    "- transport, freight, lorry 7.5-16 metric ton, EURO5 - RER, from `EI_DB_NAME`\n",
    "- transport, passenger car, medium size, petrol, EURO 5, from `EI_DB_NAME`\n",
    "- basalt quarry operation, from `EI_DB_NAME`\n"
   ]
  },
  {
   "cell_type": "code",
   "execution_count": 1,
   "id": "545a8324-3000-45b4-8ca2-905e5cf8bb6a",
   "metadata": {},
   "outputs": [],
   "source": [
    "import bw2data as bd\n",
    "import bw2io as bi"
   ]
  },
  {
   "cell_type": "code",
   "execution_count": 3,
   "id": "720331fa-eca1-483a-8c36-2590e0bcbcca",
   "metadata": {},
   "outputs": [],
   "source": [
    "#Importing the variables with the project name and background db\n",
    "from project_details import EI_DB_NAME, PROJECT_NAME"
   ]
  },
  {
   "cell_type": "code",
   "execution_count": 4,
   "id": "5cb03f8c-8ec6-4472-ade9-a498cd029e6f",
   "metadata": {},
   "outputs": [
    {
     "data": {
      "text/plain": [
       "Databases dictionary with 2 object(s):\n",
       "\tbiosphere3\n",
       "\tecoinvent-391-cutoff"
      ]
     },
     "execution_count": 4,
     "metadata": {},
     "output_type": "execute_result"
    }
   ],
   "source": [
    "#Set project\n",
    "bd.projects.set_current(PROJECT_NAME)\n",
    "#Check databases included in project\n",
    "bd.databases"
   ]
  },
  {
   "cell_type": "code",
   "execution_count": 5,
   "id": "694b9621-d706-4d42-aa02-46d48e052bb4",
   "metadata": {},
   "outputs": [],
   "source": [
    "# Is the background database name the same as the one we wrote in `propject_details.py`?\n",
    "assert EI_DB_NAME in bd.databases"
   ]
  },
  {
   "cell_type": "markdown",
   "id": "f090e043-df41-4d82-ae7f-a620c0cd1b04",
   "metadata": {},
   "source": [
    "## Adding modified diesel processes\n",
    "First, two processes based on the ecoinvent process \"diesel, burned in building machine\" must be added. These processes correspond to the diesel consumption attributed to the machinery use to lay and mill asphalt during the construction (A5) and EOL (C1) life cycle phases of our system under analysis. Therefore, we will create two processes named as follows:\n",
    "\n",
    "- A5, diesel, burned in building machine\n",
    "- C1, diesel, burned in building machine\n",
    "\n",
    "The emissions of these processes are modified to comply with the specifications of the [NL-PCR](https://www.bouwendnederland.nl/media/12923/pcr-asfalt-v20.pdf).\n",
    "\n",
    "The emissions that we are modifying and their respective new values are:\n",
    "\n",
    "| Name                                               | A5 (kg)               | C1 (kg)               |\n",
    "|----------------------------------------------------|-----------------------|-----------------------|\n",
    "| Ammonia                                            | 2.33222e-07           | 2.33222e-07           |\n",
    "| Carbon dioxide, fossil                            | 7.44086e-05           | 7.44086e-05           |\n",
    "| Carbon monoxide, fossil                           | 3.19444e-08           | 1.00901e-08           |\n",
    "| Dinitrogen monoxide                               | 4.99833e-10           | 4.99833e-10           |\n",
    "| Nitrogen oxides                                   | 7.67056e-08           | 3.83334e-08           |\n",
    "| NMVOC, non-methane volatile organic compounds     | 8.91294e-10           | 4.08334e-10           |\n",
    "| Particulate Matter, < 2.5 um                      | 1.29832e-09           | 1.63390e-09           |\n",
    "| Particulate Matter, > 10 um                       | 6.83056e-11           | 3.22335e-09           |\n",
    "| Particulate Matter, > 2.5 um and < 10um           | 1.23587e-09           | 1.89703e-09           |\n",
    "| Sulfur dioxide                                    | 4.66667e-10           | 4.66667e-10           |\n",
    "\n"
   ]
  },
  {
   "cell_type": "code",
   "execution_count": 8,
   "id": "b5259e31-ccc8-4b48-8bee-4487442affc3",
   "metadata": {},
   "outputs": [
    {
     "data": {
      "text/plain": [
       "['market for diesel, burned in building machine' (megajoule, GLO, None),\n",
       " 'diesel, burned in building machine' (megajoule, GLO, None),\n",
       " 'propane, burned in building machine' (megajoule, GLO, None),\n",
       " 'market for propane, burned in building machine' (megajoule, GLO, None),\n",
       " 'market for diesel, burned in diesel-electric generating set, 10MW' (megajoule, GLO, None)]"
      ]
     },
     "execution_count": 8,
     "metadata": {},
     "output_type": "execute_result"
    }
   ],
   "source": [
    "#Search for original diesel process in background database\n",
    "EI_DB = bd.Database(EI_DB_NAME)\n",
    "EI_DB.search('diesel, burned in building machine')"
   ]
  },
  {
   "cell_type": "code",
   "execution_count": 10,
   "id": "17ca25c5-eebf-4a10-bdf3-fbe42059552d",
   "metadata": {},
   "outputs": [],
   "source": [
    "#Copy existing diesel process\n",
    "diesel = EI_DB.search('diesel, burned in building machine')[1]\n",
    "diesel_A5 = diesel.copy(name='A5, diesel, burned in building machine') \n",
    "diesel_C1 = diesel.copy(name='C1, diesel, burned in building machine') "
   ]
  },
  {
   "cell_type": "code",
   "execution_count": 11,
   "id": "099bcbca-a03c-450b-858b-2128d65d0ccf",
   "metadata": {},
   "outputs": [
    {
     "data": {
      "text/plain": [
       "['market for diesel, burned in building machine' (megajoule, GLO, None),\n",
       " 'diesel, burned in building machine' (megajoule, GLO, None),\n",
       " 'A5, diesel, burned in building machine' (megajoule, GLO, None),\n",
       " 'C1, diesel, burned in building machine' (megajoule, GLO, None),\n",
       " 'propane, burned in building machine' (megajoule, GLO, None),\n",
       " 'market for propane, burned in building machine' (megajoule, GLO, None),\n",
       " 'market for diesel, burned in diesel-electric generating set, 10MW' (megajoule, GLO, None)]"
      ]
     },
     "execution_count": 11,
     "metadata": {},
     "output_type": "execute_result"
    }
   ],
   "source": [
    "#Check that new processes are saved to background database\n",
    "EI_DB = bd.Database(EI_DB_NAME)\n",
    "EI_DB.search('diesel, burned in building machine')"
   ]
  },
  {
   "cell_type": "code",
   "execution_count": 12,
   "id": "409925df-704d-4949-8144-9d491d9078ba",
   "metadata": {},
   "outputs": [
    {
     "name": "stdout",
     "output_type": "stream",
     "text": [
      "Exchange: 1.0 megajoule 'A5, diesel, burned in building machine' (megajoule, GLO, None) to 'A5, diesel, burned in building machine' (megajoule, GLO, None)>\n",
      "Exchange: 1.34e-07 unit 'market for building machine' (unit, GLO, None) to 'A5, diesel, burned in building machine' (megajoule, GLO, None)>\n",
      "Exchange: 0.0234 kilogram 'market group for diesel' (kilogram, GLO, None) to 'A5, diesel, burned in building machine' (megajoule, GLO, None)>\n",
      "Exchange: 8.943599999999386e-05 kilogram 'market for lubricating oil' (kilogram, RER, None) to 'A5, diesel, burned in building machine' (megajoule, GLO, None)>\n",
      "Exchange: 0.00042456400000000623 kilogram 'market for lubricating oil' (kilogram, RoW, None) to 'A5, diesel, burned in building machine' (megajoule, GLO, None)>\n",
      "Exchange: -0.0003694187171108785 kilogram 'market for waste mineral oil' (kilogram, RoW, None) to 'A5, diesel, burned in building machine' (megajoule, GLO, None)>\n",
      "Exchange: -0.00014108849302253373 kilogram 'market for waste mineral oil' (kilogram, Europe without Switzerland, None) to 'A5, diesel, burned in building machine' (megajoule, GLO, None)>\n",
      "Exchange: -3.4927898665877724e-06 kilogram 'market for waste mineral oil' (kilogram, CH, None) to 'A5, diesel, burned in building machine' (megajoule, GLO, None)>\n",
      "Exchange: 4.67e-07 kilogram 'Ammonia' (kilogram, None, ('air',)) to 'A5, diesel, burned in building machine' (megajoule, GLO, None)>\n",
      "Exchange: 7.01e-10 kilogram 'Benzo(a)pyrene' (kilogram, None, ('air',)) to 'A5, diesel, burned in building machine' (megajoule, GLO, None)>\n",
      "Exchange: 2.34e-10 kilogram 'Cadmium II' (kilogram, None, ('air',)) to 'A5, diesel, burned in building machine' (megajoule, GLO, None)>\n",
      "Exchange: 0.073 kilogram 'Carbon dioxide, fossil' (kilogram, None, ('air',)) to 'A5, diesel, burned in building machine' (megajoule, GLO, None)>\n",
      "Exchange: 0.000266 kilogram 'Carbon monoxide, fossil' (kilogram, None, ('air',)) to 'A5, diesel, burned in building machine' (megajoule, GLO, None)>\n",
      "Exchange: 1.17e-09 kilogram 'Chromium III' (kilogram, None, ('air',)) to 'A5, diesel, burned in building machine' (megajoule, GLO, None)>\n",
      "Exchange: 3.97e-08 kilogram 'Copper ion' (kilogram, None, ('air',)) to 'A5, diesel, burned in building machine' (megajoule, GLO, None)>\n",
      "Exchange: 2.8e-06 kilogram 'Dinitrogen monoxide' (kilogram, None, ('air',)) to 'A5, diesel, burned in building machine' (megajoule, GLO, None)>\n",
      "Exchange: 1.4e-15 kilogram 'Dioxins, measured as 2,3,7,8-tetrachlorodibenzo-p-dioxin' (kilogram, None, ('air',)) to 'A5, diesel, burned in building machine' (megajoule, GLO, None)>\n",
      "Exchange: 3.75e-06 kilogram 'Methane, fossil' (kilogram, None, ('air',)) to 'A5, diesel, burned in building machine' (megajoule, GLO, None)>\n",
      "Exchange: 0.000121 kilogram 'NMVOC, non-methane volatile organic compounds' (kilogram, None, ('air',)) to 'A5, diesel, burned in building machine' (megajoule, GLO, None)>\n",
      "Exchange: 1.64e-09 kilogram 'Nickel II' (kilogram, None, ('air',)) to 'A5, diesel, burned in building machine' (megajoule, GLO, None)>\n",
      "Exchange: 0.00103 kilogram 'Nitrogen oxides' (kilogram, None, ('air',)) to 'A5, diesel, burned in building machine' (megajoule, GLO, None)>\n",
      "Exchange: 7.85e-08 kilogram 'PAH, polycyclic aromatic hydrocarbons' (kilogram, None, ('air',)) to 'A5, diesel, burned in building machine' (megajoule, GLO, None)>\n",
      "Exchange: 9.43e-05 kilogram 'Particulate Matter, < 2.5 um' (kilogram, None, ('air',)) to 'A5, diesel, burned in building machine' (megajoule, GLO, None)>\n",
      "Exchange: 6.28e-06 kilogram 'Particulate Matter, > 10 um' (kilogram, None, ('air',)) to 'A5, diesel, burned in building machine' (megajoule, GLO, None)>\n",
      "Exchange: 4.19e-06 kilogram 'Particulate Matter, > 2.5 um and < 10um' (kilogram, None, ('air',)) to 'A5, diesel, burned in building machine' (megajoule, GLO, None)>\n",
      "Exchange: 2.34e-10 kilogram 'Selenium IV' (kilogram, None, ('air',)) to 'A5, diesel, burned in building machine' (megajoule, GLO, None)>\n",
      "Exchange: 2.36e-05 kilogram 'Sulfur dioxide' (kilogram, None, ('air',)) to 'A5, diesel, burned in building machine' (megajoule, GLO, None)>\n",
      "Exchange: 2.34e-08 kilogram 'Zinc II' (kilogram, None, ('air',)) to 'A5, diesel, burned in building machine' (megajoule, GLO, None)>\n"
     ]
    }
   ],
   "source": [
    "#Look at exhanges characterizing activity\n",
    "for exc in diesel_A5.exchanges():\n",
    "    print(exc)"
   ]
  },
  {
   "cell_type": "code",
   "execution_count": 14,
   "id": "837fa627-2b75-4f75-82c3-9ae5b75f869b",
   "metadata": {},
   "outputs": [
    {
     "data": {
      "text/plain": [
       "{'flow': '87883a4e-1e3e-4c9d-90c0-f1bea36f8014',\n",
       " 'type': 'biosphere',\n",
       " 'name': 'Ammonia',\n",
       " 'classifications': {'CPC': []},\n",
       " 'production volume': 0.0,\n",
       " 'properties': {'carbon allocation': {'amount': 0.0, 'unit': 'kg'},\n",
       "  'carbon content': {'amount': 0.0, 'unit': 'dimensionless'},\n",
       "  'carbon content, fossil': {'amount': 0.0, 'unit': 'dimensionless'},\n",
       "  'carbon content, non-fossil': {'amount': 0.0, 'unit': 'dimensionless'},\n",
       "  'dry mass': {'amount': 1.0, 'unit': 'kg'},\n",
       "  'water content': {'amount': 0.0,\n",
       "   'comment': 'water mass/dry mass',\n",
       "   'unit': 'dimensionless'},\n",
       "  'water in wet mass': {'amount': 0.0, 'unit': 'kg'},\n",
       "  'wet mass': {'amount': 1.0, 'unit': 'kg'}},\n",
       " 'unit': 'kilogram',\n",
       " 'amount': 4.67e-07,\n",
       " 'pedigree': {'reliability': 1,\n",
       "  'completeness': 5,\n",
       "  'temporal correlation': 5,\n",
       "  'geographical correlation': 3,\n",
       "  'further technological correlation': 1},\n",
       " 'uncertainty type': 2,\n",
       " 'loc': -14.576936579277515,\n",
       " 'scale': 0.3132091952673165,\n",
       " 'scale without pedigree': 0.22360679774997896,\n",
       " 'input': ('biosphere3', '87883a4e-1e3e-4c9d-90c0-f1bea36f8014'),\n",
       " 'output': ('ecoinvent-391-cutoff', '50aace6627f8438488f9c0c1ab58e8a7')}"
      ]
     },
     "execution_count": 14,
     "metadata": {},
     "output_type": "execute_result"
    }
   ],
   "source": [
    "#detail look to exchanges of interest\n",
    "[exc for exc in diesel_A5.exchanges()][8].as_dict() #Ammonia"
   ]
  },
  {
   "cell_type": "code",
   "execution_count": 15,
   "id": "6da97f56-c797-42c3-bc16-6f495d6651b0",
   "metadata": {},
   "outputs": [],
   "source": [
    "#Create dictionaries with new emissions for each activity\n",
    "A5_emissions = [\n",
    "    {\"name\": \"Ammonia\", \"amount\": 2.33222e-07},\n",
    "    {\"name\": \"Carbon dioxide, fossil\", \"amount\": 7.44086e-05},\n",
    "    {\"name\": \"Carbon monoxide, fossil\", \"amount\": 3.19444e-08},\n",
    "    {\"name\": \"Dinitrogen monoxide\", \"amount\": 4.99833e-10},\n",
    "    {\"name\": \"Nitrogen oxides\", \"amount\": 7.67056e-08},\n",
    "    {\"name\": \"NMVOC, non-methane volatile organic compounds\", \"amount\": 8.91294e-10},\n",
    "    {\"name\": \"Particulate Matter, < 2.5 um\", \"amount\": 1.29832e-09},\n",
    "    {\"name\": \"Particulate Matter, > 10 um\", \"amount\": 6.83056e-11},\n",
    "    {\"name\": \"Particulate Matter, > 2.5 um and < 10um\", \"amount\": 1.23587e-09},\n",
    "    {\"name\": \"Sulfur dioxide\", \"amount\": 4.66667e-10}\n",
    "]\n",
    "\n",
    "C1_emissions = [\n",
    "    {\"name\": \"Ammonia\", \"amount\": 2.33222e-07},\n",
    "    {\"name\": \"Carbon dioxide, fossil\", \"amount\": 7.44086e-05},\n",
    "    {\"name\": \"Carbon monoxide, fossil\", \"amount\": 1.00901e-08},\n",
    "    {\"name\": \"Dinitrogen monoxide\", \"amount\": 4.99833e-10},\n",
    "    {\"name\": \"Nitrogen oxides\", \"amount\": 3.83334e-08},\n",
    "    {\"name\": \"NMVOC, non-methane volatile organic compounds\", \"amount\": 4.08334e-10},\n",
    "    {\"name\": \"Particulates, <2.5 µm\", \"amount\": 1.63390e-09},\n",
    "    {\"name\": \"Particulates, >2.5 µm and <10 µm\", \"amount\": 3.22335e-09},\n",
    "    {\"name\": \"Particulates, >10 µm\", \"amount\": 1.89703e-09},\n",
    "    {\"name\": \"Sulphur dioxide\", \"amount\": 4.66667e-10}\n",
    "]"
   ]
  },
  {
   "cell_type": "markdown",
   "id": "c6c6109f-8194-4558-a595-055172fafa18",
   "metadata": {},
   "source": [
    "Now we modify the exchanges of the new activities"
   ]
  },
  {
   "cell_type": "code",
   "execution_count": 18,
   "id": "32ee9e31-893f-4945-bf68-c0780d75814a",
   "metadata": {},
   "outputs": [],
   "source": [
    "# Iterate over exchanges in diesel_A5\n",
    "for exc in diesel_A5.exchanges():\n",
    "    # Check if the exchange name is in A5_emissions\n",
    "    for emission in A5_emissions:\n",
    "        if exc['name'] == emission['name']:\n",
    "            # Update the amount in the exchange\n",
    "            exc['amount'] = emission['amount']\n",
    "            exc.save()\n",
    "            break  # Exit the loop once the exchange is found"
   ]
  },
  {
   "cell_type": "code",
   "execution_count": 20,
   "id": "c19158a5-3421-45d5-bc20-beb948e0ed6e",
   "metadata": {},
   "outputs": [],
   "source": [
    "#Iterate over exchanges in diesel_C1\n",
    "for exc in diesel_C1.exchanges():\n",
    "    # Check if the exchange name is in C1_emissions\n",
    "    for emission in C1_emissions:\n",
    "        if exc['name'] == emission['name']:\n",
    "            # Update the amount in the exchange\n",
    "            exc['amount'] = emission['amount']\n",
    "            exc.save()\n",
    "            break  # Exit the loop once the exchange is found"
   ]
  },
  {
   "cell_type": "markdown",
   "id": "b9f03379-2291-4f33-a028-c6b5e282bfa6",
   "metadata": {},
   "source": [
    "And check if exchanges amounts were indeed updated"
   ]
  },
  {
   "cell_type": "code",
   "execution_count": 19,
   "id": "1e9e3ec7-2833-486d-a0ca-de563f3f0244",
   "metadata": {},
   "outputs": [
    {
     "name": "stdout",
     "output_type": "stream",
     "text": [
      "Exchange: 1.0 megajoule 'A5, diesel, burned in building machine' (megajoule, GLO, None) to 'A5, diesel, burned in building machine' (megajoule, GLO, None)>\n",
      "Exchange: 1.34e-07 unit 'market for building machine' (unit, GLO, None) to 'A5, diesel, burned in building machine' (megajoule, GLO, None)>\n",
      "Exchange: 0.0234 kilogram 'market group for diesel' (kilogram, GLO, None) to 'A5, diesel, burned in building machine' (megajoule, GLO, None)>\n",
      "Exchange: 8.943599999999386e-05 kilogram 'market for lubricating oil' (kilogram, RER, None) to 'A5, diesel, burned in building machine' (megajoule, GLO, None)>\n",
      "Exchange: 0.00042456400000000623 kilogram 'market for lubricating oil' (kilogram, RoW, None) to 'A5, diesel, burned in building machine' (megajoule, GLO, None)>\n",
      "Exchange: -0.0003694187171108785 kilogram 'market for waste mineral oil' (kilogram, RoW, None) to 'A5, diesel, burned in building machine' (megajoule, GLO, None)>\n",
      "Exchange: -0.00014108849302253373 kilogram 'market for waste mineral oil' (kilogram, Europe without Switzerland, None) to 'A5, diesel, burned in building machine' (megajoule, GLO, None)>\n",
      "Exchange: -3.4927898665877724e-06 kilogram 'market for waste mineral oil' (kilogram, CH, None) to 'A5, diesel, burned in building machine' (megajoule, GLO, None)>\n",
      "Exchange: 2.33222e-07 kilogram 'Ammonia' (kilogram, None, ('air',)) to 'A5, diesel, burned in building machine' (megajoule, GLO, None)>\n",
      "Exchange: 7.01e-10 kilogram 'Benzo(a)pyrene' (kilogram, None, ('air',)) to 'A5, diesel, burned in building machine' (megajoule, GLO, None)>\n",
      "Exchange: 2.34e-10 kilogram 'Cadmium II' (kilogram, None, ('air',)) to 'A5, diesel, burned in building machine' (megajoule, GLO, None)>\n",
      "Exchange: 7.44086e-05 kilogram 'Carbon dioxide, fossil' (kilogram, None, ('air',)) to 'A5, diesel, burned in building machine' (megajoule, GLO, None)>\n",
      "Exchange: 3.19444e-08 kilogram 'Carbon monoxide, fossil' (kilogram, None, ('air',)) to 'A5, diesel, burned in building machine' (megajoule, GLO, None)>\n",
      "Exchange: 1.17e-09 kilogram 'Chromium III' (kilogram, None, ('air',)) to 'A5, diesel, burned in building machine' (megajoule, GLO, None)>\n",
      "Exchange: 3.97e-08 kilogram 'Copper ion' (kilogram, None, ('air',)) to 'A5, diesel, burned in building machine' (megajoule, GLO, None)>\n",
      "Exchange: 4.99833e-10 kilogram 'Dinitrogen monoxide' (kilogram, None, ('air',)) to 'A5, diesel, burned in building machine' (megajoule, GLO, None)>\n",
      "Exchange: 1.4e-15 kilogram 'Dioxins, measured as 2,3,7,8-tetrachlorodibenzo-p-dioxin' (kilogram, None, ('air',)) to 'A5, diesel, burned in building machine' (megajoule, GLO, None)>\n",
      "Exchange: 3.75e-06 kilogram 'Methane, fossil' (kilogram, None, ('air',)) to 'A5, diesel, burned in building machine' (megajoule, GLO, None)>\n",
      "Exchange: 8.91294e-10 kilogram 'NMVOC, non-methane volatile organic compounds' (kilogram, None, ('air',)) to 'A5, diesel, burned in building machine' (megajoule, GLO, None)>\n",
      "Exchange: 1.64e-09 kilogram 'Nickel II' (kilogram, None, ('air',)) to 'A5, diesel, burned in building machine' (megajoule, GLO, None)>\n",
      "Exchange: 7.67056e-08 kilogram 'Nitrogen oxides' (kilogram, None, ('air',)) to 'A5, diesel, burned in building machine' (megajoule, GLO, None)>\n",
      "Exchange: 7.85e-08 kilogram 'PAH, polycyclic aromatic hydrocarbons' (kilogram, None, ('air',)) to 'A5, diesel, burned in building machine' (megajoule, GLO, None)>\n",
      "Exchange: 1.29832e-09 kilogram 'Particulate Matter, < 2.5 um' (kilogram, None, ('air',)) to 'A5, diesel, burned in building machine' (megajoule, GLO, None)>\n",
      "Exchange: 6.83056e-11 kilogram 'Particulate Matter, > 10 um' (kilogram, None, ('air',)) to 'A5, diesel, burned in building machine' (megajoule, GLO, None)>\n",
      "Exchange: 1.23587e-09 kilogram 'Particulate Matter, > 2.5 um and < 10um' (kilogram, None, ('air',)) to 'A5, diesel, burned in building machine' (megajoule, GLO, None)>\n",
      "Exchange: 2.34e-10 kilogram 'Selenium IV' (kilogram, None, ('air',)) to 'A5, diesel, burned in building machine' (megajoule, GLO, None)>\n",
      "Exchange: 4.66667e-10 kilogram 'Sulfur dioxide' (kilogram, None, ('air',)) to 'A5, diesel, burned in building machine' (megajoule, GLO, None)>\n",
      "Exchange: 2.34e-08 kilogram 'Zinc II' (kilogram, None, ('air',)) to 'A5, diesel, burned in building machine' (megajoule, GLO, None)>\n"
     ]
    }
   ],
   "source": [
    "#Look at exhanges characterizing activity diesel_A5\n",
    "for exc in diesel_A5.exchanges():\n",
    "    print(exc)"
   ]
  },
  {
   "cell_type": "markdown",
   "id": "14256751-8ae3-4bb9-a477-2ae38ef0664b",
   "metadata": {},
   "source": [
    "## Adding modified transport processes\n",
    "\n",
    "Two new transport processes to model the extra fuel consumption due to pavement deterioration in the use phase (B) must be added to the background. These processes are based on the following ecoinvent processes:\n",
    "\n",
    "The new processes are modified to only include the exchanges related to fuel (diesel and petrol). The name of the new processes is:\n",
    "\n",
    "- transport, freight, lorry 7.5-16 metric ton, EURO5 \n",
    "- transport, passenger car, medium size, petrol, EURO 5 \n",
    "\n",
    "The new processes are modified to only include the technosphere exchanges related to fuel (diesel and petrol). The names of the new processeses are:\n",
    "- B, transport, freight, lorry 7.5-16 metric ton, EURO5 \n",
    "- B, transport, passenger car, medium size, petrol, EURO 5"
   ]
  },
  {
   "cell_type": "code",
   "execution_count": 26,
   "id": "ffe5c441-1858-41aa-a175-cb63eecce47c",
   "metadata": {},
   "outputs": [
    {
     "data": {
      "text/plain": [
       "['transport, freight, lorry 7.5-16 metric ton, EURO5' (ton kilometer, BR, None),\n",
       " 'market for transport, freight, lorry 7.5-16 metric ton, EURO5' (ton kilometer, BR, None),\n",
       " 'market for transport, freight, lorry 7.5-16 metric ton, EURO5' (ton kilometer, RER, None),\n",
       " 'market for transport, freight, lorry 7.5-16 metric ton, EURO5' (ton kilometer, RoW, None),\n",
       " 'transport, freight, lorry 7.5-16 metric ton, EURO5' (ton kilometer, RER, None),\n",
       " 'transport, freight, lorry 7.5-16 metric ton, EURO5' (ton kilometer, RoW, None),\n",
       " 'transport, freight, lorry >32 metric ton, EURO5' (ton kilometer, RER, None),\n",
       " 'transport, freight, lorry >32 metric ton, EURO5' (ton kilometer, RoW, None),\n",
       " 'market for transport, freight, lorry with refrigeration machine, 7.5-16 ton, EURO5, R134a refrigerant, cooling' (ton kilometer, GLO, None),\n",
       " 'market for transport, freight, lorry with refrigeration machine, 7.5-16 ton, EURO5, R134a refrigerant, freezing' (ton kilometer, GLO, None),\n",
       " 'transport, freight, lorry 3.5-7.5 metric ton, EURO5' (ton kilometer, RER, None),\n",
       " 'transport, freight, lorry 16-32 metric ton, EURO5' (ton kilometer, RER, None),\n",
       " 'transport, freight, lorry 16-32 metric ton, EURO5' (ton kilometer, RoW, None),\n",
       " 'transport, freight, lorry 3.5-7.5 metric ton, EURO5' (ton kilometer, RoW, None),\n",
       " 'market for transport, freight, lorry with refrigeration machine, 7.5-16 ton, EURO5, carbon dioxide, liquid refrig(...)_8' (ton kilometer, GLO, None),\n",
       " 'market for transport, freight, lorry with refrigeration machine, 7.5-16 ton, EURO5, carbon dioxide, liquid refri(...)_16' (ton kilometer, GLO, None)]"
      ]
     },
     "execution_count": 26,
     "metadata": {},
     "output_type": "execute_result"
    }
   ],
   "source": [
    "#Search for transport processes in background database\n",
    "EI_DB.search('transport, freight, lorry 7.5-16 metric ton, EURO5')"
   ]
  },
  {
   "cell_type": "code",
   "execution_count": 27,
   "id": "ac7cacc5-c5c7-40c6-bc90-d2745bfbb145",
   "metadata": {},
   "outputs": [
    {
     "data": {
      "text/plain": [
       "['transport, passenger car, medium size, petrol, EURO 5' (kilometer, RoW, None),\n",
       " 'transport, passenger car, medium size, petrol, EURO 5' (kilometer, RER, None),\n",
       " 'market for transport, passenger car, medium size, petrol, EURO 5' (kilometer, GLO, None),\n",
       " 'transport, passenger car, small size, petrol, EURO 5' (kilometer, RER, None),\n",
       " 'transport, passenger car, large size, petrol, EURO 5' (kilometer, RER, None),\n",
       " 'transport, passenger car, small size, petrol, EURO 5' (kilometer, RoW, None),\n",
       " 'transport, passenger car, large size, petrol, EURO 5' (kilometer, RoW, None),\n",
       " 'transport, passenger car, medium size, diesel, EURO 5' (kilometer, RoW, None),\n",
       " 'transport, passenger car, medium size, diesel, EURO 5' (kilometer, RER, None),\n",
       " 'transport, passenger car, medium size, natural gas, EURO 5' (kilometer, RER, None),\n",
       " 'transport, passenger car, medium size, natural gas, EURO 5' (kilometer, RoW, None),\n",
       " 'transport, passenger car, small size, diesel, EURO 5' (kilometer, RER, None),\n",
       " 'transport, passenger car, small size, diesel, EURO 5' (kilometer, RoW, None),\n",
       " 'transport, passenger car, large size, diesel, EURO 5' (kilometer, RER, None),\n",
       " 'transport, passenger car, large size, diesel, EURO 5' (kilometer, RoW, None),\n",
       " 'transport, passenger car, small size, natural gas, EURO 5' (kilometer, RER, None),\n",
       " 'transport, passenger car, small size, natural gas, EURO 5' (kilometer, RoW, None),\n",
       " 'transport, passenger car, large size, natural gas, EURO 5' (kilometer, RER, None),\n",
       " 'transport, passenger car, large size, natural gas, EURO 5' (kilometer, RoW, None),\n",
       " 'transport, passenger car, medium size, liquefied petroleum gas (LPG), EURO 5' (kilometer, GLO, None)]"
      ]
     },
     "execution_count": 27,
     "metadata": {},
     "output_type": "execute_result"
    }
   ],
   "source": [
    "EI_DB.search('transport, passenger car, medium size, petrol, EURO 5')"
   ]
  },
  {
   "cell_type": "code",
   "execution_count": 55,
   "id": "f076fa1d-4452-4cd9-a446-5c7f344d62f0",
   "metadata": {},
   "outputs": [],
   "source": [
    "#Copy existing lorry process\n",
    "lorry = EI_DB.search('transport, freight, lorry 7.5-16 metric ton, EURO5')[4]\n",
    "lorry_B = lorry.copy(name='B, transport, freight, lorry 7.5-16 metric ton, EURO5') "
   ]
  },
  {
   "cell_type": "code",
   "execution_count": null,
   "id": "052db8e4-1e70-40c1-9904-43ba4f80384f",
   "metadata": {},
   "outputs": [],
   "source": [
    "#Copy existing car process\n",
    "car = EI_DB.search('transport, passenger car, medium size, petrol, EURO 5')[1]\n",
    "car_B = car.copy(name='B, transport, passenger car, medium size, petrol, EURO 5') "
   ]
  },
  {
   "cell_type": "code",
   "execution_count": 56,
   "id": "323cb722-b19c-47a9-bb0b-a617af27b7eb",
   "metadata": {},
   "outputs": [
    {
     "data": {
      "text/plain": [
       "['B, transport, freight, lorry 7.5-16 metric ton, EURO5' (ton kilometer, RER, None),\n",
       " 'B, transport, passenger car, medium size, petrol, EURO 5' (kilometer, RER, None),\n",
       " 'market for cement, CEM III/B' (kilogram, Europe without Switzerland, None),\n",
       " 'market for cement, CEM III/B' (kilogram, CH, None),\n",
       " 'market for cement, CEM II/B' (kilogram, Europe without Switzerland, None),\n",
       " 'market for cement, CEM IV/B' (kilogram, Europe without Switzerland, None),\n",
       " 'market for cement, CEM V/B' (kilogram, Europe without Switzerland, None),\n",
       " 'market for cement, CEM V/B' (kilogram, CH, None),\n",
       " 'market for cement, CEM II/B' (kilogram, CH, None),\n",
       " 'market for cement, CEM IV/B' (kilogram, CH, None),\n",
       " 'market for cement, CEM III/B' (kilogram, RoW, None),\n",
       " 'market for cement, CEM V/B' (kilogram, RoW, None),\n",
       " 'market for cement, CEM IV/B' (kilogram, RoW, None),\n",
       " 'market for cement, CEM II/B' (kilogram, RoW, None),\n",
       " 'market for cement, CEM II/B-S' (kilogram, ZA, None),\n",
       " 'market for cement, CEM II/B-L' (kilogram, ZA, None),\n",
       " 'market for cement, CEM II/B-V' (kilogram, ZA, None)]"
      ]
     },
     "execution_count": 56,
     "metadata": {},
     "output_type": "execute_result"
    }
   ],
   "source": [
    "#Verify that the new transport processes were recorded\n",
    "EI_DB.search('B, transport,')"
   ]
  },
  {
   "cell_type": "markdown",
   "id": "2f9532e1-b6a9-407f-b26a-114e42271706",
   "metadata": {},
   "source": [
    "First, let's update B, transport, freight, lorry 7.5-16 metric ton, EURO5"
   ]
  },
  {
   "cell_type": "code",
   "execution_count": 57,
   "id": "1b48a65b-b815-4f42-8399-c01b67d28f0b",
   "metadata": {},
   "outputs": [
    {
     "name": "stdout",
     "output_type": "stream",
     "text": [
      "Exchange: -2.29493343465046e-05 kilogram 'market for brake wear emissions, lorry' (kilogram, GLO, None) to 'B, transport, freight, lorry 7.5-16 metric ton, EURO5' (ton kilometer, RER, None)>\n",
      "Exchange: 0.047302103 kilogram 'market group for diesel, low-sulfur' (kilogram, RER, None) to 'B, transport, freight, lorry 7.5-16 metric ton, EURO5' (ton kilometer, RER, None)>\n",
      "Exchange: 5.63e-07 unit 'market for lorry, 16 metric ton' (unit, RER, None) to 'B, transport, freight, lorry 7.5-16 metric ton, EURO5' (ton kilometer, RER, None)>\n",
      "Exchange: 5.63e-07 unit 'market for maintenance, lorry 16 metric ton' (unit, RER, None) to 'B, transport, freight, lorry 7.5-16 metric ton, EURO5' (ton kilometer, RER, None)>\n",
      "Exchange: 0.00109 meter-year 'market for road' (meter-year, GLO, None) to 'B, transport, freight, lorry 7.5-16 metric ton, EURO5' (ton kilometer, RER, None)>\n",
      "Exchange: 0.000392949198718733 meter-year 'market for road maintenance' (meter-year, RER, None) to 'B, transport, freight, lorry 7.5-16 metric ton, EURO5' (ton kilometer, RER, None)>\n",
      "Exchange: -1.97595744680851e-05 kilogram 'market for road wear emissions, lorry' (kilogram, GLO, None) to 'B, transport, freight, lorry 7.5-16 metric ton, EURO5' (ton kilometer, RER, None)>\n",
      "Exchange: -0.000227376246200608 kilogram 'market for tyre wear emissions, lorry' (kilogram, GLO, None) to 'B, transport, freight, lorry 7.5-16 metric ton, EURO5' (ton kilometer, RER, None)>\n"
     ]
    }
   ],
   "source": [
    "#Look at technosphere exhanges characterizing activity lorry_B\n",
    "for exc in lorry_B.technosphere():\n",
    "    print(exc)"
   ]
  },
  {
   "cell_type": "code",
   "execution_count": 58,
   "id": "0a9a3d30-3d78-4a4c-adb7-8d2f36ac6417",
   "metadata": {},
   "outputs": [
    {
     "data": {
      "text/plain": [
       "{'flow': 'b80eb2d5-1256-41bb-a61d-83252d0dfd4d',\n",
       " 'type': 'technosphere',\n",
       " 'name': 'diesel, low-sulfur',\n",
       " 'classifications': {'CPC': ['33360: Gas oil']},\n",
       " 'production volume': 0.0,\n",
       " 'properties': {'carbon allocation': {'amount': 0.865, 'unit': 'kg'},\n",
       "  'carbon content': {'amount': 0.865, 'unit': 'dimensionless'},\n",
       "  'carbon content, fossil': {'amount': 0.865,\n",
       "   'comment': 'C-content of diesel low-sulfur is 86.5% (ecoinvent v2.2 report 6_IV, Tab 3.14)',\n",
       "   'unit': 'dimensionless'},\n",
       "  'carbon content, non-fossil': {'amount': 0.0, 'unit': 'dimensionless'},\n",
       "  'dry mass': {'amount': 1.0, 'unit': 'kg'},\n",
       "  'heating value, net': {'amount': 42.8,\n",
       "   'comment': 'Based on literature, page 16, Report6, part 4',\n",
       "   'unit': 'MJ'},\n",
       "  'water content': {'amount': 0.0,\n",
       "   'comment': 'water mass/dry mass',\n",
       "   'unit': 'dimensionless'},\n",
       "  'water in wet mass': {'amount': 0.0, 'unit': 'kg'},\n",
       "  'wet mass': {'amount': 1.0, 'unit': 'kg'}},\n",
       " 'activity': '427d868d-e90c-5da5-bde4-ff61ebd30a6f',\n",
       " 'unit': 'kilogram',\n",
       " 'comment': 'Literature value. Derived from HBEFA database (Keller, 2010).',\n",
       " 'amount': 0.047302103,\n",
       " 'pedigree': {'reliability': 2,\n",
       "  'completeness': 2,\n",
       "  'temporal correlation': 5,\n",
       "  'geographical correlation': 1,\n",
       "  'further technological correlation': 1},\n",
       " 'uncertainty type': 2,\n",
       " 'loc': -3.0512005235846567,\n",
       " 'scale': 0.20322401432901577,\n",
       " 'scale without pedigree': 0.02449489742783178,\n",
       " 'input': ('ecoinvent-391-cutoff', 'dd8c4592566324f305c02bded60371cc'),\n",
       " 'output': ('ecoinvent-391-cutoff', '6d41b0cf53994a7a92769bbacc47ae06')}"
      ]
     },
     "execution_count": 58,
     "metadata": {},
     "output_type": "execute_result"
    }
   ],
   "source": [
    "#detail look to exchanges of interest\n",
    "[exc for exc in lorry_B.technosphere()][1].as_dict() #market group for diesel, low-sulfur"
   ]
  },
  {
   "cell_type": "code",
   "execution_count": 59,
   "id": "13fde867-7fab-45c5-a74d-e8b2939673a9",
   "metadata": {},
   "outputs": [],
   "source": [
    "# Iterate over exchanges in lorry_B\n",
    "for exc in lorry_B.technosphere():\n",
    "        if exc['name'] != 'diesel, low-sulfur':\n",
    "            # Delete exchange\n",
    "            exc.delete()\n",
    "            exc.save()"
   ]
  },
  {
   "cell_type": "markdown",
   "id": "10f66f56-4ffc-4921-860d-1f79a68896b4",
   "metadata": {},
   "source": [
    "Let's verify the exchanges for the activity  now"
   ]
  },
  {
   "cell_type": "code",
   "execution_count": 60,
   "id": "83802e75-13c4-43e7-ad65-f9d8efac7ea4",
   "metadata": {},
   "outputs": [
    {
     "name": "stdout",
     "output_type": "stream",
     "text": [
      "Exchange: 0.047302103 kilogram 'market group for diesel, low-sulfur' (kilogram, RER, None) to 'B, transport, freight, lorry 7.5-16 metric ton, EURO5' (ton kilometer, RER, None)>\n"
     ]
    }
   ],
   "source": [
    "#Look at exhanges characterizing activity lorry_B\n",
    "for exc in lorry_B.technosphere():\n",
    "    print(exc)"
   ]
  },
  {
   "cell_type": "markdown",
   "id": "df46146d-ed10-42b2-975d-0d4ff6b193bc",
   "metadata": {},
   "source": [
    "Let's repeat for B, transport, passenger car, medium size, petrol, EURO 5"
   ]
  },
  {
   "cell_type": "code",
   "execution_count": 49,
   "id": "74314d96-1fff-4fa3-847a-fe829dbcf360",
   "metadata": {},
   "outputs": [
    {
     "name": "stdout",
     "output_type": "stream",
     "text": [
      "Exchange: -7.55254e-06 kilogram 'market for brake wear emissions, passenger car' (kilogram, GLO, None) to 'B, transport, passenger car, medium size, petrol, EURO 5' (kilometer, RER, None)>\n",
      "Exchange: 8.6021505376344e-06 unit 'maintenance, passenger car' (unit, RER, None) to 'B, transport, passenger car, medium size, petrol, EURO 5' (kilometer, RER, None)>\n",
      "Exchange: 0.0106666666666667 kilogram 'market for passenger car, petrol/natural gas' (kilogram, GLO, None) to 'B, transport, passenger car, medium size, petrol, EURO 5' (kilometer, RER, None)>\n",
      "Exchange: 0.06090593821630414 kilogram 'market for petrol, low-sulfur' (kilogram, Europe without Switzerland, None) to 'B, transport, passenger car, medium size, petrol, EURO 5' (kilometer, RER, None)>\n",
      "Exchange: 0.001160855383695865 kilogram 'market for petrol, low-sulfur' (kilogram, CH, None) to 'B, transport, passenger car, medium size, petrol, EURO 5' (kilometer, RER, None)>\n",
      "Exchange: 0.0009113964 meter-year 'market for road' (meter-year, GLO, None) to 'B, transport, passenger car, medium size, petrol, EURO 5' (kilometer, RER, None)>\n",
      "Exchange: 0.000265427119835466 meter-year 'market for road maintenance' (meter-year, RER, None) to 'B, transport, passenger car, medium size, petrol, EURO 5' (kilometer, RER, None)>\n",
      "Exchange: -1.6615588e-05 kilogram 'market for road wear emissions, passenger car' (kilogram, GLO, None) to 'B, transport, passenger car, medium size, petrol, EURO 5' (kilometer, RER, None)>\n",
      "Exchange: -9.71647e-05 kilogram 'market for tyre wear emissions, passenger car' (kilogram, GLO, None) to 'B, transport, passenger car, medium size, petrol, EURO 5' (kilometer, RER, None)>\n"
     ]
    }
   ],
   "source": [
    "#Look at technosphere exhanges characterizing activity car_B\n",
    "for exc in car_B.technosphere():\n",
    "    print(exc)"
   ]
  },
  {
   "cell_type": "code",
   "execution_count": 50,
   "id": "d72172f4-c5ad-4681-b633-21765114dcb0",
   "metadata": {},
   "outputs": [
    {
     "data": {
      "text/plain": [
       "{'flow': '894c4486-e821-4d6c-b99f-7e3f63d4a083',\n",
       " 'type': 'technosphere',\n",
       " 'name': 'petrol, low-sulfur',\n",
       " 'classifications': {'CPC': ['333: Petroleum oils and oils obtained from bituminous materials, other than crude; preparations n.e.c. containing by […]']},\n",
       " 'production volume': 0.0,\n",
       " 'properties': {'carbon allocation': {'amount': 0.865, 'unit': 'kg'},\n",
       "  'carbon content': {'amount': 0.865, 'unit': 'dimensionless'},\n",
       "  'carbon content, fossil': {'amount': 0.865, 'unit': 'dimensionless'},\n",
       "  'carbon content, non-fossil': {'amount': 0.0, 'unit': 'dimensionless'},\n",
       "  'dry mass': {'amount': 1.0, 'unit': 'kg'},\n",
       "  'heating value, net': {'amount': 42.5,\n",
       "   'comment': 'Based on literature, page 611, Report 17: Jungbluth, N., Chudacoff, M., Dauriat, A., Dinkel, F., Doka, G., Faist Emmenegger, M., Gnansounou, E., Kljun, N., Schleiss, K., Spielmann, M., Stettler, C., Sutter, J. 2007: Life Cycle Inventories of Bioenergy. ecoinvent report No. 17, Swiss Centre for Life Cycle Inventories, Dübendorf, CH.',\n",
       "   'unit': 'MJ'},\n",
       "  'water content': {'amount': 0.0, 'unit': 'dimensionless'},\n",
       "  'water in wet mass': {'amount': 0.0, 'unit': 'kg'},\n",
       "  'wet mass': {'amount': 1.0, 'unit': 'kg'}},\n",
       " 'activity': 'b24c4ecf-3e5c-5728-bef4-cbc4bab51d1c',\n",
       " 'unit': 'kilogram',\n",
       " 'comment': 'Calculation, based on data from TREMOVE (2007)\\n\\nFuel consumption is influenced by vehicle weight. Fuel input exchanges (petrol low-sulphur, diesel low-sulphur and natural gas) are scaled according to the specific vehicle weight inserted by the ecoinvent user. Calculation of the fuel consumption uses a fuel specific constant. This corresponds to:\\n((specific gross vehicle weight - basis vehicle weight) * constant + basis vehicle fuel consumption',\n",
       " 'formula': '((gross_vehicle_weight-vehicle_weight)* fc_constant) + fc_basis_vehicle    ',\n",
       " 'amount': 0.001160855383695865,\n",
       " 'pedigree': {'reliability': 2,\n",
       "  'completeness': 2,\n",
       "  'temporal correlation': 5,\n",
       "  'geographical correlation': 1,\n",
       "  'further technological correlation': 1},\n",
       " 'uncertainty type': 2,\n",
       " 'loc': -6.7585981458716535,\n",
       " 'scale': 0.20322401432901577,\n",
       " 'scale without pedigree': 0.02449489742783178,\n",
       " 'input': ('ecoinvent-391-cutoff', '0b00933c4dbb757adc900c3b0e2e16c7'),\n",
       " 'output': ('ecoinvent-391-cutoff', '16d935c955b14a9586007ed700e89200')}"
      ]
     },
     "execution_count": 50,
     "metadata": {},
     "output_type": "execute_result"
    }
   ],
   "source": [
    "#detail look to exchanges of interest\n",
    "[exc for exc in car_B.technosphere()][3].as_dict() #market for petrol, low-sulfur - Europe without Szwitzerland\n",
    "[exc for exc in car_B.technosphere()][4].as_dict() #market for petrol, low-sulfur - CH"
   ]
  },
  {
   "cell_type": "code",
   "execution_count": 51,
   "id": "f897d9b2-7353-4500-b635-266a62577350",
   "metadata": {},
   "outputs": [],
   "source": [
    "# Iterate over exchanges in car_B\n",
    "for exc in car_B.technosphere():\n",
    "        if exc['name'] != 'petrol, low-sulfur':\n",
    "            #delete exchange\n",
    "            exc.delete()\n",
    "            exc.save()"
   ]
  },
  {
   "cell_type": "code",
   "execution_count": 52,
   "id": "6cd414c4-639c-475e-b67a-6d3d761ff852",
   "metadata": {},
   "outputs": [
    {
     "name": "stdout",
     "output_type": "stream",
     "text": [
      "Exchange: 0.06090593821630414 kilogram 'market for petrol, low-sulfur' (kilogram, Europe without Switzerland, None) to 'B, transport, passenger car, medium size, petrol, EURO 5' (kilometer, RER, None)>\n",
      "Exchange: 0.001160855383695865 kilogram 'market for petrol, low-sulfur' (kilogram, CH, None) to 'B, transport, passenger car, medium size, petrol, EURO 5' (kilometer, RER, None)>\n"
     ]
    }
   ],
   "source": [
    "#Look at exhanges characterizing activity car_B\n",
    "for exc in car_B.technosphere():\n",
    "    print(exc)"
   ]
  },
  {
   "cell_type": "markdown",
   "id": "b71790dc-6ef5-4bca-a76d-78a206b3127e",
   "metadata": {},
   "source": [
    "## Adding basalt quarry operation modified process\n",
    "\n",
    "Thus processs is based on the following ecoinvent processes:\n",
    "\n",
    "- basalt quarry operation - RER\n",
    "\n",
    "The new processes are modified to set the basalt biosphere exchange amount to 0 and multiply all technosphere exchanges by 1,04. \n",
    "\n",
    "The name of the new process is set to\n",
    "\n",
    "- basalt quarry operation (for crushed stone) "
   ]
  },
  {
   "cell_type": "code",
   "execution_count": 61,
   "id": "66aa6b60-6dcf-4013-8604-4a90e2f70362",
   "metadata": {},
   "outputs": [
    {
     "data": {
      "text/plain": [
       "['basalt quarry operation' (kilogram, RoW, None),\n",
       " 'basalt quarry operation' (kilogram, RER, None)]"
      ]
     },
     "execution_count": 61,
     "metadata": {},
     "output_type": "execute_result"
    }
   ],
   "source": [
    "#Search for basalt quarry operation in background database\n",
    "EI_DB.search('basalt quarry operation')"
   ]
  },
  {
   "cell_type": "code",
   "execution_count": 63,
   "id": "d0552104-1998-496c-87d4-554707ecf21b",
   "metadata": {},
   "outputs": [],
   "source": [
    "#Copy existing basalt process\n",
    "basalt = EI_DB.search('basalt quarry operation')[1]\n",
    "basalt_cs = basalt.copy(name='basalt quarry operation (for crushed stone)') "
   ]
  },
  {
   "cell_type": "code",
   "execution_count": 65,
   "id": "35c70537-22d8-406b-b339-ecb247a3ea7e",
   "metadata": {},
   "outputs": [
    {
     "data": {
      "text/plain": [
       "['basalt quarry operation' (kilogram, RoW, None),\n",
       " 'basalt quarry operation' (kilogram, RER, None),\n",
       " 'basalt quarry operation (for crushed stone)' (kilogram, RER, None)]"
      ]
     },
     "execution_count": 65,
     "metadata": {},
     "output_type": "execute_result"
    }
   ],
   "source": [
    "#Verify that the new transport processes were recorded\n",
    "EI_DB.search('basalt quarry operation')"
   ]
  },
  {
   "cell_type": "code",
   "execution_count": 67,
   "id": "5c1909e4-fad3-443b-8b2a-0d2c44642449",
   "metadata": {},
   "outputs": [
    {
     "name": "stdout",
     "output_type": "stream",
     "text": [
      "Exchange: 8e-06 kilogram 'Particulate Matter, < 2.5 um' (kilogram, None, ('air', 'non-urban air or from high stacks')) to 'basalt quarry operation (for crushed stone)' (kilogram, RER, None)>\n",
      "Exchange: 0.000112 kilogram 'Particulate Matter, > 10 um' (kilogram, None, ('air', 'non-urban air or from high stacks')) to 'basalt quarry operation (for crushed stone)' (kilogram, RER, None)>\n",
      "Exchange: 4e-05 kilogram 'Particulate Matter, > 2.5 um and < 10um' (kilogram, None, ('air', 'non-urban air or from high stacks')) to 'basalt quarry operation (for crushed stone)' (kilogram, RER, None)>\n",
      "Exchange: 1.68e-06 cubic meter 'Water' (cubic meter, None, ('air',)) to 'basalt quarry operation (for crushed stone)' (kilogram, RER, None)>\n",
      "Exchange: 6.72e-06 cubic meter 'Water' (cubic meter, None, ('water',)) to 'basalt quarry operation (for crushed stone)' (kilogram, RER, None)>\n",
      "Exchange: 1.0 kilogram 'Basalt' (kilogram, None, ('natural resource', 'in ground')) to 'basalt quarry operation (for crushed stone)' (kilogram, RER, None)>\n",
      "Exchange: 0.00798 square meter-year 'Occupation, mineral extraction site' (square meter-year, None, ('natural resource', 'land')) to 'basalt quarry operation (for crushed stone)' (kilogram, RER, None)>\n",
      "Exchange: 0.000798 square meter 'Transformation, from forest, unspecified' (square meter, None, ('natural resource', 'land')) to 'basalt quarry operation (for crushed stone)' (kilogram, RER, None)>\n",
      "Exchange: 0.000798 square meter 'Transformation, from mineral extraction site' (square meter, None, ('natural resource', 'land')) to 'basalt quarry operation (for crushed stone)' (kilogram, RER, None)>\n",
      "Exchange: 0.000798 square meter 'Transformation, to mineral extraction site' (square meter, None, ('natural resource', 'land')) to 'basalt quarry operation (for crushed stone)' (kilogram, RER, None)>\n",
      "Exchange: 0.000798 square meter 'Transformation, to unspecified' (square meter, None, ('natural resource', 'land')) to 'basalt quarry operation (for crushed stone)' (kilogram, RER, None)>\n",
      "Exchange: 8.4e-06 cubic meter 'Water, lake' (cubic meter, None, ('natural resource', 'in water')) to 'basalt quarry operation (for crushed stone)' (kilogram, RER, None)>\n"
     ]
    }
   ],
   "source": [
    "#Look at biosphere exhanges characterizing activity basalt_cs\n",
    "for exc in basalt_cs.biosphere():\n",
    "    print(exc)"
   ]
  },
  {
   "cell_type": "code",
   "execution_count": 69,
   "id": "3d6ea65e-1fd1-4a4e-8852-ba656b1a8475",
   "metadata": {},
   "outputs": [
    {
     "data": {
      "text/plain": [
       "{'flow': 'ac3a8914-35f0-4c34-a956-f26b3a053e4a',\n",
       " 'type': 'biosphere',\n",
       " 'name': 'Basalt',\n",
       " 'classifications': {'CPC': []},\n",
       " 'production volume': 0.0,\n",
       " 'properties': {'carbon allocation': {'amount': 0.0, 'unit': 'kg'},\n",
       "  'carbon content': {'amount': 0.0, 'unit': 'dimensionless'},\n",
       "  'carbon content, fossil': {'amount': 0.0, 'unit': 'dimensionless'},\n",
       "  'carbon content, non-fossil': {'amount': 0.0, 'unit': 'dimensionless'},\n",
       "  'dry mass': {'amount': 1.0, 'unit': 'kg'},\n",
       "  'water content': {'amount': 0.0, 'unit': 'dimensionless'},\n",
       "  'water in wet mass': {'amount': 0.0, 'unit': 'kg'},\n",
       "  'wet mass': {'amount': 1.0, 'unit': 'kg'}},\n",
       " 'unit': 'kilogram',\n",
       " 'amount': 1.0,\n",
       " 'pedigree': {'reliability': 3,\n",
       "  'completeness': 4,\n",
       "  'temporal correlation': 5,\n",
       "  'geographical correlation': 1,\n",
       "  'further technological correlation': 3},\n",
       " 'uncertainty type': 2,\n",
       " 'loc': 0.0,\n",
       " 'scale': 0.24899799195977465,\n",
       " 'scale without pedigree': 0.1,\n",
       " 'input': ('biosphere3', 'ac3a8914-35f0-4c34-a956-f26b3a053e4a'),\n",
       " 'output': ('ecoinvent-391-cutoff', 'dff10c7f2b5f46928beb248896f9569b')}"
      ]
     },
     "execution_count": 69,
     "metadata": {},
     "output_type": "execute_result"
    }
   ],
   "source": [
    "#detail look to exchanges of interest\n",
    "[exc for exc in basalt_cs.biosphere()][5].as_dict() #Basalt"
   ]
  },
  {
   "cell_type": "code",
   "execution_count": 70,
   "id": "1d568494-c9d2-4ecd-85b7-52cd49a9ca6f",
   "metadata": {},
   "outputs": [],
   "source": [
    "# Iterate over biosphere exchanges in basalt_cs to change the amount of Basalt exchange to 0\n",
    "for exc in basalt_cs.biosphere():\n",
    "        if exc['name'] == 'Basalt':\n",
    "            # Update the amount in the exchange\n",
    "            exc['amount'] = 0\n",
    "            exc.save()"
   ]
  },
  {
   "cell_type": "code",
   "execution_count": 71,
   "id": "30d2f7f6-5bd5-4677-acff-bc8f0ca1e01b",
   "metadata": {},
   "outputs": [
    {
     "name": "stdout",
     "output_type": "stream",
     "text": [
      "Exchange: 8e-06 kilogram 'Particulate Matter, < 2.5 um' (kilogram, None, ('air', 'non-urban air or from high stacks')) to 'basalt quarry operation (for crushed stone)' (kilogram, RER, None)>\n",
      "Exchange: 0.000112 kilogram 'Particulate Matter, > 10 um' (kilogram, None, ('air', 'non-urban air or from high stacks')) to 'basalt quarry operation (for crushed stone)' (kilogram, RER, None)>\n",
      "Exchange: 4e-05 kilogram 'Particulate Matter, > 2.5 um and < 10um' (kilogram, None, ('air', 'non-urban air or from high stacks')) to 'basalt quarry operation (for crushed stone)' (kilogram, RER, None)>\n",
      "Exchange: 1.68e-06 cubic meter 'Water' (cubic meter, None, ('air',)) to 'basalt quarry operation (for crushed stone)' (kilogram, RER, None)>\n",
      "Exchange: 6.72e-06 cubic meter 'Water' (cubic meter, None, ('water',)) to 'basalt quarry operation (for crushed stone)' (kilogram, RER, None)>\n",
      "Exchange: 0 kilogram 'Basalt' (kilogram, None, ('natural resource', 'in ground')) to 'basalt quarry operation (for crushed stone)' (kilogram, RER, None)>\n",
      "Exchange: 0.00798 square meter-year 'Occupation, mineral extraction site' (square meter-year, None, ('natural resource', 'land')) to 'basalt quarry operation (for crushed stone)' (kilogram, RER, None)>\n",
      "Exchange: 0.000798 square meter 'Transformation, from forest, unspecified' (square meter, None, ('natural resource', 'land')) to 'basalt quarry operation (for crushed stone)' (kilogram, RER, None)>\n",
      "Exchange: 0.000798 square meter 'Transformation, from mineral extraction site' (square meter, None, ('natural resource', 'land')) to 'basalt quarry operation (for crushed stone)' (kilogram, RER, None)>\n",
      "Exchange: 0.000798 square meter 'Transformation, to mineral extraction site' (square meter, None, ('natural resource', 'land')) to 'basalt quarry operation (for crushed stone)' (kilogram, RER, None)>\n",
      "Exchange: 0.000798 square meter 'Transformation, to unspecified' (square meter, None, ('natural resource', 'land')) to 'basalt quarry operation (for crushed stone)' (kilogram, RER, None)>\n",
      "Exchange: 8.4e-06 cubic meter 'Water, lake' (cubic meter, None, ('natural resource', 'in water')) to 'basalt quarry operation (for crushed stone)' (kilogram, RER, None)>\n"
     ]
    }
   ],
   "source": [
    "#verify new exchange value for Basalt in basalt_cs\n",
    "for exc in basalt_cs.biosphere():\n",
    "    print(exc)"
   ]
  },
  {
   "cell_type": "code",
   "execution_count": 72,
   "id": "fea1022e-ced1-40f3-8269-276f506c5fed",
   "metadata": {},
   "outputs": [
    {
     "name": "stdout",
     "output_type": "stream",
     "text": [
      "Exchange: 3e-06 kilogram 'market for alkyd paint, white, without solvent, in 60% solution state' (kilogram, RER, None) to 'basalt quarry operation (for crushed stone)' (kilogram, RER, None)>\n",
      "Exchange: 7.73e-05 kilogram 'blasting' (kilogram, RER, None) to 'basalt quarry operation (for crushed stone)' (kilogram, RER, None)>\n",
      "Exchange: 3.6e-07 kilogram 'market for chemical, organic' (kilogram, GLO, None) to 'basalt quarry operation (for crushed stone)' (kilogram, RER, None)>\n",
      "Exchange: 0.0414 megajoule 'market for diesel, burned in building machine' (megajoule, GLO, None) to 'basalt quarry operation (for crushed stone)' (kilogram, RER, None)>\n",
      "Exchange: 0.00621 kilowatt hour 'market group for electricity, medium voltage' (kilowatt hour, RER, None) to 'basalt quarry operation (for crushed stone)' (kilogram, RER, None)>\n",
      "Exchange: 0.00029735 megajoule 'market group for heat, district or industrial, other than natural gas' (megajoule, RER, None) to 'basalt quarry operation (for crushed stone)' (kilogram, RER, None)>\n",
      "Exchange: 8e-11 unit 'market for limestone quarry infrastructure' (unit, GLO, None) to 'basalt quarry operation (for crushed stone)' (kilogram, RER, None)>\n",
      "Exchange: 5.4e-05 kilogram 'market for lubricating oil' (kilogram, RER, None) to 'basalt quarry operation (for crushed stone)' (kilogram, RER, None)>\n",
      "Exchange: -6.14e-05 kilogram 'market group for municipal solid waste' (kilogram, RER, None) to 'basalt quarry operation (for crushed stone)' (kilogram, RER, None)>\n",
      "Exchange: 1.08e-05 kilometer 'market for transport, passenger car' (kilometer, RER, None) to 'basalt quarry operation (for crushed stone)' (kilogram, RER, None)>\n",
      "Exchange: -5.2e-07 kilogram 'market group for waste graphical paper' (kilogram, RER, None) to 'basalt quarry operation (for crushed stone)' (kilogram, RER, None)>\n",
      "Exchange: -1.4600219661348388e-08 kilogram 'market for waste paint' (kilogram, CH, None) to 'basalt quarry operation (for crushed stone)' (kilogram, RER, None)>\n",
      "Exchange: -4.865399780338651e-06 kilogram 'market for waste paint' (kilogram, Europe without Switzerland, None) to 'basalt quarry operation (for crushed stone)' (kilogram, RER, None)>\n",
      "Exchange: -9.364652424011931e-08 cubic meter 'market for wastewater, average' (cubic meter, Europe without Switzerland, None) to 'basalt quarry operation (for crushed stone)' (kilogram, RER, None)>\n",
      "Exchange: -2.3534757598806996e-09 cubic meter 'market for wastewater, average' (cubic meter, CH, None) to 'basalt quarry operation (for crushed stone)' (kilogram, RER, None)>\n"
     ]
    }
   ],
   "source": [
    "#Look at technosphere exhanges characterizing activity basalt_cs\n",
    "for exc in basalt_cs.technosphere():\n",
    "    print(exc)"
   ]
  },
  {
   "cell_type": "code",
   "execution_count": 73,
   "id": "efa735f3-8d13-40e5-bd64-a6a077cdf82f",
   "metadata": {},
   "outputs": [],
   "source": [
    "# Iterate over technosphere exchanges in basalt_cs to multiply all technosphere exchanges time 1,04\n",
    "for exc in basalt_cs.technosphere():\n",
    "    # Update the amount in the exchange\n",
    "    exc['amount'] = (exc['amount'])*1.04\n",
    "    exc.save()\n",
    "            "
   ]
  },
  {
   "cell_type": "code",
   "execution_count": 74,
   "id": "fcf8d5ae-bd81-4f5b-91a7-d7553a23709b",
   "metadata": {},
   "outputs": [
    {
     "name": "stdout",
     "output_type": "stream",
     "text": [
      "Exchange: 3.12e-06 kilogram 'market for alkyd paint, white, without solvent, in 60% solution state' (kilogram, RER, None) to 'basalt quarry operation (for crushed stone)' (kilogram, RER, None)>\n",
      "Exchange: 8.0392e-05 kilogram 'blasting' (kilogram, RER, None) to 'basalt quarry operation (for crushed stone)' (kilogram, RER, None)>\n",
      "Exchange: 3.744e-07 kilogram 'market for chemical, organic' (kilogram, GLO, None) to 'basalt quarry operation (for crushed stone)' (kilogram, RER, None)>\n",
      "Exchange: 0.043056000000000004 megajoule 'market for diesel, burned in building machine' (megajoule, GLO, None) to 'basalt quarry operation (for crushed stone)' (kilogram, RER, None)>\n",
      "Exchange: 0.0064584 kilowatt hour 'market group for electricity, medium voltage' (kilowatt hour, RER, None) to 'basalt quarry operation (for crushed stone)' (kilogram, RER, None)>\n",
      "Exchange: 0.000309244 megajoule 'market group for heat, district or industrial, other than natural gas' (megajoule, RER, None) to 'basalt quarry operation (for crushed stone)' (kilogram, RER, None)>\n",
      "Exchange: 8.32e-11 unit 'market for limestone quarry infrastructure' (unit, GLO, None) to 'basalt quarry operation (for crushed stone)' (kilogram, RER, None)>\n",
      "Exchange: 5.616e-05 kilogram 'market for lubricating oil' (kilogram, RER, None) to 'basalt quarry operation (for crushed stone)' (kilogram, RER, None)>\n",
      "Exchange: -6.3856e-05 kilogram 'market group for municipal solid waste' (kilogram, RER, None) to 'basalt quarry operation (for crushed stone)' (kilogram, RER, None)>\n",
      "Exchange: 1.1232e-05 kilometer 'market for transport, passenger car' (kilometer, RER, None) to 'basalt quarry operation (for crushed stone)' (kilogram, RER, None)>\n",
      "Exchange: -5.408e-07 kilogram 'market group for waste graphical paper' (kilogram, RER, None) to 'basalt quarry operation (for crushed stone)' (kilogram, RER, None)>\n",
      "Exchange: -1.5184228447802323e-08 kilogram 'market for waste paint' (kilogram, CH, None) to 'basalt quarry operation (for crushed stone)' (kilogram, RER, None)>\n",
      "Exchange: -5.060015771552197e-06 kilogram 'market for waste paint' (kilogram, Europe without Switzerland, None) to 'basalt quarry operation (for crushed stone)' (kilogram, RER, None)>\n",
      "Exchange: -9.739238520972408e-08 cubic meter 'market for wastewater, average' (cubic meter, Europe without Switzerland, None) to 'basalt quarry operation (for crushed stone)' (kilogram, RER, None)>\n",
      "Exchange: -2.4476147902759276e-09 cubic meter 'market for wastewater, average' (cubic meter, CH, None) to 'basalt quarry operation (for crushed stone)' (kilogram, RER, None)>\n"
     ]
    }
   ],
   "source": [
    "#verify new exchange technosphere value for basalt_cs\n",
    "for exc in basalt_cs.technosphere():\n",
    "    print(exc)"
   ]
  },
  {
   "cell_type": "code",
   "execution_count": null,
   "id": "c121bef4-a2dc-4e2b-b26d-a1f97b90279c",
   "metadata": {},
   "outputs": [],
   "source": []
  }
 ],
 "metadata": {
  "kernelspec": {
   "display_name": "Python 3 (ipykernel)",
   "language": "python",
   "name": "python3"
  },
  "language_info": {
   "codemirror_mode": {
    "name": "ipython",
    "version": 3
   },
   "file_extension": ".py",
   "mimetype": "text/x-python",
   "name": "python",
   "nbconvert_exporter": "python",
   "pygments_lexer": "ipython3",
   "version": "3.11.8"
  }
 },
 "nbformat": 4,
 "nbformat_minor": 5
}
