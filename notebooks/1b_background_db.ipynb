{
 "cells": [
  {
   "cell_type": "markdown",
   "id": "54b3b037-954f-469f-a2e2-a535ed814329",
   "metadata": {},
   "source": [
    "# Modify Background Database\n",
    "\n",
    "In this project, certain processes based on exisiting processes contained in the background databases must be added to their respective background database. These processes are based on:\n",
    "\n",
    "- diesel, burned in building machine - GLO; from `EI_DB_NAME`;\n",
    "- transport, freight, lorry 7.5-16 metric ton, EURO5 - RER; from `EI_DB_NAME`;\n",
    "- transport, passenger car, medium size, petrol, EURO 5 - RER; from `EI_DB_NAME`;\n",
    "- basalt quarry operation - RER; from `EI_DB_NAME`;\n",
    "- gravel production, crushed - RoW; from `EI_DB_NAME`;\n",
    "- cellulose fibre production - RoW from `EI_DB_NAME`.\n"
   ]
  },
  {
   "cell_type": "code",
   "execution_count": 1,
   "id": "545a8324-3000-45b4-8ca2-905e5cf8bb6a",
   "metadata": {},
   "outputs": [],
   "source": [
    "import bw2data as bd\n",
    "import bw2io as bi"
   ]
  },
  {
   "cell_type": "code",
   "execution_count": 3,
   "id": "720331fa-eca1-483a-8c36-2590e0bcbcca",
   "metadata": {},
   "outputs": [],
   "source": [
    "#Importing the variables with the project name and background db\n",
    "from project_details import EI_DB_NAME, PROJECT_NAME"
   ]
  },
  {
   "cell_type": "code",
   "execution_count": 4,
   "id": "5cb03f8c-8ec6-4472-ade9-a498cd029e6f",
   "metadata": {},
   "outputs": [
    {
     "data": {
      "text/plain": [
       "Databases dictionary with 2 object(s):\n",
       "\tbiosphere3\n",
       "\tecoinvent-391-cutoff"
      ]
     },
     "execution_count": 4,
     "metadata": {},
     "output_type": "execute_result"
    }
   ],
   "source": [
    "#Set project\n",
    "bd.projects.set_current(PROJECT_NAME)\n",
    "#Check databases included in project\n",
    "bd.databases"
   ]
  },
  {
   "cell_type": "code",
   "execution_count": 5,
   "id": "694b9621-d706-4d42-aa02-46d48e052bb4",
   "metadata": {},
   "outputs": [],
   "source": [
    "# Is the background database name the same as the one we wrote in `project_details.py`?\n",
    "assert EI_DB_NAME in bd.databases"
   ]
  },
  {
   "cell_type": "markdown",
   "id": "f090e043-df41-4d82-ae7f-a620c0cd1b04",
   "metadata": {},
   "source": [
    "## Adding modified diesel processes\n",
    "First, two processes based on the ecoinvent process \"diesel, burned in building machine - GLO\" must be added. These processes correspond to the diesel consumption attributed to the machinery use to lay and mill asphalt during the construction (A5) and EOL (C1) life cycle phases of our system under analysis. Therefore, we will create two processes named as follows:\n",
    "\n",
    "- A5, diesel, burned in building machine - GLO\n",
    "- C1, diesel, burned in building machine - GLO\n",
    "\n",
    "The emissions of these processes are modified to comply with the specifications of the [NL-PCR](https://www.bouwendnederland.nl/media/12923/pcr-asfalt-v20.pdf).\n",
    "\n",
    "The emissions that we are modifying and their respective new values are:\n",
    "\n",
    "| Name                                               | A5 (kg)               | C1 (kg)               |\n",
    "|----------------------------------------------------|-----------------------|-----------------------|\n",
    "| Ammonia                                            | 2.33222e-07           | 2.33222e-07           |\n",
    "| Carbon dioxide, fossil                            | 7.44086e-05           | 7.44086e-05           |\n",
    "| Carbon monoxide, fossil                           | 3.19444e-08           | 1.00901e-08           |\n",
    "| Dinitrogen monoxide                               | 4.99833e-10           | 4.99833e-10           |\n",
    "| Nitrogen oxides                                   | 7.67056e-08           | 3.83334e-08           |\n",
    "| NMVOC, non-methane volatile organic compounds     | 8.91294e-10           | 4.08334e-10           |\n",
    "| Particulate Matter, < 2.5 um                      | 1.29832e-09           | 1.63390e-09           |\n",
    "| Particulate Matter, > 10 um                       | 6.83056e-11           | 3.22335e-09           |\n",
    "| Particulate Matter, > 2.5 um and < 10um           | 1.23587e-09           | 1.89703e-09           |\n",
    "| Sulfur dioxide                                    | 4.66667e-10           | 4.66667e-10           |\n",
    "\n",
    "Furthermore, the diesel exchange *market group for diesel - GLO* must be replaced by *market for diesel, low-sulfur - Europe without Switzerland* in both new processes."
   ]
  },
  {
   "cell_type": "code",
   "execution_count": 8,
   "id": "b5259e31-ccc8-4b48-8bee-4487442affc3",
   "metadata": {},
   "outputs": [
    {
     "data": {
      "text/plain": [
       "['market for diesel, burned in building machine' (megajoule, GLO, None),\n",
       " 'diesel, burned in building machine' (megajoule, GLO, None),\n",
       " 'propane, burned in building machine' (megajoule, GLO, None),\n",
       " 'market for propane, burned in building machine' (megajoule, GLO, None),\n",
       " 'market for diesel, burned in diesel-electric generating set, 10MW' (megajoule, GLO, None)]"
      ]
     },
     "execution_count": 8,
     "metadata": {},
     "output_type": "execute_result"
    }
   ],
   "source": [
    "#Search for original diesel process in background database\n",
    "EI_DB = bd.Database(EI_DB_NAME)\n",
    "EI_DB.search('diesel, burned in building machine')"
   ]
  },
  {
   "cell_type": "code",
   "execution_count": 10,
   "id": "17ca25c5-eebf-4a10-bdf3-fbe42059552d",
   "metadata": {},
   "outputs": [],
   "source": [
    "#Copy existing diesel process\n",
    "diesel = EI_DB.search('diesel, burned in building machine')[1]\n",
    "diesel_A5 = diesel.copy(name='A5, diesel, burned in building machine') \n",
    "diesel_C1 = diesel.copy(name='C1, diesel, burned in building machine') "
   ]
  },
  {
   "cell_type": "code",
   "execution_count": 11,
   "id": "099bcbca-a03c-450b-858b-2128d65d0ccf",
   "metadata": {
    "scrolled": true
   },
   "outputs": [
    {
     "data": {
      "text/plain": [
       "['market for diesel, burned in building machine' (megajoule, GLO, None),\n",
       " 'diesel, burned in building machine' (megajoule, GLO, None),\n",
       " 'A5, diesel, burned in building machine' (megajoule, GLO, None),\n",
       " 'C1, diesel, burned in building machine' (megajoule, GLO, None),\n",
       " 'propane, burned in building machine' (megajoule, GLO, None),\n",
       " 'market for propane, burned in building machine' (megajoule, GLO, None),\n",
       " 'market for diesel, burned in diesel-electric generating set, 10MW' (megajoule, GLO, None)]"
      ]
     },
     "execution_count": 11,
     "metadata": {},
     "output_type": "execute_result"
    }
   ],
   "source": [
    "#Check that new processes are saved to background database\n",
    "EI_DB = bd.Database(EI_DB_NAME)\n",
    "EI_DB.search('diesel, burned in building machine')"
   ]
  },
  {
   "cell_type": "code",
   "execution_count": 12,
   "id": "409925df-704d-4949-8144-9d491d9078ba",
   "metadata": {
    "scrolled": true
   },
   "outputs": [
    {
     "name": "stdout",
     "output_type": "stream",
     "text": [
      "Exchange: 1.0 megajoule 'A5, diesel, burned in building machine' (megajoule, GLO, None) to 'A5, diesel, burned in building machine' (megajoule, GLO, None)>\n",
      "Exchange: 1.34e-07 unit 'market for building machine' (unit, GLO, None) to 'A5, diesel, burned in building machine' (megajoule, GLO, None)>\n",
      "Exchange: 0.0234 kilogram 'market group for diesel' (kilogram, GLO, None) to 'A5, diesel, burned in building machine' (megajoule, GLO, None)>\n",
      "Exchange: 8.943599999999386e-05 kilogram 'market for lubricating oil' (kilogram, RER, None) to 'A5, diesel, burned in building machine' (megajoule, GLO, None)>\n",
      "Exchange: 0.00042456400000000623 kilogram 'market for lubricating oil' (kilogram, RoW, None) to 'A5, diesel, burned in building machine' (megajoule, GLO, None)>\n",
      "Exchange: -0.0003694187171108785 kilogram 'market for waste mineral oil' (kilogram, RoW, None) to 'A5, diesel, burned in building machine' (megajoule, GLO, None)>\n",
      "Exchange: -0.00014108849302253373 kilogram 'market for waste mineral oil' (kilogram, Europe without Switzerland, None) to 'A5, diesel, burned in building machine' (megajoule, GLO, None)>\n",
      "Exchange: -3.4927898665877724e-06 kilogram 'market for waste mineral oil' (kilogram, CH, None) to 'A5, diesel, burned in building machine' (megajoule, GLO, None)>\n",
      "Exchange: 4.67e-07 kilogram 'Ammonia' (kilogram, None, ('air',)) to 'A5, diesel, burned in building machine' (megajoule, GLO, None)>\n",
      "Exchange: 7.01e-10 kilogram 'Benzo(a)pyrene' (kilogram, None, ('air',)) to 'A5, diesel, burned in building machine' (megajoule, GLO, None)>\n",
      "Exchange: 2.34e-10 kilogram 'Cadmium II' (kilogram, None, ('air',)) to 'A5, diesel, burned in building machine' (megajoule, GLO, None)>\n",
      "Exchange: 0.073 kilogram 'Carbon dioxide, fossil' (kilogram, None, ('air',)) to 'A5, diesel, burned in building machine' (megajoule, GLO, None)>\n",
      "Exchange: 0.000266 kilogram 'Carbon monoxide, fossil' (kilogram, None, ('air',)) to 'A5, diesel, burned in building machine' (megajoule, GLO, None)>\n",
      "Exchange: 1.17e-09 kilogram 'Chromium III' (kilogram, None, ('air',)) to 'A5, diesel, burned in building machine' (megajoule, GLO, None)>\n",
      "Exchange: 3.97e-08 kilogram 'Copper ion' (kilogram, None, ('air',)) to 'A5, diesel, burned in building machine' (megajoule, GLO, None)>\n",
      "Exchange: 2.8e-06 kilogram 'Dinitrogen monoxide' (kilogram, None, ('air',)) to 'A5, diesel, burned in building machine' (megajoule, GLO, None)>\n",
      "Exchange: 1.4e-15 kilogram 'Dioxins, measured as 2,3,7,8-tetrachlorodibenzo-p-dioxin' (kilogram, None, ('air',)) to 'A5, diesel, burned in building machine' (megajoule, GLO, None)>\n",
      "Exchange: 3.75e-06 kilogram 'Methane, fossil' (kilogram, None, ('air',)) to 'A5, diesel, burned in building machine' (megajoule, GLO, None)>\n",
      "Exchange: 0.000121 kilogram 'NMVOC, non-methane volatile organic compounds' (kilogram, None, ('air',)) to 'A5, diesel, burned in building machine' (megajoule, GLO, None)>\n",
      "Exchange: 1.64e-09 kilogram 'Nickel II' (kilogram, None, ('air',)) to 'A5, diesel, burned in building machine' (megajoule, GLO, None)>\n",
      "Exchange: 0.00103 kilogram 'Nitrogen oxides' (kilogram, None, ('air',)) to 'A5, diesel, burned in building machine' (megajoule, GLO, None)>\n",
      "Exchange: 7.85e-08 kilogram 'PAH, polycyclic aromatic hydrocarbons' (kilogram, None, ('air',)) to 'A5, diesel, burned in building machine' (megajoule, GLO, None)>\n",
      "Exchange: 9.43e-05 kilogram 'Particulate Matter, < 2.5 um' (kilogram, None, ('air',)) to 'A5, diesel, burned in building machine' (megajoule, GLO, None)>\n",
      "Exchange: 6.28e-06 kilogram 'Particulate Matter, > 10 um' (kilogram, None, ('air',)) to 'A5, diesel, burned in building machine' (megajoule, GLO, None)>\n",
      "Exchange: 4.19e-06 kilogram 'Particulate Matter, > 2.5 um and < 10um' (kilogram, None, ('air',)) to 'A5, diesel, burned in building machine' (megajoule, GLO, None)>\n",
      "Exchange: 2.34e-10 kilogram 'Selenium IV' (kilogram, None, ('air',)) to 'A5, diesel, burned in building machine' (megajoule, GLO, None)>\n",
      "Exchange: 2.36e-05 kilogram 'Sulfur dioxide' (kilogram, None, ('air',)) to 'A5, diesel, burned in building machine' (megajoule, GLO, None)>\n",
      "Exchange: 2.34e-08 kilogram 'Zinc II' (kilogram, None, ('air',)) to 'A5, diesel, burned in building machine' (megajoule, GLO, None)>\n"
     ]
    }
   ],
   "source": [
    "#Look at exhanges characterizing activity\n",
    "for exc in diesel_A5.exchanges():\n",
    "    print(exc)"
   ]
  },
  {
   "cell_type": "code",
   "execution_count": 14,
   "id": "837fa627-2b75-4f75-82c3-9ae5b75f869b",
   "metadata": {
    "scrolled": true
   },
   "outputs": [
    {
     "data": {
      "text/plain": [
       "{'flow': '87883a4e-1e3e-4c9d-90c0-f1bea36f8014',\n",
       " 'type': 'biosphere',\n",
       " 'name': 'Ammonia',\n",
       " 'classifications': {'CPC': []},\n",
       " 'production volume': 0.0,\n",
       " 'properties': {'carbon allocation': {'amount': 0.0, 'unit': 'kg'},\n",
       "  'carbon content': {'amount': 0.0, 'unit': 'dimensionless'},\n",
       "  'carbon content, fossil': {'amount': 0.0, 'unit': 'dimensionless'},\n",
       "  'carbon content, non-fossil': {'amount': 0.0, 'unit': 'dimensionless'},\n",
       "  'dry mass': {'amount': 1.0, 'unit': 'kg'},\n",
       "  'water content': {'amount': 0.0,\n",
       "   'comment': 'water mass/dry mass',\n",
       "   'unit': 'dimensionless'},\n",
       "  'water in wet mass': {'amount': 0.0, 'unit': 'kg'},\n",
       "  'wet mass': {'amount': 1.0, 'unit': 'kg'}},\n",
       " 'unit': 'kilogram',\n",
       " 'amount': 4.67e-07,\n",
       " 'pedigree': {'reliability': 1,\n",
       "  'completeness': 5,\n",
       "  'temporal correlation': 5,\n",
       "  'geographical correlation': 3,\n",
       "  'further technological correlation': 1},\n",
       " 'uncertainty type': 2,\n",
       " 'loc': -14.576936579277515,\n",
       " 'scale': 0.3132091952673165,\n",
       " 'scale without pedigree': 0.22360679774997896,\n",
       " 'input': ('biosphere3', '87883a4e-1e3e-4c9d-90c0-f1bea36f8014'),\n",
       " 'output': ('ecoinvent-391-cutoff', '50aace6627f8438488f9c0c1ab58e8a7')}"
      ]
     },
     "execution_count": 14,
     "metadata": {},
     "output_type": "execute_result"
    }
   ],
   "source": [
    "#detail look to exchanges of interest\n",
    "[exc for exc in diesel_A5.exchanges()][8].as_dict() #Ammonia"
   ]
  },
  {
   "cell_type": "code",
   "execution_count": 15,
   "id": "6da97f56-c797-42c3-bc16-6f495d6651b0",
   "metadata": {},
   "outputs": [],
   "source": [
    "#Create dictionaries with new emissions for each activity\n",
    "A5_emissions = [\n",
    "    {\"name\": \"Ammonia\", \"amount\": 2.33222e-07},\n",
    "    {\"name\": \"Carbon dioxide, fossil\", \"amount\": 7.44086e-05},\n",
    "    {\"name\": \"Carbon monoxide, fossil\", \"amount\": 3.19444e-08},\n",
    "    {\"name\": \"Dinitrogen monoxide\", \"amount\": 4.99833e-10},\n",
    "    {\"name\": \"Nitrogen oxides\", \"amount\": 7.67056e-08},\n",
    "    {\"name\": \"NMVOC, non-methane volatile organic compounds\", \"amount\": 8.91294e-10},\n",
    "    {\"name\": \"Particulate Matter, < 2.5 um\", \"amount\": 1.29832e-09},\n",
    "    {\"name\": \"Particulate Matter, > 10 um\", \"amount\": 6.83056e-11},\n",
    "    {\"name\": \"Particulate Matter, > 2.5 um and < 10um\", \"amount\": 1.23587e-09},\n",
    "    {\"name\": \"Sulfur dioxide\", \"amount\": 4.66667e-10}\n",
    "]\n",
    "\n",
    "C1_emissions = [\n",
    "    {\"name\": \"Ammonia\", \"amount\": 2.33222e-07},\n",
    "    {\"name\": \"Carbon dioxide, fossil\", \"amount\": 7.44086e-05},\n",
    "    {\"name\": \"Carbon monoxide, fossil\", \"amount\": 1.00901e-08},\n",
    "    {\"name\": \"Dinitrogen monoxide\", \"amount\": 4.99833e-10},\n",
    "    {\"name\": \"Nitrogen oxides\", \"amount\": 3.83334e-08},\n",
    "    {\"name\": \"NMVOC, non-methane volatile organic compounds\", \"amount\": 4.08334e-10},\n",
    "    {\"name\": \"Particulates, <2.5 µm\", \"amount\": 1.63390e-09},\n",
    "    {\"name\": \"Particulates, >2.5 µm and <10 µm\", \"amount\": 3.22335e-09},\n",
    "    {\"name\": \"Particulates, >10 µm\", \"amount\": 1.89703e-09},\n",
    "    {\"name\": \"Sulphur dioxide\", \"amount\": 4.66667e-10}\n",
    "]"
   ]
  },
  {
   "cell_type": "markdown",
   "id": "c6c6109f-8194-4558-a595-055172fafa18",
   "metadata": {},
   "source": [
    "Now we modify the exchanges of the new activities"
   ]
  },
  {
   "cell_type": "code",
   "execution_count": 18,
   "id": "32ee9e31-893f-4945-bf68-c0780d75814a",
   "metadata": {},
   "outputs": [],
   "source": [
    "# Iterate over exchanges in diesel_A5\n",
    "for exc in diesel_A5.exchanges():\n",
    "    # Check if the exchange name is in A5_emissions\n",
    "    for emission in A5_emissions:\n",
    "        if exc['name'] == emission['name']:\n",
    "            # Update the amount in the exchange\n",
    "            exc['amount'] = emission['amount']\n",
    "            exc.save()\n",
    "            break  # Exit the loop once the exchange is found"
   ]
  },
  {
   "cell_type": "code",
   "execution_count": 20,
   "id": "c19158a5-3421-45d5-bc20-beb948e0ed6e",
   "metadata": {},
   "outputs": [],
   "source": [
    "#Iterate over exchanges in diesel_C1\n",
    "for exc in diesel_C1.exchanges():\n",
    "    # Check if the exchange name is in C1_emissions\n",
    "    for emission in C1_emissions:\n",
    "        if exc['name'] == emission['name']:\n",
    "            # Update the amount in the exchange\n",
    "            exc['amount'] = emission['amount']\n",
    "            exc.save()\n",
    "            break  # Exit the loop once the exchange is found"
   ]
  },
  {
   "cell_type": "markdown",
   "id": "b9f03379-2291-4f33-a028-c6b5e282bfa6",
   "metadata": {},
   "source": [
    "Verification: were the exchange amounts indeed updated?"
   ]
  },
  {
   "cell_type": "code",
   "execution_count": 19,
   "id": "1e9e3ec7-2833-486d-a0ca-de563f3f0244",
   "metadata": {
    "scrolled": true
   },
   "outputs": [
    {
     "name": "stdout",
     "output_type": "stream",
     "text": [
      "Exchange: 1.0 megajoule 'A5, diesel, burned in building machine' (megajoule, GLO, None) to 'A5, diesel, burned in building machine' (megajoule, GLO, None)>\n",
      "Exchange: 1.34e-07 unit 'market for building machine' (unit, GLO, None) to 'A5, diesel, burned in building machine' (megajoule, GLO, None)>\n",
      "Exchange: 0.0234 kilogram 'market group for diesel' (kilogram, GLO, None) to 'A5, diesel, burned in building machine' (megajoule, GLO, None)>\n",
      "Exchange: 8.943599999999386e-05 kilogram 'market for lubricating oil' (kilogram, RER, None) to 'A5, diesel, burned in building machine' (megajoule, GLO, None)>\n",
      "Exchange: 0.00042456400000000623 kilogram 'market for lubricating oil' (kilogram, RoW, None) to 'A5, diesel, burned in building machine' (megajoule, GLO, None)>\n",
      "Exchange: -0.0003694187171108785 kilogram 'market for waste mineral oil' (kilogram, RoW, None) to 'A5, diesel, burned in building machine' (megajoule, GLO, None)>\n",
      "Exchange: -0.00014108849302253373 kilogram 'market for waste mineral oil' (kilogram, Europe without Switzerland, None) to 'A5, diesel, burned in building machine' (megajoule, GLO, None)>\n",
      "Exchange: -3.4927898665877724e-06 kilogram 'market for waste mineral oil' (kilogram, CH, None) to 'A5, diesel, burned in building machine' (megajoule, GLO, None)>\n",
      "Exchange: 2.33222e-07 kilogram 'Ammonia' (kilogram, None, ('air',)) to 'A5, diesel, burned in building machine' (megajoule, GLO, None)>\n",
      "Exchange: 7.01e-10 kilogram 'Benzo(a)pyrene' (kilogram, None, ('air',)) to 'A5, diesel, burned in building machine' (megajoule, GLO, None)>\n",
      "Exchange: 2.34e-10 kilogram 'Cadmium II' (kilogram, None, ('air',)) to 'A5, diesel, burned in building machine' (megajoule, GLO, None)>\n",
      "Exchange: 7.44086e-05 kilogram 'Carbon dioxide, fossil' (kilogram, None, ('air',)) to 'A5, diesel, burned in building machine' (megajoule, GLO, None)>\n",
      "Exchange: 3.19444e-08 kilogram 'Carbon monoxide, fossil' (kilogram, None, ('air',)) to 'A5, diesel, burned in building machine' (megajoule, GLO, None)>\n",
      "Exchange: 1.17e-09 kilogram 'Chromium III' (kilogram, None, ('air',)) to 'A5, diesel, burned in building machine' (megajoule, GLO, None)>\n",
      "Exchange: 3.97e-08 kilogram 'Copper ion' (kilogram, None, ('air',)) to 'A5, diesel, burned in building machine' (megajoule, GLO, None)>\n",
      "Exchange: 4.99833e-10 kilogram 'Dinitrogen monoxide' (kilogram, None, ('air',)) to 'A5, diesel, burned in building machine' (megajoule, GLO, None)>\n",
      "Exchange: 1.4e-15 kilogram 'Dioxins, measured as 2,3,7,8-tetrachlorodibenzo-p-dioxin' (kilogram, None, ('air',)) to 'A5, diesel, burned in building machine' (megajoule, GLO, None)>\n",
      "Exchange: 3.75e-06 kilogram 'Methane, fossil' (kilogram, None, ('air',)) to 'A5, diesel, burned in building machine' (megajoule, GLO, None)>\n",
      "Exchange: 8.91294e-10 kilogram 'NMVOC, non-methane volatile organic compounds' (kilogram, None, ('air',)) to 'A5, diesel, burned in building machine' (megajoule, GLO, None)>\n",
      "Exchange: 1.64e-09 kilogram 'Nickel II' (kilogram, None, ('air',)) to 'A5, diesel, burned in building machine' (megajoule, GLO, None)>\n",
      "Exchange: 7.67056e-08 kilogram 'Nitrogen oxides' (kilogram, None, ('air',)) to 'A5, diesel, burned in building machine' (megajoule, GLO, None)>\n",
      "Exchange: 7.85e-08 kilogram 'PAH, polycyclic aromatic hydrocarbons' (kilogram, None, ('air',)) to 'A5, diesel, burned in building machine' (megajoule, GLO, None)>\n",
      "Exchange: 1.29832e-09 kilogram 'Particulate Matter, < 2.5 um' (kilogram, None, ('air',)) to 'A5, diesel, burned in building machine' (megajoule, GLO, None)>\n",
      "Exchange: 6.83056e-11 kilogram 'Particulate Matter, > 10 um' (kilogram, None, ('air',)) to 'A5, diesel, burned in building machine' (megajoule, GLO, None)>\n",
      "Exchange: 1.23587e-09 kilogram 'Particulate Matter, > 2.5 um and < 10um' (kilogram, None, ('air',)) to 'A5, diesel, burned in building machine' (megajoule, GLO, None)>\n",
      "Exchange: 2.34e-10 kilogram 'Selenium IV' (kilogram, None, ('air',)) to 'A5, diesel, burned in building machine' (megajoule, GLO, None)>\n",
      "Exchange: 4.66667e-10 kilogram 'Sulfur dioxide' (kilogram, None, ('air',)) to 'A5, diesel, burned in building machine' (megajoule, GLO, None)>\n",
      "Exchange: 2.34e-08 kilogram 'Zinc II' (kilogram, None, ('air',)) to 'A5, diesel, burned in building machine' (megajoule, GLO, None)>\n"
     ]
    }
   ],
   "source": [
    "#Look at exhanges characterizing activity diesel_A5\n",
    "for exc in diesel_A5.exchanges():\n",
    "    print(exc)"
   ]
  },
  {
   "cell_type": "markdown",
   "id": "5d333bec-864e-4e9e-bc51-46eee24956b3",
   "metadata": {},
   "source": [
    "Now we change the diesel exchange from *market group for diesel - GLO* to *market for diesel, low-sulfur - Europe without Switzerland*."
   ]
  },
  {
   "cell_type": "code",
   "execution_count": 126,
   "id": "69a69da0-4689-4693-952a-002a41c66c82",
   "metadata": {},
   "outputs": [
    {
     "data": {
      "text/plain": [
       "Exchange: 0.0234 kilogram 'market group for diesel' (kilogram, GLO, None) to 'A5, diesel, burned in building machine' (megajoule, GLO, None)>"
      ]
     },
     "execution_count": 126,
     "metadata": {},
     "output_type": "execute_result"
    }
   ],
   "source": [
    "#Store original diesel exchange as a variable\n",
    "diesel_og = [exc for exc in diesel_A5.exchanges()][2] #Market group for diesel\n",
    "diesel_og"
   ]
  },
  {
   "cell_type": "code",
   "execution_count": 132,
   "id": "89ecb6ec-a5b3-40a8-be20-89f78c92527c",
   "metadata": {},
   "outputs": [
    {
     "data": {
      "text/plain": [
       "{'flow': '291fc06d-1b3e-4077-aabb-346b588ed24b',\n",
       " 'type': 'technosphere',\n",
       " 'name': 'diesel',\n",
       " 'classifications': {'CPC': ['33360: Gas oil']},\n",
       " 'production volume': 0.0,\n",
       " 'properties': {'carbon allocation': {'amount': 0.865, 'unit': 'kg'},\n",
       "  'carbon content': {'amount': 0.865, 'unit': 'dimensionless'},\n",
       "  'carbon content, fossil': {'amount': 0.865,\n",
       "   'comment': 'C-content of diesel is 86.5% (ecoinvent v2.2 report 6_IV, Tab 3.14)',\n",
       "   'unit': 'dimensionless'},\n",
       "  'carbon content, non-fossil': {'amount': 0.0, 'unit': 'dimensionless'},\n",
       "  'dry mass': {'amount': 1.0, 'unit': 'kg'},\n",
       "  'heating value, net': {'amount': 42.8,\n",
       "   'comment': 'Based on literature, page 16, Report6, part 4',\n",
       "   'unit': 'MJ'},\n",
       "  'water content': {'amount': 0.0,\n",
       "   'comment': 'water mass/dry mass',\n",
       "   'unit': 'dimensionless'},\n",
       "  'water in wet mass': {'amount': 0.0, 'unit': 'kg'},\n",
       "  'wet mass': {'amount': 1.0, 'unit': 'kg'}},\n",
       " 'activity': '4df5d193-687d-534a-b8e5-9f80e6a93b2d',\n",
       " 'unit': 'kilogram',\n",
       " 'comment': 'EcoSpold01Location=RER',\n",
       " 'amount': 0.0234,\n",
       " 'pedigree': {'reliability': 1,\n",
       "  'completeness': 5,\n",
       "  'temporal correlation': 5,\n",
       "  'geographical correlation': 3,\n",
       "  'further technological correlation': 1},\n",
       " 'uncertainty type': 2,\n",
       " 'loc': -3.7550192566184815,\n",
       " 'scale': 0.241039415863879,\n",
       " 'scale without pedigree': 0.1,\n",
       " 'input': ('ecoinvent-391-cutoff', '59e551f337bff8f8d7578bcd0c48472e'),\n",
       " 'output': ('ecoinvent-391-cutoff', '50aace6627f8438488f9c0c1ab58e8a7')}"
      ]
     },
     "execution_count": 132,
     "metadata": {},
     "output_type": "execute_result"
    }
   ],
   "source": [
    "#Take a closer look to diesel_og\n",
    "diesel_og.as_dict()"
   ]
  },
  {
   "cell_type": "code",
   "execution_count": 113,
   "id": "a3e0c169-5275-4de8-8990-065187aff31c",
   "metadata": {},
   "outputs": [
    {
     "data": {
      "text/plain": [
       "['market for diesel, low-sulfur' (kilogram, Europe without Switzerland, None),\n",
       " 'market for diesel, low-sulfur' (kilogram, RoW, None),\n",
       " 'market for diesel, low-sulfur' (kilogram, CH, None),\n",
       " 'diesel production, low-sulfur' (kilogram, CH, None),\n",
       " 'market for diesel, low-sulfur' (kilogram, BR, None),\n",
       " 'market for diesel, low-sulfur' (kilogram, IN, None),\n",
       " 'market for diesel, low-sulfur' (kilogram, CO, None),\n",
       " 'market for diesel, low-sulfur' (kilogram, ZA, None),\n",
       " 'market for diesel, low-sulfur' (kilogram, PE, None),\n",
       " 'diesel, low-sulfur, import from Europe' (kilogram, CH, None),\n",
       " 'market group for diesel, low-sulfur' (kilogram, RER, None),\n",
       " 'market group for diesel, low-sulfur' (kilogram, GLO, None),\n",
       " 'diesel, low-sulfur, import from RoW' (kilogram, BR, None),\n",
       " 'diesel, low-sulfur, import from RoW' (kilogram, IN, None),\n",
       " 'diesel, low-sulfur, import from RoW' (kilogram, ZA, None),\n",
       " 'diesel, low-sulfur, import from RoW' (kilogram, PE, None),\n",
       " 'diesel, low-sulfur, import from RoW' (kilogram, CO, None),\n",
       " 'diesel production, low-sulfur, petroleum refinery operation' (kilogram, PE, None),\n",
       " 'diesel production, low-sulfur, petroleum refinery operation' (kilogram, BR, None),\n",
       " 'diesel production, low-sulfur, petroleum refinery operation' (kilogram, IN, None),\n",
       " 'diesel production, low-sulfur, petroleum refinery operation' (kilogram, ZA, None),\n",
       " 'diesel production, low-sulfur, petroleum refinery operation' (kilogram, RoW, None),\n",
       " 'diesel production, low-sulfur, petroleum refinery operation' (kilogram, Europe without Switzerland, None),\n",
       " 'diesel production, low-sulfur, petroleum refinery operation' (kilogram, CO, None),\n",
       " 'machine operation, diesel, < 18.64 kW, generators' (hour, GLO, None)]"
      ]
     },
     "execution_count": 113,
     "metadata": {},
     "output_type": "execute_result"
    }
   ],
   "source": [
    "#find replacement exchange for diesel_og: market for diesel, low-sulfur - Europe without Switzerland\n",
    "EI_DB.search('diesel, low-sulfur')"
   ]
  },
  {
   "cell_type": "code",
   "execution_count": 134,
   "id": "0c547c1f-fc37-47e9-9c54-a25193a40ef9",
   "metadata": {},
   "outputs": [],
   "source": [
    "#store replacement activity as variable\n",
    "diesel_ls = EI_DB.search('diesel, low-sulfur')[0]"
   ]
  },
  {
   "cell_type": "code",
   "execution_count": 141,
   "id": "c15181d1-2e1f-4371-910f-18f333bd0765",
   "metadata": {},
   "outputs": [
    {
     "data": {
      "text/plain": [
       "{'comment': \"This is a market activity. Each market represents the consumption mix of a product in a given geography, connecting suppliers with consumers of the same product in the same geographical area. Markets group the producers and also the imports of the product (if relevant) within the same geographical area. They also account for transport to the consumer and for the losses during that process, when relevant.\\nThis is the market for  'diesel, low-sulfur', in the geography of Europe without Switzerland.\\nInventory for the distribution of petroleum product to the final consumer (household, car, power plant, etc.) including all necessary transports.\\n[This dataset was already contained in the ecoinvent database version 2. It was not individually updated during the transfer to ecoinvent version 3. Life Cycle Impact Assessment results may still have changed, as they are affected by changes in the supply chain, i.e. in other datasets. This dataset was generated following the ecoinvent quality guidelines for version 2. It may have been subject to central changes described in the ecoinvent version 3 change report (http://www.ecoinvent.org/database/ecoinvent-version-3/reports-of-changes/), and the results of the central updates were reviewed extensively. The changes added e.g. consistent water flows and other information throughout the database. The documentation of this dataset can be found in the ecoinvent reports of version 2, which are still available via the ecoinvent website. The change report linked above covers all central changes that were made during the conversion process.]\\ndiesel, low-sulfur' is a fossil fuel with a calorific value of 42.8 MJ/kg. It is used as a liquid fuel and is sourced from fractional distillation of crude oil. Its main applications are in the following sectors: automotive, railroad, aviation, agricultural and military vehicle fuel.\\nGeography:  Surveys mainly for DE and CH.\\nTechnology:  Distribution of petroleum products.\\nTime period:  Most information for the year 2000. Split up of NMVOC emissions published 1989.\",\n",
       " 'classifications': [('EcoSpold01Categories', 'oil/fuels'),\n",
       "  ('ISIC rev.4 ecoinvent', '1920:Manufacture of refined petroleum products'),\n",
       "  ('CPC', '33360: Gas oil')],\n",
       " 'activity type': 'market activity',\n",
       " 'activity': '4be0eb22-306e-5693-80e0-7e625cb639d7',\n",
       " 'database': 'ecoinvent-391-cutoff',\n",
       " 'filename': '4be0eb22-306e-5693-80e0-7e625cb639d7_b80eb2d5-1256-41bb-a61d-83252d0dfd4d.spold',\n",
       " 'location': 'Europe without Switzerland',\n",
       " 'name': 'market for diesel, low-sulfur',\n",
       " 'synonyms': ['green diesel'],\n",
       " 'parameters': [{'description': 'fraction, process water, to air',\n",
       "   'id': 'daadf2d4-7bbb-4f69-8ab5-58df4c1685eb',\n",
       "   'unit': 'dimensionless',\n",
       "   'comment': 'Literature value. In case when no industry/process specific data are available, default evaporation fraction value is used. This value is 15% and is based on literature (Statistics Canada, 2007 & Shaffer, K.H., 2008, Consumptive water use in the Great Lakes Basin, USGS & Shiklomanov, 2003, World Water Resources at the Beginning of the 21st Century) and has been approved by an expert.',\n",
       "   'amount': 0.15,\n",
       "   'pedigree': {'reliability': 4,\n",
       "    'completeness': 4,\n",
       "    'temporal correlation': 3,\n",
       "    'geographical correlation': 2,\n",
       "    'further technological correlation': 4},\n",
       "   'uncertainty type': 2,\n",
       "   'loc': -1.9,\n",
       "   'scale': 0.30335622624235026,\n",
       "   'scale without pedigree': 0.2,\n",
       "   'name': 'fraction_PW_to_air'},\n",
       "  {'description': 'fraction, tap water, to air',\n",
       "   'id': '148c8010-cc60-48cd-9b40-fc7278e377f7',\n",
       "   'unit': 'dimensionless',\n",
       "   'comment': 'Calculated value. See comment in the other parametres present in this dataset. Tap water is considered to be always used as process water, thus process water fractions to air are applied to all tap water input flows to calculate the amount of water consumed in the processes.',\n",
       "   'amount': 0.15,\n",
       "   'pedigree': {'reliability': 4,\n",
       "    'completeness': 4,\n",
       "    'temporal correlation': 3,\n",
       "    'geographical correlation': 2,\n",
       "    'further technological correlation': 4},\n",
       "   'uncertainty type': 2,\n",
       "   'loc': -1.9,\n",
       "   'scale': 0.30335622624235026,\n",
       "   'scale without pedigree': 0.2,\n",
       "   'name': 'fraction_TW_to_air'}],\n",
       " 'authors': {'data entry': {'name': 'Niels Jungbluth',\n",
       "   'email': 'ecoinvent@esu-services.ch'},\n",
       "  'data generator': {'name': 'Niels Jungbluth',\n",
       "   'email': 'ecoinvent@esu-services.ch'}},\n",
       " 'type': 'process',\n",
       " 'reference product': 'diesel, low-sulfur',\n",
       " 'flow': 'b80eb2d5-1256-41bb-a61d-83252d0dfd4d',\n",
       " 'unit': 'kilogram',\n",
       " 'production amount': 1.0,\n",
       " 'code': '93406e2b0b71b9681c5aba419dddc642',\n",
       " 'id': 6861}"
      ]
     },
     "execution_count": 141,
     "metadata": {},
     "output_type": "execute_result"
    }
   ],
   "source": [
    "#Take a closer look to diesel_ls\n",
    "diesel_ls.as_dict()"
   ]
  },
  {
   "cell_type": "code",
   "execution_count": 135,
   "id": "d3645a79-2097-4f21-9f67-c773faefe277",
   "metadata": {},
   "outputs": [],
   "source": [
    "#add diesel_ls to diesel_x exchanges based on the diesel_og exchange parameters\n",
    "diesel_ls_A5 = diesel_A5.new_exchange(input=diesel_ls.key, amount=diesel_og.amount, unit=diesel_og.unit, \n",
    "                                      type='technosphere')\n",
    "diesel_ls_C1 = diesel_C1.new_exchange(input=diesel_ls.key, amount=diesel_og.amount, unit=diesel_og.unit, \n",
    "                                      type='technosphere')\n",
    "diesel_ls_A5.save()\n",
    "diesel_ls_C1.save()\n",
    "diesel_A5.save()\n",
    "diesel_C1.save()"
   ]
  },
  {
   "cell_type": "code",
   "execution_count": 136,
   "id": "fc312db4-5d71-4a07-b71d-8837e9b6a232",
   "metadata": {},
   "outputs": [
    {
     "data": {
      "text/plain": [
       "{'flow': '291fc06d-1b3e-4077-aabb-346b588ed24b',\n",
       " 'type': 'technosphere',\n",
       " 'name': 'diesel',\n",
       " 'classifications': {'CPC': ['33360: Gas oil']},\n",
       " 'production volume': 0.0,\n",
       " 'properties': {'carbon allocation': {'amount': 0.865, 'unit': 'kg'},\n",
       "  'carbon content': {'amount': 0.865, 'unit': 'dimensionless'},\n",
       "  'carbon content, fossil': {'amount': 0.865,\n",
       "   'comment': 'C-content of diesel is 86.5% (ecoinvent v2.2 report 6_IV, Tab 3.14)',\n",
       "   'unit': 'dimensionless'},\n",
       "  'carbon content, non-fossil': {'amount': 0.0, 'unit': 'dimensionless'},\n",
       "  'dry mass': {'amount': 1.0, 'unit': 'kg'},\n",
       "  'heating value, net': {'amount': 42.8,\n",
       "   'comment': 'Based on literature, page 16, Report6, part 4',\n",
       "   'unit': 'MJ'},\n",
       "  'water content': {'amount': 0.0,\n",
       "   'comment': 'water mass/dry mass',\n",
       "   'unit': 'dimensionless'},\n",
       "  'water in wet mass': {'amount': 0.0, 'unit': 'kg'},\n",
       "  'wet mass': {'amount': 1.0, 'unit': 'kg'}},\n",
       " 'activity': '4df5d193-687d-534a-b8e5-9f80e6a93b2d',\n",
       " 'unit': 'kilogram',\n",
       " 'comment': 'EcoSpold01Location=RER',\n",
       " 'amount': 0.0234,\n",
       " 'pedigree': {'reliability': 1,\n",
       "  'completeness': 5,\n",
       "  'temporal correlation': 5,\n",
       "  'geographical correlation': 3,\n",
       "  'further technological correlation': 1},\n",
       " 'uncertainty type': 2,\n",
       " 'loc': -3.7550192566184815,\n",
       " 'scale': 0.241039415863879,\n",
       " 'scale without pedigree': 0.1,\n",
       " 'input': ('ecoinvent-391-cutoff', '59e551f337bff8f8d7578bcd0c48472e'),\n",
       " 'output': ('ecoinvent-391-cutoff', '50aace6627f8438488f9c0c1ab58e8a7')}"
      ]
     },
     "execution_count": 136,
     "metadata": {},
     "output_type": "execute_result"
    }
   ],
   "source": [
    "#Verify characterizing activity diesel_A5\n",
    "[exc for exc in diesel_A5.exchanges()][2].as_dict()"
   ]
  },
  {
   "cell_type": "code",
   "execution_count": 142,
   "id": "4ade1846-5369-443e-9eb9-ff1849402d52",
   "metadata": {},
   "outputs": [],
   "source": [
    "#Delete diesel exchange\n",
    "[exc for exc in diesel_A5.exchanges()][2].delete() #Market group for diesel\n",
    "[exc for exc in diesel_C1.exchanges()][2].delete() #Market group for diesel"
   ]
  },
  {
   "cell_type": "code",
   "execution_count": 143,
   "id": "4dcef83f-561f-4837-a0f6-8e666ca86902",
   "metadata": {},
   "outputs": [
    {
     "name": "stdout",
     "output_type": "stream",
     "text": [
      "Exchange: 1.0 megajoule 'A5, diesel, burned in building machine' (megajoule, GLO, None) to 'A5, diesel, burned in building machine' (megajoule, GLO, None)>\n",
      "Exchange: 1.34e-07 unit 'market for building machine' (unit, GLO, None) to 'A5, diesel, burned in building machine' (megajoule, GLO, None)>\n",
      "Exchange: 8.943599999999386e-05 kilogram 'market for lubricating oil' (kilogram, RER, None) to 'A5, diesel, burned in building machine' (megajoule, GLO, None)>\n",
      "Exchange: 0.00042456400000000623 kilogram 'market for lubricating oil' (kilogram, RoW, None) to 'A5, diesel, burned in building machine' (megajoule, GLO, None)>\n",
      "Exchange: -0.0003694187171108785 kilogram 'market for waste mineral oil' (kilogram, RoW, None) to 'A5, diesel, burned in building machine' (megajoule, GLO, None)>\n",
      "Exchange: -0.00014108849302253373 kilogram 'market for waste mineral oil' (kilogram, Europe without Switzerland, None) to 'A5, diesel, burned in building machine' (megajoule, GLO, None)>\n",
      "Exchange: -3.4927898665877724e-06 kilogram 'market for waste mineral oil' (kilogram, CH, None) to 'A5, diesel, burned in building machine' (megajoule, GLO, None)>\n",
      "Exchange: 2.33222e-07 kilogram 'Ammonia' (kilogram, None, ('air',)) to 'A5, diesel, burned in building machine' (megajoule, GLO, None)>\n",
      "Exchange: 7.01e-10 kilogram 'Benzo(a)pyrene' (kilogram, None, ('air',)) to 'A5, diesel, burned in building machine' (megajoule, GLO, None)>\n",
      "Exchange: 2.34e-10 kilogram 'Cadmium II' (kilogram, None, ('air',)) to 'A5, diesel, burned in building machine' (megajoule, GLO, None)>\n",
      "Exchange: 7.44086e-05 kilogram 'Carbon dioxide, fossil' (kilogram, None, ('air',)) to 'A5, diesel, burned in building machine' (megajoule, GLO, None)>\n",
      "Exchange: 3.19444e-08 kilogram 'Carbon monoxide, fossil' (kilogram, None, ('air',)) to 'A5, diesel, burned in building machine' (megajoule, GLO, None)>\n",
      "Exchange: 1.17e-09 kilogram 'Chromium III' (kilogram, None, ('air',)) to 'A5, diesel, burned in building machine' (megajoule, GLO, None)>\n",
      "Exchange: 3.97e-08 kilogram 'Copper ion' (kilogram, None, ('air',)) to 'A5, diesel, burned in building machine' (megajoule, GLO, None)>\n",
      "Exchange: 4.99833e-10 kilogram 'Dinitrogen monoxide' (kilogram, None, ('air',)) to 'A5, diesel, burned in building machine' (megajoule, GLO, None)>\n",
      "Exchange: 1.4e-15 kilogram 'Dioxins, measured as 2,3,7,8-tetrachlorodibenzo-p-dioxin' (kilogram, None, ('air',)) to 'A5, diesel, burned in building machine' (megajoule, GLO, None)>\n",
      "Exchange: 3.75e-06 kilogram 'Methane, fossil' (kilogram, None, ('air',)) to 'A5, diesel, burned in building machine' (megajoule, GLO, None)>\n",
      "Exchange: 8.91294e-10 kilogram 'NMVOC, non-methane volatile organic compounds' (kilogram, None, ('air',)) to 'A5, diesel, burned in building machine' (megajoule, GLO, None)>\n",
      "Exchange: 1.64e-09 kilogram 'Nickel II' (kilogram, None, ('air',)) to 'A5, diesel, burned in building machine' (megajoule, GLO, None)>\n",
      "Exchange: 7.67056e-08 kilogram 'Nitrogen oxides' (kilogram, None, ('air',)) to 'A5, diesel, burned in building machine' (megajoule, GLO, None)>\n",
      "Exchange: 7.85e-08 kilogram 'PAH, polycyclic aromatic hydrocarbons' (kilogram, None, ('air',)) to 'A5, diesel, burned in building machine' (megajoule, GLO, None)>\n",
      "Exchange: 1.29832e-09 kilogram 'Particulate Matter, < 2.5 um' (kilogram, None, ('air',)) to 'A5, diesel, burned in building machine' (megajoule, GLO, None)>\n",
      "Exchange: 6.83056e-11 kilogram 'Particulate Matter, > 10 um' (kilogram, None, ('air',)) to 'A5, diesel, burned in building machine' (megajoule, GLO, None)>\n",
      "Exchange: 1.23587e-09 kilogram 'Particulate Matter, > 2.5 um and < 10um' (kilogram, None, ('air',)) to 'A5, diesel, burned in building machine' (megajoule, GLO, None)>\n",
      "Exchange: 2.34e-10 kilogram 'Selenium IV' (kilogram, None, ('air',)) to 'A5, diesel, burned in building machine' (megajoule, GLO, None)>\n",
      "Exchange: 4.66667e-10 kilogram 'Sulfur dioxide' (kilogram, None, ('air',)) to 'A5, diesel, burned in building machine' (megajoule, GLO, None)>\n",
      "Exchange: 2.34e-08 kilogram 'Zinc II' (kilogram, None, ('air',)) to 'A5, diesel, burned in building machine' (megajoule, GLO, None)>\n",
      "Exchange: 0.0234 kilogram 'market for diesel, low-sulfur' (kilogram, Europe without Switzerland, None) to 'A5, diesel, burned in building machine' (megajoule, GLO, None)>\n"
     ]
    }
   ],
   "source": [
    "#Verify characterizing activity diesel_A5\n",
    "for exc in diesel_A5.exchanges():\n",
    "    print(exc)"
   ]
  },
  {
   "cell_type": "code",
   "execution_count": 144,
   "id": "ca07e1d2-0fa8-439b-bc28-df9c56a5ddc1",
   "metadata": {},
   "outputs": [
    {
     "data": {
      "text/plain": [
       "{'output': ('ecoinvent-391-cutoff', '50aace6627f8438488f9c0c1ab58e8a7'),\n",
       " 'input': ('ecoinvent-391-cutoff', '93406e2b0b71b9681c5aba419dddc642'),\n",
       " 'amount': 0.0234,\n",
       " 'unit': 'kilogram',\n",
       " 'type': 'technosphere'}"
      ]
     },
     "execution_count": 144,
     "metadata": {},
     "output_type": "execute_result"
    }
   ],
   "source": [
    "#Verify diesel_ls exchange\n",
    "[exc for exc in diesel_A5.exchanges()][27].as_dict()"
   ]
  },
  {
   "cell_type": "markdown",
   "id": "14256751-8ae3-4bb9-a477-2ae38ef0664b",
   "metadata": {},
   "source": [
    "## Adding modified transport processes\n",
    "\n",
    "Two new transport processes to model the extra fuel consumption due to pavement deterioration in the use phase (B) must be added to the background. These processes are based on the following ecoinvent processes:\n",
    "\n",
    "The new processes are modified to only include the exchanges related to fuel (diesel and petrol). The name of the new processes is:\n",
    "\n",
    "- transport, freight, lorry 7.5-16 metric ton, EURO5 - RER\n",
    "- transport, passenger car, medium size, petrol, EURO 5 - RER\n",
    "\n",
    "The new processes are modified to only include the technosphere exchanges related to fuel (diesel and petrol). The names of the new processeses are:\n",
    "- B, transport, freight, lorry 7.5-16 metric ton, EURO5 - RER\n",
    "- B, transport, passenger car, medium size, petrol, EURO 5 - RER"
   ]
  },
  {
   "cell_type": "code",
   "execution_count": 26,
   "id": "ffe5c441-1858-41aa-a175-cb63eecce47c",
   "metadata": {
    "scrolled": true
   },
   "outputs": [
    {
     "data": {
      "text/plain": [
       "['transport, freight, lorry 7.5-16 metric ton, EURO5' (ton kilometer, BR, None),\n",
       " 'market for transport, freight, lorry 7.5-16 metric ton, EURO5' (ton kilometer, BR, None),\n",
       " 'market for transport, freight, lorry 7.5-16 metric ton, EURO5' (ton kilometer, RER, None),\n",
       " 'market for transport, freight, lorry 7.5-16 metric ton, EURO5' (ton kilometer, RoW, None),\n",
       " 'transport, freight, lorry 7.5-16 metric ton, EURO5' (ton kilometer, RER, None),\n",
       " 'transport, freight, lorry 7.5-16 metric ton, EURO5' (ton kilometer, RoW, None),\n",
       " 'transport, freight, lorry >32 metric ton, EURO5' (ton kilometer, RER, None),\n",
       " 'transport, freight, lorry >32 metric ton, EURO5' (ton kilometer, RoW, None),\n",
       " 'market for transport, freight, lorry with refrigeration machine, 7.5-16 ton, EURO5, R134a refrigerant, cooling' (ton kilometer, GLO, None),\n",
       " 'market for transport, freight, lorry with refrigeration machine, 7.5-16 ton, EURO5, R134a refrigerant, freezing' (ton kilometer, GLO, None),\n",
       " 'transport, freight, lorry 3.5-7.5 metric ton, EURO5' (ton kilometer, RER, None),\n",
       " 'transport, freight, lorry 16-32 metric ton, EURO5' (ton kilometer, RER, None),\n",
       " 'transport, freight, lorry 16-32 metric ton, EURO5' (ton kilometer, RoW, None),\n",
       " 'transport, freight, lorry 3.5-7.5 metric ton, EURO5' (ton kilometer, RoW, None),\n",
       " 'market for transport, freight, lorry with refrigeration machine, 7.5-16 ton, EURO5, carbon dioxide, liquid refrig(...)_8' (ton kilometer, GLO, None),\n",
       " 'market for transport, freight, lorry with refrigeration machine, 7.5-16 ton, EURO5, carbon dioxide, liquid refri(...)_16' (ton kilometer, GLO, None)]"
      ]
     },
     "execution_count": 26,
     "metadata": {},
     "output_type": "execute_result"
    }
   ],
   "source": [
    "#Search for transport processes in background database\n",
    "EI_DB.search('transport, freight, lorry 7.5-16 metric ton, EURO5')"
   ]
  },
  {
   "cell_type": "code",
   "execution_count": 27,
   "id": "ac7cacc5-c5c7-40c6-bc90-d2745bfbb145",
   "metadata": {
    "scrolled": true
   },
   "outputs": [
    {
     "data": {
      "text/plain": [
       "['transport, passenger car, medium size, petrol, EURO 5' (kilometer, RoW, None),\n",
       " 'transport, passenger car, medium size, petrol, EURO 5' (kilometer, RER, None),\n",
       " 'market for transport, passenger car, medium size, petrol, EURO 5' (kilometer, GLO, None),\n",
       " 'transport, passenger car, small size, petrol, EURO 5' (kilometer, RER, None),\n",
       " 'transport, passenger car, large size, petrol, EURO 5' (kilometer, RER, None),\n",
       " 'transport, passenger car, small size, petrol, EURO 5' (kilometer, RoW, None),\n",
       " 'transport, passenger car, large size, petrol, EURO 5' (kilometer, RoW, None),\n",
       " 'transport, passenger car, medium size, diesel, EURO 5' (kilometer, RoW, None),\n",
       " 'transport, passenger car, medium size, diesel, EURO 5' (kilometer, RER, None),\n",
       " 'transport, passenger car, medium size, natural gas, EURO 5' (kilometer, RER, None),\n",
       " 'transport, passenger car, medium size, natural gas, EURO 5' (kilometer, RoW, None),\n",
       " 'transport, passenger car, small size, diesel, EURO 5' (kilometer, RER, None),\n",
       " 'transport, passenger car, small size, diesel, EURO 5' (kilometer, RoW, None),\n",
       " 'transport, passenger car, large size, diesel, EURO 5' (kilometer, RER, None),\n",
       " 'transport, passenger car, large size, diesel, EURO 5' (kilometer, RoW, None),\n",
       " 'transport, passenger car, small size, natural gas, EURO 5' (kilometer, RER, None),\n",
       " 'transport, passenger car, small size, natural gas, EURO 5' (kilometer, RoW, None),\n",
       " 'transport, passenger car, large size, natural gas, EURO 5' (kilometer, RER, None),\n",
       " 'transport, passenger car, large size, natural gas, EURO 5' (kilometer, RoW, None),\n",
       " 'transport, passenger car, medium size, liquefied petroleum gas (LPG), EURO 5' (kilometer, GLO, None)]"
      ]
     },
     "execution_count": 27,
     "metadata": {},
     "output_type": "execute_result"
    }
   ],
   "source": [
    "EI_DB.search('transport, passenger car, medium size, petrol, EURO 5')"
   ]
  },
  {
   "cell_type": "code",
   "execution_count": 55,
   "id": "f076fa1d-4452-4cd9-a446-5c7f344d62f0",
   "metadata": {},
   "outputs": [],
   "source": [
    "#Copy existing lorry process\n",
    "lorry = EI_DB.search('transport, freight, lorry 7.5-16 metric ton, EURO5')[4]\n",
    "lorry_B = lorry.copy(name='B, transport, freight, lorry 7.5-16 metric ton, EURO5') "
   ]
  },
  {
   "cell_type": "code",
   "execution_count": null,
   "id": "052db8e4-1e70-40c1-9904-43ba4f80384f",
   "metadata": {},
   "outputs": [],
   "source": [
    "#Copy existing car process\n",
    "car = EI_DB.search('transport, passenger car, medium size, petrol, EURO 5')[1]\n",
    "car_B = car.copy(name='B, transport, passenger car, medium size, petrol, EURO 5') "
   ]
  },
  {
   "cell_type": "code",
   "execution_count": 56,
   "id": "323cb722-b19c-47a9-bb0b-a617af27b7eb",
   "metadata": {
    "scrolled": true
   },
   "outputs": [
    {
     "data": {
      "text/plain": [
       "['B, transport, freight, lorry 7.5-16 metric ton, EURO5' (ton kilometer, RER, None),\n",
       " 'B, transport, passenger car, medium size, petrol, EURO 5' (kilometer, RER, None),\n",
       " 'market for cement, CEM III/B' (kilogram, Europe without Switzerland, None),\n",
       " 'market for cement, CEM III/B' (kilogram, CH, None),\n",
       " 'market for cement, CEM II/B' (kilogram, Europe without Switzerland, None),\n",
       " 'market for cement, CEM IV/B' (kilogram, Europe without Switzerland, None),\n",
       " 'market for cement, CEM V/B' (kilogram, Europe without Switzerland, None),\n",
       " 'market for cement, CEM V/B' (kilogram, CH, None),\n",
       " 'market for cement, CEM II/B' (kilogram, CH, None),\n",
       " 'market for cement, CEM IV/B' (kilogram, CH, None),\n",
       " 'market for cement, CEM III/B' (kilogram, RoW, None),\n",
       " 'market for cement, CEM V/B' (kilogram, RoW, None),\n",
       " 'market for cement, CEM IV/B' (kilogram, RoW, None),\n",
       " 'market for cement, CEM II/B' (kilogram, RoW, None),\n",
       " 'market for cement, CEM II/B-S' (kilogram, ZA, None),\n",
       " 'market for cement, CEM II/B-L' (kilogram, ZA, None),\n",
       " 'market for cement, CEM II/B-V' (kilogram, ZA, None)]"
      ]
     },
     "execution_count": 56,
     "metadata": {},
     "output_type": "execute_result"
    }
   ],
   "source": [
    "#Verify that the new transport processes were recorded\n",
    "EI_DB.search('B, transport,')"
   ]
  },
  {
   "cell_type": "markdown",
   "id": "2f9532e1-b6a9-407f-b26a-114e42271706",
   "metadata": {},
   "source": [
    "First, let's update B, transport, freight, lorry 7.5-16 metric ton, EURO5"
   ]
  },
  {
   "cell_type": "code",
   "execution_count": 57,
   "id": "1b48a65b-b815-4f42-8399-c01b67d28f0b",
   "metadata": {
    "scrolled": true
   },
   "outputs": [
    {
     "name": "stdout",
     "output_type": "stream",
     "text": [
      "Exchange: -2.29493343465046e-05 kilogram 'market for brake wear emissions, lorry' (kilogram, GLO, None) to 'B, transport, freight, lorry 7.5-16 metric ton, EURO5' (ton kilometer, RER, None)>\n",
      "Exchange: 0.047302103 kilogram 'market group for diesel, low-sulfur' (kilogram, RER, None) to 'B, transport, freight, lorry 7.5-16 metric ton, EURO5' (ton kilometer, RER, None)>\n",
      "Exchange: 5.63e-07 unit 'market for lorry, 16 metric ton' (unit, RER, None) to 'B, transport, freight, lorry 7.5-16 metric ton, EURO5' (ton kilometer, RER, None)>\n",
      "Exchange: 5.63e-07 unit 'market for maintenance, lorry 16 metric ton' (unit, RER, None) to 'B, transport, freight, lorry 7.5-16 metric ton, EURO5' (ton kilometer, RER, None)>\n",
      "Exchange: 0.00109 meter-year 'market for road' (meter-year, GLO, None) to 'B, transport, freight, lorry 7.5-16 metric ton, EURO5' (ton kilometer, RER, None)>\n",
      "Exchange: 0.000392949198718733 meter-year 'market for road maintenance' (meter-year, RER, None) to 'B, transport, freight, lorry 7.5-16 metric ton, EURO5' (ton kilometer, RER, None)>\n",
      "Exchange: -1.97595744680851e-05 kilogram 'market for road wear emissions, lorry' (kilogram, GLO, None) to 'B, transport, freight, lorry 7.5-16 metric ton, EURO5' (ton kilometer, RER, None)>\n",
      "Exchange: -0.000227376246200608 kilogram 'market for tyre wear emissions, lorry' (kilogram, GLO, None) to 'B, transport, freight, lorry 7.5-16 metric ton, EURO5' (ton kilometer, RER, None)>\n"
     ]
    }
   ],
   "source": [
    "#Look at technosphere exhanges characterizing activity lorry_B\n",
    "for exc in lorry_B.technosphere():\n",
    "    print(exc)"
   ]
  },
  {
   "cell_type": "code",
   "execution_count": 58,
   "id": "0a9a3d30-3d78-4a4c-adb7-8d2f36ac6417",
   "metadata": {
    "scrolled": true
   },
   "outputs": [
    {
     "data": {
      "text/plain": [
       "{'flow': 'b80eb2d5-1256-41bb-a61d-83252d0dfd4d',\n",
       " 'type': 'technosphere',\n",
       " 'name': 'diesel, low-sulfur',\n",
       " 'classifications': {'CPC': ['33360: Gas oil']},\n",
       " 'production volume': 0.0,\n",
       " 'properties': {'carbon allocation': {'amount': 0.865, 'unit': 'kg'},\n",
       "  'carbon content': {'amount': 0.865, 'unit': 'dimensionless'},\n",
       "  'carbon content, fossil': {'amount': 0.865,\n",
       "   'comment': 'C-content of diesel low-sulfur is 86.5% (ecoinvent v2.2 report 6_IV, Tab 3.14)',\n",
       "   'unit': 'dimensionless'},\n",
       "  'carbon content, non-fossil': {'amount': 0.0, 'unit': 'dimensionless'},\n",
       "  'dry mass': {'amount': 1.0, 'unit': 'kg'},\n",
       "  'heating value, net': {'amount': 42.8,\n",
       "   'comment': 'Based on literature, page 16, Report6, part 4',\n",
       "   'unit': 'MJ'},\n",
       "  'water content': {'amount': 0.0,\n",
       "   'comment': 'water mass/dry mass',\n",
       "   'unit': 'dimensionless'},\n",
       "  'water in wet mass': {'amount': 0.0, 'unit': 'kg'},\n",
       "  'wet mass': {'amount': 1.0, 'unit': 'kg'}},\n",
       " 'activity': '427d868d-e90c-5da5-bde4-ff61ebd30a6f',\n",
       " 'unit': 'kilogram',\n",
       " 'comment': 'Literature value. Derived from HBEFA database (Keller, 2010).',\n",
       " 'amount': 0.047302103,\n",
       " 'pedigree': {'reliability': 2,\n",
       "  'completeness': 2,\n",
       "  'temporal correlation': 5,\n",
       "  'geographical correlation': 1,\n",
       "  'further technological correlation': 1},\n",
       " 'uncertainty type': 2,\n",
       " 'loc': -3.0512005235846567,\n",
       " 'scale': 0.20322401432901577,\n",
       " 'scale without pedigree': 0.02449489742783178,\n",
       " 'input': ('ecoinvent-391-cutoff', 'dd8c4592566324f305c02bded60371cc'),\n",
       " 'output': ('ecoinvent-391-cutoff', '6d41b0cf53994a7a92769bbacc47ae06')}"
      ]
     },
     "execution_count": 58,
     "metadata": {},
     "output_type": "execute_result"
    }
   ],
   "source": [
    "#detail look to exchanges of interest\n",
    "[exc for exc in lorry_B.technosphere()][1].as_dict() #market group for diesel, low-sulfur"
   ]
  },
  {
   "cell_type": "code",
   "execution_count": 59,
   "id": "13fde867-7fab-45c5-a74d-e8b2939673a9",
   "metadata": {},
   "outputs": [],
   "source": [
    "# Iterate over exchanges in lorry_B\n",
    "for exc in lorry_B.technosphere():\n",
    "        if exc['name'] != 'diesel, low-sulfur':\n",
    "            # Delete exchange\n",
    "            exc.delete()\n",
    "            exc.save()"
   ]
  },
  {
   "cell_type": "markdown",
   "id": "10f66f56-4ffc-4921-860d-1f79a68896b4",
   "metadata": {},
   "source": [
    "Let's verify the exchanges for the activity  now"
   ]
  },
  {
   "cell_type": "code",
   "execution_count": 60,
   "id": "83802e75-13c4-43e7-ad65-f9d8efac7ea4",
   "metadata": {},
   "outputs": [
    {
     "name": "stdout",
     "output_type": "stream",
     "text": [
      "Exchange: 0.047302103 kilogram 'market group for diesel, low-sulfur' (kilogram, RER, None) to 'B, transport, freight, lorry 7.5-16 metric ton, EURO5' (ton kilometer, RER, None)>\n"
     ]
    }
   ],
   "source": [
    "#Look at exhanges characterizing activity lorry_B\n",
    "for exc in lorry_B.technosphere():\n",
    "    print(exc)"
   ]
  },
  {
   "cell_type": "markdown",
   "id": "df46146d-ed10-42b2-975d-0d4ff6b193bc",
   "metadata": {},
   "source": [
    "Let's repeat for B, transport, passenger car, medium size, petrol, EURO 5"
   ]
  },
  {
   "cell_type": "code",
   "execution_count": 49,
   "id": "74314d96-1fff-4fa3-847a-fe829dbcf360",
   "metadata": {
    "scrolled": true
   },
   "outputs": [
    {
     "name": "stdout",
     "output_type": "stream",
     "text": [
      "Exchange: -7.55254e-06 kilogram 'market for brake wear emissions, passenger car' (kilogram, GLO, None) to 'B, transport, passenger car, medium size, petrol, EURO 5' (kilometer, RER, None)>\n",
      "Exchange: 8.6021505376344e-06 unit 'maintenance, passenger car' (unit, RER, None) to 'B, transport, passenger car, medium size, petrol, EURO 5' (kilometer, RER, None)>\n",
      "Exchange: 0.0106666666666667 kilogram 'market for passenger car, petrol/natural gas' (kilogram, GLO, None) to 'B, transport, passenger car, medium size, petrol, EURO 5' (kilometer, RER, None)>\n",
      "Exchange: 0.06090593821630414 kilogram 'market for petrol, low-sulfur' (kilogram, Europe without Switzerland, None) to 'B, transport, passenger car, medium size, petrol, EURO 5' (kilometer, RER, None)>\n",
      "Exchange: 0.001160855383695865 kilogram 'market for petrol, low-sulfur' (kilogram, CH, None) to 'B, transport, passenger car, medium size, petrol, EURO 5' (kilometer, RER, None)>\n",
      "Exchange: 0.0009113964 meter-year 'market for road' (meter-year, GLO, None) to 'B, transport, passenger car, medium size, petrol, EURO 5' (kilometer, RER, None)>\n",
      "Exchange: 0.000265427119835466 meter-year 'market for road maintenance' (meter-year, RER, None) to 'B, transport, passenger car, medium size, petrol, EURO 5' (kilometer, RER, None)>\n",
      "Exchange: -1.6615588e-05 kilogram 'market for road wear emissions, passenger car' (kilogram, GLO, None) to 'B, transport, passenger car, medium size, petrol, EURO 5' (kilometer, RER, None)>\n",
      "Exchange: -9.71647e-05 kilogram 'market for tyre wear emissions, passenger car' (kilogram, GLO, None) to 'B, transport, passenger car, medium size, petrol, EURO 5' (kilometer, RER, None)>\n"
     ]
    }
   ],
   "source": [
    "#Look at technosphere exhanges characterizing activity car_B\n",
    "for exc in car_B.technosphere():\n",
    "    print(exc)"
   ]
  },
  {
   "cell_type": "code",
   "execution_count": 50,
   "id": "d72172f4-c5ad-4681-b633-21765114dcb0",
   "metadata": {
    "scrolled": true
   },
   "outputs": [
    {
     "data": {
      "text/plain": [
       "{'flow': '894c4486-e821-4d6c-b99f-7e3f63d4a083',\n",
       " 'type': 'technosphere',\n",
       " 'name': 'petrol, low-sulfur',\n",
       " 'classifications': {'CPC': ['333: Petroleum oils and oils obtained from bituminous materials, other than crude; preparations n.e.c. containing by […]']},\n",
       " 'production volume': 0.0,\n",
       " 'properties': {'carbon allocation': {'amount': 0.865, 'unit': 'kg'},\n",
       "  'carbon content': {'amount': 0.865, 'unit': 'dimensionless'},\n",
       "  'carbon content, fossil': {'amount': 0.865, 'unit': 'dimensionless'},\n",
       "  'carbon content, non-fossil': {'amount': 0.0, 'unit': 'dimensionless'},\n",
       "  'dry mass': {'amount': 1.0, 'unit': 'kg'},\n",
       "  'heating value, net': {'amount': 42.5,\n",
       "   'comment': 'Based on literature, page 611, Report 17: Jungbluth, N., Chudacoff, M., Dauriat, A., Dinkel, F., Doka, G., Faist Emmenegger, M., Gnansounou, E., Kljun, N., Schleiss, K., Spielmann, M., Stettler, C., Sutter, J. 2007: Life Cycle Inventories of Bioenergy. ecoinvent report No. 17, Swiss Centre for Life Cycle Inventories, Dübendorf, CH.',\n",
       "   'unit': 'MJ'},\n",
       "  'water content': {'amount': 0.0, 'unit': 'dimensionless'},\n",
       "  'water in wet mass': {'amount': 0.0, 'unit': 'kg'},\n",
       "  'wet mass': {'amount': 1.0, 'unit': 'kg'}},\n",
       " 'activity': 'b24c4ecf-3e5c-5728-bef4-cbc4bab51d1c',\n",
       " 'unit': 'kilogram',\n",
       " 'comment': 'Calculation, based on data from TREMOVE (2007)\\n\\nFuel consumption is influenced by vehicle weight. Fuel input exchanges (petrol low-sulphur, diesel low-sulphur and natural gas) are scaled according to the specific vehicle weight inserted by the ecoinvent user. Calculation of the fuel consumption uses a fuel specific constant. This corresponds to:\\n((specific gross vehicle weight - basis vehicle weight) * constant + basis vehicle fuel consumption',\n",
       " 'formula': '((gross_vehicle_weight-vehicle_weight)* fc_constant) + fc_basis_vehicle    ',\n",
       " 'amount': 0.001160855383695865,\n",
       " 'pedigree': {'reliability': 2,\n",
       "  'completeness': 2,\n",
       "  'temporal correlation': 5,\n",
       "  'geographical correlation': 1,\n",
       "  'further technological correlation': 1},\n",
       " 'uncertainty type': 2,\n",
       " 'loc': -6.7585981458716535,\n",
       " 'scale': 0.20322401432901577,\n",
       " 'scale without pedigree': 0.02449489742783178,\n",
       " 'input': ('ecoinvent-391-cutoff', '0b00933c4dbb757adc900c3b0e2e16c7'),\n",
       " 'output': ('ecoinvent-391-cutoff', '16d935c955b14a9586007ed700e89200')}"
      ]
     },
     "execution_count": 50,
     "metadata": {},
     "output_type": "execute_result"
    }
   ],
   "source": [
    "#detail look to exchanges of interest\n",
    "[exc for exc in car_B.technosphere()][3].as_dict() #market for petrol, low-sulfur - Europe without Szwitzerland\n",
    "[exc for exc in car_B.technosphere()][4].as_dict() #market for petrol, low-sulfur - CH"
   ]
  },
  {
   "cell_type": "code",
   "execution_count": 51,
   "id": "f897d9b2-7353-4500-b635-266a62577350",
   "metadata": {},
   "outputs": [],
   "source": [
    "# Iterate over exchanges in car_B\n",
    "for exc in car_B.technosphere():\n",
    "        if exc['name'] != 'petrol, low-sulfur':\n",
    "            #delete exchange\n",
    "            exc.delete()\n",
    "            exc.save()"
   ]
  },
  {
   "cell_type": "code",
   "execution_count": 52,
   "id": "6cd414c4-639c-475e-b67a-6d3d761ff852",
   "metadata": {},
   "outputs": [
    {
     "name": "stdout",
     "output_type": "stream",
     "text": [
      "Exchange: 0.06090593821630414 kilogram 'market for petrol, low-sulfur' (kilogram, Europe without Switzerland, None) to 'B, transport, passenger car, medium size, petrol, EURO 5' (kilometer, RER, None)>\n",
      "Exchange: 0.001160855383695865 kilogram 'market for petrol, low-sulfur' (kilogram, CH, None) to 'B, transport, passenger car, medium size, petrol, EURO 5' (kilometer, RER, None)>\n"
     ]
    }
   ],
   "source": [
    "#Look at exhanges characterizing activity car_B\n",
    "for exc in car_B.technosphere():\n",
    "    print(exc)"
   ]
  },
  {
   "cell_type": "markdown",
   "id": "b71790dc-6ef5-4bca-a76d-78a206b3127e",
   "metadata": {},
   "source": [
    "## Adding basalt quarry operation modified process\n",
    "\n",
    "This processs is based on the following ecoinvent process:\n",
    "\n",
    "- basalt quarry operation - RER\n",
    "\n",
    "The new process is modified to set the basalt biosphere exchange amount to 0, the technosphere limestone quarry infrastructure exchange amount to 0, and multiply all the rest of the technosphere exchanges by 1,04. \n",
    "\n",
    "The name of the new process is set to\n",
    "\n",
    "- basalt quarry operation (for crushed stone) - RER"
   ]
  },
  {
   "cell_type": "code",
   "execution_count": 61,
   "id": "66aa6b60-6dcf-4013-8604-4a90e2f70362",
   "metadata": {},
   "outputs": [
    {
     "data": {
      "text/plain": [
       "['basalt quarry operation' (kilogram, RoW, None),\n",
       " 'basalt quarry operation' (kilogram, RER, None)]"
      ]
     },
     "execution_count": 61,
     "metadata": {},
     "output_type": "execute_result"
    }
   ],
   "source": [
    "#Search for basalt quarry operation in background database\n",
    "EI_DB.search('basalt quarry operation')"
   ]
  },
  {
   "cell_type": "code",
   "execution_count": 63,
   "id": "d0552104-1998-496c-87d4-554707ecf21b",
   "metadata": {},
   "outputs": [],
   "source": [
    "#Copy existing basalt process\n",
    "basalt = EI_DB.search('basalt quarry operation')[1]\n",
    "basalt_cs = basalt.copy(name='basalt quarry operation (for crushed stone)') "
   ]
  },
  {
   "cell_type": "code",
   "execution_count": 65,
   "id": "35c70537-22d8-406b-b339-ecb247a3ea7e",
   "metadata": {},
   "outputs": [
    {
     "data": {
      "text/plain": [
       "['basalt quarry operation' (kilogram, RoW, None),\n",
       " 'basalt quarry operation' (kilogram, RER, None),\n",
       " 'basalt quarry operation (for crushed stone)' (kilogram, RER, None)]"
      ]
     },
     "execution_count": 65,
     "metadata": {},
     "output_type": "execute_result"
    }
   ],
   "source": [
    "#Verify that the new basalt process was recorded\n",
    "EI_DB.search('basalt quarry operation')"
   ]
  },
  {
   "cell_type": "code",
   "execution_count": 67,
   "id": "5c1909e4-fad3-443b-8b2a-0d2c44642449",
   "metadata": {
    "scrolled": true
   },
   "outputs": [
    {
     "name": "stdout",
     "output_type": "stream",
     "text": [
      "Exchange: 8e-06 kilogram 'Particulate Matter, < 2.5 um' (kilogram, None, ('air', 'non-urban air or from high stacks')) to 'basalt quarry operation (for crushed stone)' (kilogram, RER, None)>\n",
      "Exchange: 0.000112 kilogram 'Particulate Matter, > 10 um' (kilogram, None, ('air', 'non-urban air or from high stacks')) to 'basalt quarry operation (for crushed stone)' (kilogram, RER, None)>\n",
      "Exchange: 4e-05 kilogram 'Particulate Matter, > 2.5 um and < 10um' (kilogram, None, ('air', 'non-urban air or from high stacks')) to 'basalt quarry operation (for crushed stone)' (kilogram, RER, None)>\n",
      "Exchange: 1.68e-06 cubic meter 'Water' (cubic meter, None, ('air',)) to 'basalt quarry operation (for crushed stone)' (kilogram, RER, None)>\n",
      "Exchange: 6.72e-06 cubic meter 'Water' (cubic meter, None, ('water',)) to 'basalt quarry operation (for crushed stone)' (kilogram, RER, None)>\n",
      "Exchange: 1.0 kilogram 'Basalt' (kilogram, None, ('natural resource', 'in ground')) to 'basalt quarry operation (for crushed stone)' (kilogram, RER, None)>\n",
      "Exchange: 0.00798 square meter-year 'Occupation, mineral extraction site' (square meter-year, None, ('natural resource', 'land')) to 'basalt quarry operation (for crushed stone)' (kilogram, RER, None)>\n",
      "Exchange: 0.000798 square meter 'Transformation, from forest, unspecified' (square meter, None, ('natural resource', 'land')) to 'basalt quarry operation (for crushed stone)' (kilogram, RER, None)>\n",
      "Exchange: 0.000798 square meter 'Transformation, from mineral extraction site' (square meter, None, ('natural resource', 'land')) to 'basalt quarry operation (for crushed stone)' (kilogram, RER, None)>\n",
      "Exchange: 0.000798 square meter 'Transformation, to mineral extraction site' (square meter, None, ('natural resource', 'land')) to 'basalt quarry operation (for crushed stone)' (kilogram, RER, None)>\n",
      "Exchange: 0.000798 square meter 'Transformation, to unspecified' (square meter, None, ('natural resource', 'land')) to 'basalt quarry operation (for crushed stone)' (kilogram, RER, None)>\n",
      "Exchange: 8.4e-06 cubic meter 'Water, lake' (cubic meter, None, ('natural resource', 'in water')) to 'basalt quarry operation (for crushed stone)' (kilogram, RER, None)>\n"
     ]
    }
   ],
   "source": [
    "#Look at biosphere exhanges characterizing activity basalt_cs\n",
    "for exc in basalt_cs.biosphere():\n",
    "    print(exc)"
   ]
  },
  {
   "cell_type": "code",
   "execution_count": 69,
   "id": "3d6ea65e-1fd1-4a4e-8852-ba656b1a8475",
   "metadata": {
    "scrolled": true
   },
   "outputs": [
    {
     "data": {
      "text/plain": [
       "{'flow': 'ac3a8914-35f0-4c34-a956-f26b3a053e4a',\n",
       " 'type': 'biosphere',\n",
       " 'name': 'Basalt',\n",
       " 'classifications': {'CPC': []},\n",
       " 'production volume': 0.0,\n",
       " 'properties': {'carbon allocation': {'amount': 0.0, 'unit': 'kg'},\n",
       "  'carbon content': {'amount': 0.0, 'unit': 'dimensionless'},\n",
       "  'carbon content, fossil': {'amount': 0.0, 'unit': 'dimensionless'},\n",
       "  'carbon content, non-fossil': {'amount': 0.0, 'unit': 'dimensionless'},\n",
       "  'dry mass': {'amount': 1.0, 'unit': 'kg'},\n",
       "  'water content': {'amount': 0.0, 'unit': 'dimensionless'},\n",
       "  'water in wet mass': {'amount': 0.0, 'unit': 'kg'},\n",
       "  'wet mass': {'amount': 1.0, 'unit': 'kg'}},\n",
       " 'unit': 'kilogram',\n",
       " 'amount': 1.0,\n",
       " 'pedigree': {'reliability': 3,\n",
       "  'completeness': 4,\n",
       "  'temporal correlation': 5,\n",
       "  'geographical correlation': 1,\n",
       "  'further technological correlation': 3},\n",
       " 'uncertainty type': 2,\n",
       " 'loc': 0.0,\n",
       " 'scale': 0.24899799195977465,\n",
       " 'scale without pedigree': 0.1,\n",
       " 'input': ('biosphere3', 'ac3a8914-35f0-4c34-a956-f26b3a053e4a'),\n",
       " 'output': ('ecoinvent-391-cutoff', 'dff10c7f2b5f46928beb248896f9569b')}"
      ]
     },
     "execution_count": 69,
     "metadata": {},
     "output_type": "execute_result"
    }
   ],
   "source": [
    "#detail look to biosphere exchanges of interest\n",
    "[exc for exc in basalt_cs.biosphere()][5].as_dict() #Basalt"
   ]
  },
  {
   "cell_type": "code",
   "execution_count": 70,
   "id": "1d568494-c9d2-4ecd-85b7-52cd49a9ca6f",
   "metadata": {},
   "outputs": [],
   "source": [
    "# Iterate over biosphere exchanges in basalt_cs to change the amount of Basalt exchange to 0\n",
    "for exc in basalt_cs.biosphere():\n",
    "        if exc['name'] == 'Basalt':\n",
    "            # Update the amount in the exchange\n",
    "            exc['amount'] = 0\n",
    "            exc.save()"
   ]
  },
  {
   "cell_type": "code",
   "execution_count": 71,
   "id": "30d2f7f6-5bd5-4677-acff-bc8f0ca1e01b",
   "metadata": {
    "scrolled": true
   },
   "outputs": [
    {
     "name": "stdout",
     "output_type": "stream",
     "text": [
      "Exchange: 8e-06 kilogram 'Particulate Matter, < 2.5 um' (kilogram, None, ('air', 'non-urban air or from high stacks')) to 'basalt quarry operation (for crushed stone)' (kilogram, RER, None)>\n",
      "Exchange: 0.000112 kilogram 'Particulate Matter, > 10 um' (kilogram, None, ('air', 'non-urban air or from high stacks')) to 'basalt quarry operation (for crushed stone)' (kilogram, RER, None)>\n",
      "Exchange: 4e-05 kilogram 'Particulate Matter, > 2.5 um and < 10um' (kilogram, None, ('air', 'non-urban air or from high stacks')) to 'basalt quarry operation (for crushed stone)' (kilogram, RER, None)>\n",
      "Exchange: 1.68e-06 cubic meter 'Water' (cubic meter, None, ('air',)) to 'basalt quarry operation (for crushed stone)' (kilogram, RER, None)>\n",
      "Exchange: 6.72e-06 cubic meter 'Water' (cubic meter, None, ('water',)) to 'basalt quarry operation (for crushed stone)' (kilogram, RER, None)>\n",
      "Exchange: 0 kilogram 'Basalt' (kilogram, None, ('natural resource', 'in ground')) to 'basalt quarry operation (for crushed stone)' (kilogram, RER, None)>\n",
      "Exchange: 0.00798 square meter-year 'Occupation, mineral extraction site' (square meter-year, None, ('natural resource', 'land')) to 'basalt quarry operation (for crushed stone)' (kilogram, RER, None)>\n",
      "Exchange: 0.000798 square meter 'Transformation, from forest, unspecified' (square meter, None, ('natural resource', 'land')) to 'basalt quarry operation (for crushed stone)' (kilogram, RER, None)>\n",
      "Exchange: 0.000798 square meter 'Transformation, from mineral extraction site' (square meter, None, ('natural resource', 'land')) to 'basalt quarry operation (for crushed stone)' (kilogram, RER, None)>\n",
      "Exchange: 0.000798 square meter 'Transformation, to mineral extraction site' (square meter, None, ('natural resource', 'land')) to 'basalt quarry operation (for crushed stone)' (kilogram, RER, None)>\n",
      "Exchange: 0.000798 square meter 'Transformation, to unspecified' (square meter, None, ('natural resource', 'land')) to 'basalt quarry operation (for crushed stone)' (kilogram, RER, None)>\n",
      "Exchange: 8.4e-06 cubic meter 'Water, lake' (cubic meter, None, ('natural resource', 'in water')) to 'basalt quarry operation (for crushed stone)' (kilogram, RER, None)>\n"
     ]
    }
   ],
   "source": [
    "#verify new exchange value for Basalt in basalt_cs\n",
    "for exc in basalt_cs.biosphere():\n",
    "    print(exc)"
   ]
  },
  {
   "cell_type": "code",
   "execution_count": 75,
   "id": "6704bc24-227e-4c44-b405-5a64a603066a",
   "metadata": {
    "scrolled": true
   },
   "outputs": [
    {
     "name": "stdout",
     "output_type": "stream",
     "text": [
      "Exchange: 3.12e-06 kilogram 'market for alkyd paint, white, without solvent, in 60% solution state' (kilogram, RER, None) to 'basalt quarry operation (for crushed stone)' (kilogram, RER, None)>\n",
      "Exchange: 8.0392e-05 kilogram 'blasting' (kilogram, RER, None) to 'basalt quarry operation (for crushed stone)' (kilogram, RER, None)>\n",
      "Exchange: 3.744e-07 kilogram 'market for chemical, organic' (kilogram, GLO, None) to 'basalt quarry operation (for crushed stone)' (kilogram, RER, None)>\n",
      "Exchange: 0.043056000000000004 megajoule 'market for diesel, burned in building machine' (megajoule, GLO, None) to 'basalt quarry operation (for crushed stone)' (kilogram, RER, None)>\n",
      "Exchange: 0.0064584 kilowatt hour 'market group for electricity, medium voltage' (kilowatt hour, RER, None) to 'basalt quarry operation (for crushed stone)' (kilogram, RER, None)>\n",
      "Exchange: 0.000309244 megajoule 'market group for heat, district or industrial, other than natural gas' (megajoule, RER, None) to 'basalt quarry operation (for crushed stone)' (kilogram, RER, None)>\n",
      "Exchange: 8.32e-11 unit 'market for limestone quarry infrastructure' (unit, GLO, None) to 'basalt quarry operation (for crushed stone)' (kilogram, RER, None)>\n",
      "Exchange: 5.616e-05 kilogram 'market for lubricating oil' (kilogram, RER, None) to 'basalt quarry operation (for crushed stone)' (kilogram, RER, None)>\n",
      "Exchange: -6.3856e-05 kilogram 'market group for municipal solid waste' (kilogram, RER, None) to 'basalt quarry operation (for crushed stone)' (kilogram, RER, None)>\n",
      "Exchange: 1.1232e-05 kilometer 'market for transport, passenger car' (kilometer, RER, None) to 'basalt quarry operation (for crushed stone)' (kilogram, RER, None)>\n",
      "Exchange: -5.408e-07 kilogram 'market group for waste graphical paper' (kilogram, RER, None) to 'basalt quarry operation (for crushed stone)' (kilogram, RER, None)>\n",
      "Exchange: -1.5184228447802323e-08 kilogram 'market for waste paint' (kilogram, CH, None) to 'basalt quarry operation (for crushed stone)' (kilogram, RER, None)>\n",
      "Exchange: -5.060015771552197e-06 kilogram 'market for waste paint' (kilogram, Europe without Switzerland, None) to 'basalt quarry operation (for crushed stone)' (kilogram, RER, None)>\n",
      "Exchange: -9.739238520972408e-08 cubic meter 'market for wastewater, average' (cubic meter, Europe without Switzerland, None) to 'basalt quarry operation (for crushed stone)' (kilogram, RER, None)>\n",
      "Exchange: -2.4476147902759276e-09 cubic meter 'market for wastewater, average' (cubic meter, CH, None) to 'basalt quarry operation (for crushed stone)' (kilogram, RER, None)>\n"
     ]
    }
   ],
   "source": [
    "#Look at technosphere exhanges characterizing activity basalt_cs\n",
    "for exc in basalt_cs.technosphere():\n",
    "    print(exc)"
   ]
  },
  {
   "cell_type": "code",
   "execution_count": 79,
   "id": "72bb8f9b-065f-4239-a71a-14b1866e05f5",
   "metadata": {},
   "outputs": [
    {
     "data": {
      "text/plain": [
       "{'flow': '1e278342-7e3b-426d-b000-58eab8104573',\n",
       " 'type': 'technosphere',\n",
       " 'name': 'limestone quarry infrastructure',\n",
       " 'classifications': {'CPC': ['53269: Other constructions for manufacturing']},\n",
       " 'production volume': 0.0,\n",
       " 'properties': {'carbon allocation': {'amount': 0.0, 'unit': 'kg'},\n",
       "  'carbon content': {'amount': 0.0, 'unit': 'dimensionless'}},\n",
       " 'activity': 'e6a83983-3995-5ac3-9de9-d486f22896f9',\n",
       " 'unit': 'unit',\n",
       " 'comment': 'EcoSpold01Location=CH',\n",
       " 'amount': 0,\n",
       " 'pedigree': {'reliability': 5,\n",
       "  'completeness': 4,\n",
       "  'temporal correlation': 5,\n",
       "  'geographical correlation': 1,\n",
       "  'further technological correlation': 3},\n",
       " 'uncertainty type': 2,\n",
       " 'loc': -23.248994481254666,\n",
       " 'scale': 0.6557438524302001,\n",
       " 'scale without pedigree': 0.5830951894845301,\n",
       " 'input': ('ecoinvent-391-cutoff', '8333c52e7f25a01b4e063b97466be74c'),\n",
       " 'output': ('ecoinvent-391-cutoff', 'dff10c7f2b5f46928beb248896f9569b')}"
      ]
     },
     "execution_count": 79,
     "metadata": {},
     "output_type": "execute_result"
    }
   ],
   "source": [
    "#detail look to technosphere exchange of interest\n",
    "[exc for exc in basalt_cs.technosphere()][6].as_dict() #limestone quarry infrastructure"
   ]
  },
  {
   "cell_type": "code",
   "execution_count": 78,
   "id": "11129863-e3b0-42eb-b8f0-df7037dbc94f",
   "metadata": {},
   "outputs": [],
   "source": [
    "# Iterate over technosphere exchanges in basalt_cs to change the amount of limestone quarry operation exchange to 0\n",
    "for exc in basalt_cs.technosphere():\n",
    "        if exc['name'] == 'limestone quarry infrastructure':\n",
    "            # Update the amount in the exchange\n",
    "            exc['amount'] = 0\n",
    "            exc.save()"
   ]
  },
  {
   "cell_type": "code",
   "execution_count": 80,
   "id": "493fe7c9-d8ff-4e3a-86c7-1aeffadc04fe",
   "metadata": {},
   "outputs": [
    {
     "name": "stdout",
     "output_type": "stream",
     "text": [
      "Exchange: 3.12e-06 kilogram 'market for alkyd paint, white, without solvent, in 60% solution state' (kilogram, RER, None) to 'basalt quarry operation (for crushed stone)' (kilogram, RER, None)>\n",
      "Exchange: 8.0392e-05 kilogram 'blasting' (kilogram, RER, None) to 'basalt quarry operation (for crushed stone)' (kilogram, RER, None)>\n",
      "Exchange: 3.744e-07 kilogram 'market for chemical, organic' (kilogram, GLO, None) to 'basalt quarry operation (for crushed stone)' (kilogram, RER, None)>\n",
      "Exchange: 0.043056000000000004 megajoule 'market for diesel, burned in building machine' (megajoule, GLO, None) to 'basalt quarry operation (for crushed stone)' (kilogram, RER, None)>\n",
      "Exchange: 0.0064584 kilowatt hour 'market group for electricity, medium voltage' (kilowatt hour, RER, None) to 'basalt quarry operation (for crushed stone)' (kilogram, RER, None)>\n",
      "Exchange: 0.000309244 megajoule 'market group for heat, district or industrial, other than natural gas' (megajoule, RER, None) to 'basalt quarry operation (for crushed stone)' (kilogram, RER, None)>\n",
      "Exchange: 0 unit 'market for limestone quarry infrastructure' (unit, GLO, None) to 'basalt quarry operation (for crushed stone)' (kilogram, RER, None)>\n",
      "Exchange: 5.616e-05 kilogram 'market for lubricating oil' (kilogram, RER, None) to 'basalt quarry operation (for crushed stone)' (kilogram, RER, None)>\n",
      "Exchange: -6.3856e-05 kilogram 'market group for municipal solid waste' (kilogram, RER, None) to 'basalt quarry operation (for crushed stone)' (kilogram, RER, None)>\n",
      "Exchange: 1.1232e-05 kilometer 'market for transport, passenger car' (kilometer, RER, None) to 'basalt quarry operation (for crushed stone)' (kilogram, RER, None)>\n",
      "Exchange: -5.408e-07 kilogram 'market group for waste graphical paper' (kilogram, RER, None) to 'basalt quarry operation (for crushed stone)' (kilogram, RER, None)>\n",
      "Exchange: -1.5184228447802323e-08 kilogram 'market for waste paint' (kilogram, CH, None) to 'basalt quarry operation (for crushed stone)' (kilogram, RER, None)>\n",
      "Exchange: -5.060015771552197e-06 kilogram 'market for waste paint' (kilogram, Europe without Switzerland, None) to 'basalt quarry operation (for crushed stone)' (kilogram, RER, None)>\n",
      "Exchange: -9.739238520972408e-08 cubic meter 'market for wastewater, average' (cubic meter, Europe without Switzerland, None) to 'basalt quarry operation (for crushed stone)' (kilogram, RER, None)>\n",
      "Exchange: -2.4476147902759276e-09 cubic meter 'market for wastewater, average' (cubic meter, CH, None) to 'basalt quarry operation (for crushed stone)' (kilogram, RER, None)>\n"
     ]
    }
   ],
   "source": [
    "#verify new exchange value for limestone quarry operation in basalt_cs\n",
    "for exc in basalt_cs.technosphere():\n",
    "    print(exc)"
   ]
  },
  {
   "cell_type": "code",
   "execution_count": 72,
   "id": "fea1022e-ced1-40f3-8269-276f506c5fed",
   "metadata": {
    "scrolled": true
   },
   "outputs": [
    {
     "name": "stdout",
     "output_type": "stream",
     "text": [
      "Exchange: 3e-06 kilogram 'market for alkyd paint, white, without solvent, in 60% solution state' (kilogram, RER, None) to 'basalt quarry operation (for crushed stone)' (kilogram, RER, None)>\n",
      "Exchange: 7.73e-05 kilogram 'blasting' (kilogram, RER, None) to 'basalt quarry operation (for crushed stone)' (kilogram, RER, None)>\n",
      "Exchange: 3.6e-07 kilogram 'market for chemical, organic' (kilogram, GLO, None) to 'basalt quarry operation (for crushed stone)' (kilogram, RER, None)>\n",
      "Exchange: 0.0414 megajoule 'market for diesel, burned in building machine' (megajoule, GLO, None) to 'basalt quarry operation (for crushed stone)' (kilogram, RER, None)>\n",
      "Exchange: 0.00621 kilowatt hour 'market group for electricity, medium voltage' (kilowatt hour, RER, None) to 'basalt quarry operation (for crushed stone)' (kilogram, RER, None)>\n",
      "Exchange: 0.00029735 megajoule 'market group for heat, district or industrial, other than natural gas' (megajoule, RER, None) to 'basalt quarry operation (for crushed stone)' (kilogram, RER, None)>\n",
      "Exchange: 8e-11 unit 'market for limestone quarry infrastructure' (unit, GLO, None) to 'basalt quarry operation (for crushed stone)' (kilogram, RER, None)>\n",
      "Exchange: 5.4e-05 kilogram 'market for lubricating oil' (kilogram, RER, None) to 'basalt quarry operation (for crushed stone)' (kilogram, RER, None)>\n",
      "Exchange: -6.14e-05 kilogram 'market group for municipal solid waste' (kilogram, RER, None) to 'basalt quarry operation (for crushed stone)' (kilogram, RER, None)>\n",
      "Exchange: 1.08e-05 kilometer 'market for transport, passenger car' (kilometer, RER, None) to 'basalt quarry operation (for crushed stone)' (kilogram, RER, None)>\n",
      "Exchange: -5.2e-07 kilogram 'market group for waste graphical paper' (kilogram, RER, None) to 'basalt quarry operation (for crushed stone)' (kilogram, RER, None)>\n",
      "Exchange: -1.4600219661348388e-08 kilogram 'market for waste paint' (kilogram, CH, None) to 'basalt quarry operation (for crushed stone)' (kilogram, RER, None)>\n",
      "Exchange: -4.865399780338651e-06 kilogram 'market for waste paint' (kilogram, Europe without Switzerland, None) to 'basalt quarry operation (for crushed stone)' (kilogram, RER, None)>\n",
      "Exchange: -9.364652424011931e-08 cubic meter 'market for wastewater, average' (cubic meter, Europe without Switzerland, None) to 'basalt quarry operation (for crushed stone)' (kilogram, RER, None)>\n",
      "Exchange: -2.3534757598806996e-09 cubic meter 'market for wastewater, average' (cubic meter, CH, None) to 'basalt quarry operation (for crushed stone)' (kilogram, RER, None)>\n"
     ]
    }
   ],
   "source": [
    "#Look at technosphere exhanges characterizing activity basalt_cs\n",
    "for exc in basalt_cs.technosphere():\n",
    "    print(exc)"
   ]
  },
  {
   "cell_type": "code",
   "execution_count": 73,
   "id": "efa735f3-8d13-40e5-bd64-a6a077cdf82f",
   "metadata": {},
   "outputs": [],
   "source": [
    "# Iterate over technosphere exchanges in basalt_cs to multiply all technosphere exchanges time 1,04\n",
    "for exc in basalt_cs.technosphere():\n",
    "    # Update the amount in the exchange\n",
    "    exc['amount'] = (exc['amount'])*1.04\n",
    "    exc.save()\n",
    "            "
   ]
  },
  {
   "cell_type": "code",
   "execution_count": 81,
   "id": "fcf8d5ae-bd81-4f5b-91a7-d7553a23709b",
   "metadata": {
    "scrolled": true
   },
   "outputs": [
    {
     "name": "stdout",
     "output_type": "stream",
     "text": [
      "Exchange: 3.12e-06 kilogram 'market for alkyd paint, white, without solvent, in 60% solution state' (kilogram, RER, None) to 'basalt quarry operation (for crushed stone)' (kilogram, RER, None)>\n",
      "Exchange: 8.0392e-05 kilogram 'blasting' (kilogram, RER, None) to 'basalt quarry operation (for crushed stone)' (kilogram, RER, None)>\n",
      "Exchange: 3.744e-07 kilogram 'market for chemical, organic' (kilogram, GLO, None) to 'basalt quarry operation (for crushed stone)' (kilogram, RER, None)>\n",
      "Exchange: 0.043056000000000004 megajoule 'market for diesel, burned in building machine' (megajoule, GLO, None) to 'basalt quarry operation (for crushed stone)' (kilogram, RER, None)>\n",
      "Exchange: 0.0064584 kilowatt hour 'market group for electricity, medium voltage' (kilowatt hour, RER, None) to 'basalt quarry operation (for crushed stone)' (kilogram, RER, None)>\n",
      "Exchange: 0.000309244 megajoule 'market group for heat, district or industrial, other than natural gas' (megajoule, RER, None) to 'basalt quarry operation (for crushed stone)' (kilogram, RER, None)>\n",
      "Exchange: 0 unit 'market for limestone quarry infrastructure' (unit, GLO, None) to 'basalt quarry operation (for crushed stone)' (kilogram, RER, None)>\n",
      "Exchange: 5.616e-05 kilogram 'market for lubricating oil' (kilogram, RER, None) to 'basalt quarry operation (for crushed stone)' (kilogram, RER, None)>\n",
      "Exchange: -6.3856e-05 kilogram 'market group for municipal solid waste' (kilogram, RER, None) to 'basalt quarry operation (for crushed stone)' (kilogram, RER, None)>\n",
      "Exchange: 1.1232e-05 kilometer 'market for transport, passenger car' (kilometer, RER, None) to 'basalt quarry operation (for crushed stone)' (kilogram, RER, None)>\n",
      "Exchange: -5.408e-07 kilogram 'market group for waste graphical paper' (kilogram, RER, None) to 'basalt quarry operation (for crushed stone)' (kilogram, RER, None)>\n",
      "Exchange: -1.5184228447802323e-08 kilogram 'market for waste paint' (kilogram, CH, None) to 'basalt quarry operation (for crushed stone)' (kilogram, RER, None)>\n",
      "Exchange: -5.060015771552197e-06 kilogram 'market for waste paint' (kilogram, Europe without Switzerland, None) to 'basalt quarry operation (for crushed stone)' (kilogram, RER, None)>\n",
      "Exchange: -9.739238520972408e-08 cubic meter 'market for wastewater, average' (cubic meter, Europe without Switzerland, None) to 'basalt quarry operation (for crushed stone)' (kilogram, RER, None)>\n",
      "Exchange: -2.4476147902759276e-09 cubic meter 'market for wastewater, average' (cubic meter, CH, None) to 'basalt quarry operation (for crushed stone)' (kilogram, RER, None)>\n"
     ]
    }
   ],
   "source": [
    "#verify new exchange technosphere values for basalt_cs\n",
    "for exc in basalt_cs.technosphere():\n",
    "    print(exc)"
   ]
  },
  {
   "cell_type": "markdown",
   "id": "96ff961e-6359-4aac-b135-5a28774b29ff",
   "metadata": {},
   "source": [
    "## Adding gravel production modified process\n",
    "\n",
    "This processs is based on the following ecoinvent process:\n",
    "\n",
    "- gravel production, crushed - RoW\n",
    "\n",
    "The new process is modified to only include the following exchanges:\n",
    "\n",
    "| Name                                               | Exchange type         | \n",
    "|----------------------------------------------------|-----------------------|\n",
    "| gravel, crushed                                    | production            |\n",
    "| building, hall, steel construction                 | technosphere          |\n",
    "| conveyor belt                                      | technosphere          | \n",
    "| Gravel                                             | biosphere             | \n",
    "| gravel/sand quarry infrastructure                  | technosphere          | \n",
    "| industrial machine, heavy, unspecified             | technosphere          | \n",
    "| recultivation, limestone mine                      | technosphere          | \n",
    "| steel, low-alloyed, hot rolled                     | technosphere          | \n",
    "| synthetic rubber                                   | technosphere          | \n",
    "\n",
    "\n",
    "The name of the new process is set to:\n",
    "\n",
    "- gravel production, crushed (for crushed stone) - RoW"
   ]
  },
  {
   "cell_type": "code",
   "execution_count": 82,
   "id": "44fed777-bbfd-4a0c-b8ea-6a468d299050",
   "metadata": {
    "scrolled": true
   },
   "outputs": [
    {
     "data": {
      "text/plain": [
       "['gravel production, crushed' (kilogram, BR, None),\n",
       " 'gravel production, crushed' (kilogram, CH, None),\n",
       " 'gravel production, crushed' (kilogram, RoW, None),\n",
       " 'gravel production, crushed' (kilogram, CA-QC, None),\n",
       " 'gravel production, crushed' (kilogram, IN, None),\n",
       " 'market for gravel, crushed' (kilogram, IN, None),\n",
       " 'market for gravel, crushed' (kilogram, RoW, None),\n",
       " 'market for gravel, crushed' (kilogram, CA-QC, None),\n",
       " 'market for gravel, crushed' (kilogram, CH, None),\n",
       " 'gravel and sand quarry operation' (kilogram, CH, None),\n",
       " 'gravel and sand quarry operation' (kilogram, RoW, None),\n",
       " 'market for gravel, round' (kilogram, CH, None),\n",
       " 'limestone production, crushed, for mill' (kilogram, RoW, None),\n",
       " 'market for limestone, crushed, washed' (kilogram, RoW, None),\n",
       " 'market for limestone, crushed, washed' (kilogram, CH, None),\n",
       " 'market for limestone, crushed, for mill' (kilogram, RoW, None),\n",
       " 'market for limestone, crushed, for mill' (kilogram, CH, None),\n",
       " 'gravel and sand quarry operation' (kilogram, CH, None),\n",
       " 'gravel and sand quarry operation' (kilogram, RoW, None),\n",
       " 'market for anhydrite rock' (kilogram, RoW, None),\n",
       " 'market for anhydrite rock' (kilogram, CH, None),\n",
       " 'market for limestone, unprocessed' (kilogram, CH, None),\n",
       " 'market for gypsum, mineral' (kilogram, ZA, None)]"
      ]
     },
     "execution_count": 82,
     "metadata": {},
     "output_type": "execute_result"
    }
   ],
   "source": [
    "#Search for gravel production, crushed in background database\n",
    "EI_DB.search('gravel production, crushed')"
   ]
  },
  {
   "cell_type": "code",
   "execution_count": 83,
   "id": "573640a8-d9b3-4ef9-bf9c-f802c3651127",
   "metadata": {},
   "outputs": [],
   "source": [
    "#Copy existing gravel process\n",
    "gravel = EI_DB.search('gravel production, crushed')[2]\n",
    "gravel_cs = gravel.copy(name='gravel production, crushed (for crushed stone)') "
   ]
  },
  {
   "cell_type": "code",
   "execution_count": 88,
   "id": "8bdf34be-5eff-4181-b1c0-f95c452851cd",
   "metadata": {
    "scrolled": true
   },
   "outputs": [
    {
     "data": {
      "text/plain": [
       "['gravel production, crushed' (kilogram, BR, None),\n",
       " 'gravel production, crushed' (kilogram, CH, None),\n",
       " 'gravel production, crushed' (kilogram, RoW, None),\n",
       " 'gravel production, crushed' (kilogram, CA-QC, None),\n",
       " 'gravel production, crushed' (kilogram, IN, None),\n",
       " 'gravel production, crushed (for crushed stone)' (kilogram, RoW, None),\n",
       " 'market for gravel, crushed' (kilogram, IN, None),\n",
       " 'market for gravel, crushed' (kilogram, RoW, None),\n",
       " 'market for gravel, crushed' (kilogram, CA-QC, None),\n",
       " 'market for gravel, crushed' (kilogram, CH, None),\n",
       " 'gravel and sand quarry operation' (kilogram, CH, None),\n",
       " 'gravel and sand quarry operation' (kilogram, RoW, None),\n",
       " 'market for gravel, round' (kilogram, CH, None),\n",
       " 'limestone production, crushed, for mill' (kilogram, RoW, None),\n",
       " 'market for limestone, crushed, washed' (kilogram, RoW, None),\n",
       " 'market for limestone, crushed, washed' (kilogram, CH, None),\n",
       " 'market for limestone, crushed, for mill' (kilogram, RoW, None),\n",
       " 'market for limestone, crushed, for mill' (kilogram, CH, None),\n",
       " 'gravel and sand quarry operation' (kilogram, CH, None),\n",
       " 'gravel and sand quarry operation' (kilogram, RoW, None),\n",
       " 'market for anhydrite rock' (kilogram, RoW, None),\n",
       " 'market for anhydrite rock' (kilogram, CH, None),\n",
       " 'market for limestone, unprocessed' (kilogram, CH, None),\n",
       " 'market for gypsum, mineral' (kilogram, ZA, None)]"
      ]
     },
     "execution_count": 88,
     "metadata": {},
     "output_type": "execute_result"
    }
   ],
   "source": [
    "#Verify that the new gravel process was recorded\n",
    "EI_DB.search('gravel production, crushed')"
   ]
  },
  {
   "cell_type": "code",
   "execution_count": 92,
   "id": "d39b916a-6c6e-44fe-856c-49e1d648e455",
   "metadata": {
    "scrolled": true
   },
   "outputs": [
    {
     "name": "stdout",
     "output_type": "stream",
     "text": [
      "Exchange: 1.0 kilogram 'gravel production, crushed (for crushed stone)' (kilogram, RoW, None) to 'gravel production, crushed (for crushed stone)' (kilogram, RoW, None)>\n",
      "Exchange: 2.85e-06 square meter 'market for building, hall, steel construction' (square meter, GLO, None) to 'gravel production, crushed (for crushed stone)' (kilogram, RoW, None)>\n",
      "Exchange: 9.51e-08 meter 'market for conveyor belt' (meter, GLO, None) to 'gravel production, crushed (for crushed stone)' (kilogram, RoW, None)>\n",
      "Exchange: 0.0143 megajoule 'market for diesel, burned in building machine' (megajoule, GLO, None) to 'gravel production, crushed (for crushed stone)' (kilogram, RoW, None)>\n",
      "Exchange: 6.484359817456601e-06 kilowatt hour 'market for electricity, medium voltage' (kilowatt hour, PY, None) to 'gravel production, crushed (for crushed stone)' (kilogram, RoW, None)>\n",
      "Exchange: 9.613299192000142e-06 kilowatt hour 'market for electricity, medium voltage' (kilowatt hour, EC, None) to 'gravel production, crushed (for crushed stone)' (kilogram, RoW, None)>\n",
      "Exchange: 0.00033269496715318325 kilowatt hour 'market group for electricity, medium voltage' (kilowatt hour, RME, None) to 'gravel production, crushed (for crushed stone)' (kilogram, RoW, None)>\n",
      "Exchange: 4.5688682192360634e-06 kilowatt hour 'market for electricity, medium voltage' (kilowatt hour, CR, None) to 'gravel production, crushed (for crushed stone)' (kilogram, RoW, None)>\n",
      "Exchange: 7.533383172351038e-06 kilowatt hour 'market for electricity, medium voltage' (kilowatt hour, US-PR, None) to 'gravel production, crushed (for crushed stone)' (kilogram, RoW, None)>\n",
      "Exchange: 3.5791757104432504e-06 kilowatt hour 'market for electricity, medium voltage' (kilowatt hour, TT, None) to 'gravel production, crushed (for crushed stone)' (kilogram, RoW, None)>\n",
      "Exchange: 8.913591385770531e-05 kilowatt hour 'market for electricity, medium voltage' (kilowatt hour, AU, None) to 'gravel production, crushed (for crushed stone)' (kilogram, RoW, None)>\n",
      "Exchange: 4.70253144523123e-06 kilowatt hour 'market for electricity, medium voltage' (kilowatt hour, GT, None) to 'gravel production, crushed (for crushed stone)' (kilogram, RoW, None)>\n",
      "Exchange: 2.3838774727302118e-05 kilowatt hour 'market for electricity, medium voltage' (kilowatt hour, IL, None) to 'gravel production, crushed (for crushed stone)' (kilogram, RoW, None)>\n",
      "Exchange: 6.139205580184802e-06 kilowatt hour 'market for electricity, medium voltage' (kilowatt hour, DO, None) to 'gravel production, crushed (for crushed stone)' (kilogram, RoW, None)>\n",
      "Exchange: 7.300470637525017e-05 kilowatt hour 'market for electricity, medium voltage' (kilowatt hour, ID, None) to 'gravel production, crushed (for crushed stone)' (kilogram, RoW, None)>\n",
      "Exchange: 5.287202322256767e-06 kilowatt hour 'market for electricity, medium voltage' (kilowatt hour, KP, None) to 'gravel production, crushed (for crushed stone)' (kilogram, RoW, None)>\n",
      "Exchange: 2.860744303330762e-05 kilowatt hour 'market for electricity, medium voltage' (kilowatt hour, CO, None) to 'gravel production, crushed (for crushed stone)' (kilogram, RoW, None)>\n",
      "Exchange: 5.671795540188104e-06 kilowatt hour 'market for electricity, medium voltage' (kilowatt hour, LB, None) to 'gravel production, crushed (for crushed stone)' (kilogram, RoW, None)>\n",
      "Exchange: 0.003111548731525615 kilowatt hour 'market group for electricity, medium voltage' (kilowatt hour, CN, None) to 'gravel production, crushed (for crushed stone)' (kilogram, RoW, None)>\n",
      "Exchange: 3.032362489210383e-06 kilowatt hour 'market for electricity, medium voltage' (kilowatt hour, NP, None) to 'gravel production, crushed (for crushed stone)' (kilogram, RoW, None)>\n",
      "Exchange: 2.9090800024020556e-05 kilowatt hour 'market for electricity, medium voltage' (kilowatt hour, VE, None) to 'gravel production, crushed (for crushed stone)' (kilogram, RoW, None)>\n",
      "Exchange: 7.548985765623668e-07 kilowatt hour 'market for electricity, medium voltage' (kilowatt hour, QA, None) to 'gravel production, crushed (for crushed stone)' (kilogram, RoW, None)>\n",
      "Exchange: 7.098741424662466e-06 kilowatt hour 'market for electricity, medium voltage' (kilowatt hour, TM, None) to 'gravel production, crushed (for crushed stone)' (kilogram, RoW, None)>\n",
      "Exchange: 3.418017337785746e-07 kilowatt hour 'market for electricity, medium voltage' (kilowatt hour, HT, None) to 'gravel production, crushed (for crushed stone)' (kilogram, RoW, None)>\n",
      "Exchange: 1.4999902747475183e-06 kilowatt hour 'market for electricity, medium voltage' (kilowatt hour, NI, None) to 'gravel production, crushed (for crushed stone)' (kilogram, RoW, None)>\n",
      "Exchange: 5.12537349450854e-05 kilowatt hour 'market for electricity, medium voltage' (kilowatt hour, AR, None) to 'gravel production, crushed (for crushed stone)' (kilogram, RoW, None)>\n",
      "Exchange: 2.312642988807611e-06 kilowatt hour 'market for electricity, medium voltage' (kilowatt hour, SV, None) to 'gravel production, crushed (for crushed stone)' (kilogram, RoW, None)>\n",
      "Exchange: 1.4672914611556004e-05 kilowatt hour 'market for electricity, medium voltage' (kilowatt hour, OM, None) to 'gravel production, crushed (for crushed stone)' (kilogram, RoW, None)>\n",
      "Exchange: 0.0002176364135739467 kilowatt hour 'market for electricity, medium voltage' (kilowatt hour, KR, None) to 'gravel production, crushed (for crushed stone)' (kilogram, RoW, None)>\n",
      "Exchange: 0.0016633844486014457 kilowatt hour 'market group for electricity, medium voltage' (kilowatt hour, US, None) to 'gravel production, crushed (for crushed stone)' (kilogram, RoW, None)>\n",
      "Exchange: 5.947836690592686e-06 kilowatt hour 'market for electricity, medium voltage' (kilowatt hour, LK, None) to 'gravel production, crushed (for crushed stone)' (kilogram, RoW, None)>\n",
      "Exchange: 4.391270295217068e-06 kilowatt hour 'market for electricity, medium voltage' (kilowatt hour, UY, None) to 'gravel production, crushed (for crushed stone)' (kilogram, RoW, None)>\n",
      "Exchange: 6.681213493970731e-06 kilowatt hour 'market for electricity, medium voltage' (kilowatt hour, JO, None) to 'gravel production, crushed (for crushed stone)' (kilogram, RoW, None)>\n",
      "Exchange: 2.6076470317780297e-06 kilowatt hour 'market for electricity, medium voltage' (kilowatt hour, AM, None) to 'gravel production, crushed (for crushed stone)' (kilogram, RoW, None)>\n",
      "Exchange: 0.0012807467320225911 kilowatt hour 'market group for electricity, medium voltage' (kilowatt hour, Europe without Switzerland, None) to 'gravel production, crushed (for crushed stone)' (kilogram, RoW, None)>\n",
      "Exchange: 9.93218695817592e-07 kilowatt hour 'market for electricity, medium voltage' (kilowatt hour, YE, None) to 'gravel production, crushed (for crushed stone)' (kilogram, RoW, None)>\n",
      "Exchange: 4.026113100071656e-05 kilowatt hour 'market for electricity, medium voltage' (kilowatt hour, PH, None) to 'gravel production, crushed (for crushed stone)' (kilogram, RoW, None)>\n",
      "Exchange: 0.0003483839891511466 kilowatt hour 'market for electricity, medium voltage' (kilowatt hour, JP, None) to 'gravel production, crushed (for crushed stone)' (kilogram, RoW, None)>\n",
      "Exchange: 1.967481467894017e-06 kilowatt hour 'market for electricity, medium voltage' (kilowatt hour, CY, None) to 'gravel production, crushed (for crushed stone)' (kilogram, RoW, None)>\n",
      "Exchange: 5.892002661944546e-06 kilowatt hour 'market for electricity, medium voltage' (kilowatt hour, KG, None) to 'gravel production, crushed (for crushed stone)' (kilogram, RoW, None)>\n",
      "Exchange: 0.0003989759899003605 kilowatt hour 'market for electricity, medium voltage' (kilowatt hour, RU, None) to 'gravel production, crushed (for crushed stone)' (kilogram, RoW, None)>\n",
      "Exchange: 2.9341718570212463e-05 kilowatt hour 'market for electricity, medium voltage' (kilowatt hour, CL, None) to 'gravel production, crushed (for crushed stone)' (kilogram, RoW, None)>\n",
      "Exchange: 6.535267941726729e-05 kilowatt hour 'market for electricity, medium voltage' (kilowatt hour, MY, None) to 'gravel production, crushed (for crushed stone)' (kilogram, RoW, None)>\n",
      "Exchange: 1.535406107478198e-06 kilowatt hour 'market for electricity, medium voltage' (kilowatt hour, BN, None) to 'gravel production, crushed (for crushed stone)' (kilogram, RoW, None)>\n",
      "Exchange: 0.0001392101250952926 kilowatt hour 'market group for electricity, medium voltage' (kilowatt hour, Canada without Quebec, None) to 'gravel production, crushed (for crushed stone)' (kilogram, RoW, None)>\n",
      "Exchange: 2.84936345981511e-05 kilowatt hour 'market for electricity, medium voltage' (kilowatt hour, BD, None) to 'gravel production, crushed (for crushed stone)' (kilogram, RoW, None)>\n",
      "Exchange: 8.681498423066902e-06 kilowatt hour 'market for electricity, medium voltage' (kilowatt hour, AZ, None) to 'gravel production, crushed (for crushed stone)' (kilogram, RoW, None)>\n",
      "Exchange: 2.116150286329344e-05 kilowatt hour 'market for electricity, medium voltage' (kilowatt hour, PE, None) to 'gravel production, crushed (for crushed stone)' (kilogram, RoW, None)>\n",
      "Exchange: 2.5238218995339595e-05 kilowatt hour 'market for electricity, medium voltage' (kilowatt hour, UZ, None) to 'gravel production, crushed (for crushed stone)' (kilogram, RoW, None)>\n",
      "Exchange: 8.891224433240939e-05 kilowatt hour 'market for electricity, medium voltage' (kilowatt hour, VN, None) to 'gravel production, crushed (for crushed stone)' (kilogram, RoW, None)>\n",
      "Exchange: 3.1464663894199356e-07 kilowatt hour 'market for electricity, medium voltage' (kilowatt hour, CW, None) to 'gravel production, crushed (for crushed stone)' (kilogram, RoW, None)>\n",
      "Exchange: 0.00010461536174342946 kilowatt hour 'market for electricity, medium voltage' (kilowatt hour, MX, None) to 'gravel production, crushed (for crushed stone)' (kilogram, RoW, None)>\n",
      "Exchange: 0.00029440064360730515 kilowatt hour 'market group for electricity, medium voltage' (kilowatt hour, RAF, None) to 'gravel production, crushed (for crushed stone)' (kilogram, RoW, None)>\n",
      "Exchange: 4.048138400341387e-05 kilowatt hour 'market for electricity, medium voltage' (kilowatt hour, KZ, None) to 'gravel production, crushed (for crushed stone)' (kilogram, RoW, None)>\n",
      "Exchange: 7.235245786958849e-06 kilowatt hour 'market for electricity, medium voltage' (kilowatt hour, CU, None) to 'gravel production, crushed (for crushed stone)' (kilogram, RoW, None)>\n",
      "Exchange: 7.045817381843939e-06 kilowatt hour 'market for electricity, medium voltage' (kilowatt hour, TJ, None) to 'gravel production, crushed (for crushed stone)' (kilogram, RoW, None)>\n",
      "Exchange: 3.3109825207574904e-06 kilowatt hour 'market for electricity, medium voltage' (kilowatt hour, MN, None) to 'gravel production, crushed (for crushed stone)' (kilogram, RoW, None)>\n",
      "Exchange: 1.9812159519365025e-05 kilowatt hour 'market for electricity, medium voltage' (kilowatt hour, HK, None) to 'gravel production, crushed (for crushed stone)' (kilogram, RoW, None)>\n",
      "Exchange: 1.7469369031608404e-05 kilowatt hour 'market for electricity, medium voltage' (kilowatt hour, NZ, None) to 'gravel production, crushed (for crushed stone)' (kilogram, RoW, None)>\n",
      "Exchange: 4.677229502443746e-06 kilowatt hour 'market for electricity, medium voltage' (kilowatt hour, GE, None) to 'gravel production, crushed (for crushed stone)' (kilogram, RoW, None)>\n",
      "Exchange: 4.634024087042352e-06 kilowatt hour 'market for electricity, medium voltage' (kilowatt hour, KH, None) to 'gravel production, crushed (for crushed stone)' (kilogram, RoW, None)>\n",
      "Exchange: 9.202073431803279e-05 kilowatt hour 'market for electricity, medium voltage' (kilowatt hour, TW, None) to 'gravel production, crushed (for crushed stone)' (kilogram, RoW, None)>\n",
      "Exchange: 5.085930679744143e-05 kilowatt hour 'market for electricity, medium voltage' (kilowatt hour, PK, None) to 'gravel production, crushed (for crushed stone)' (kilogram, RoW, None)>\n",
      "Exchange: 1.8815579172471066e-05 kilowatt hour 'market for electricity, medium voltage' (kilowatt hour, SG, None) to 'gravel production, crushed (for crushed stone)' (kilogram, RoW, None)>\n",
      "Exchange: 3.6825983791238475e-06 kilowatt hour 'market for electricity, medium voltage' (kilowatt hour, BO, None) to 'gravel production, crushed (for crushed stone)' (kilogram, RoW, None)>\n",
      "Exchange: 0.00010643621689558604 kilowatt hour 'market for electricity, medium voltage' (kilowatt hour, TR, None) to 'gravel production, crushed (for crushed stone)' (kilogram, RoW, None)>\n",
      "Exchange: 9.590925395046493e-07 kilowatt hour 'market for electricity, medium voltage' (kilowatt hour, JM, None) to 'gravel production, crushed (for crushed stone)' (kilogram, RoW, None)>\n",
      "Exchange: 4.0546955301789425e-06 kilowatt hour 'market for electricity, medium voltage' (kilowatt hour, PA, None) to 'gravel production, crushed (for crushed stone)' (kilogram, RoW, None)>\n",
      "Exchange: 7.345842748806013e-06 kilowatt hour 'market for electricity, medium voltage' (kilowatt hour, BH, None) to 'gravel production, crushed (for crushed stone)' (kilogram, RoW, None)>\n",
      "Exchange: 8.874475163311663e-06 kilowatt hour 'market for electricity, medium voltage' (kilowatt hour, MM, None) to 'gravel production, crushed (for crushed stone)' (kilogram, RoW, None)>\n",
      "Exchange: 2.81933887047574e-06 kilowatt hour 'market for electricity, medium voltage' (kilowatt hour, HN, None) to 'gravel production, crushed (for crushed stone)' (kilogram, RoW, None)>\n",
      "Exchange: 5.991335081078801e-06 kilowatt hour 'market for electricity, medium voltage' (kilowatt hour, SY, None) to 'gravel production, crushed (for crushed stone)' (kilogram, RoW, None)>\n",
      "Exchange: 4.587927295080073e-05 kilowatt hour 'market for electricity, medium voltage' (kilowatt hour, TH, None) to 'gravel production, crushed (for crushed stone)' (kilogram, RoW, None)>\n",
      "Exchange: 4.75e-11 unit 'market for gravel/sand quarry infrastructure' (unit, GLO, None) to 'gravel production, crushed (for crushed stone)' (kilogram, RoW, None)>\n",
      "Exchange: 6.652548166649479e-05 megajoule 'market for heat, central or small-scale, other than natural gas' (megajoule, Europe without Switzerland, None) to 'gravel production, crushed (for crushed stone)' (kilogram, RoW, None)>\n",
      "Exchange: 0.004843474518333506 megajoule 'market for heat, central or small-scale, other than natural gas' (megajoule, RoW, None) to 'gravel production, crushed (for crushed stone)' (kilogram, RoW, None)>\n",
      "Exchange: 9.51e-05 kilogram 'market for industrial machine, heavy, unspecified' (kilogram, RoW, None) to 'gravel production, crushed (for crushed stone)' (kilogram, RoW, None)>\n",
      "Exchange: 2.5e-06 kilogram 'market for lubricating oil' (kilogram, RoW, None) to 'gravel production, crushed (for crushed stone)' (kilogram, RoW, None)>\n",
      "Exchange: -6.981670755533224e-10 kilogram 'market for municipal solid waste' (kilogram, CY, None) to 'gravel production, crushed (for crushed stone)' (kilogram, RoW, None)>\n",
      "Exchange: -1.959605188540503e-06 kilogram 'market for municipal solid waste' (kilogram, RoW, None) to 'gravel production, crushed (for crushed stone)' (kilogram, RoW, None)>\n",
      "Exchange: -1.5969664438394334e-07 kilogram 'market group for municipal solid waste' (kilogram, Europe without Switzerland, None) to 'gravel production, crushed (for crushed stone)' (kilogram, RoW, None)>\n",
      "Exchange: 1.27e-06 square meter 'market for recultivation, limestone mine' (square meter, GLO, None) to 'gravel production, crushed (for crushed stone)' (kilogram, RoW, None)>\n",
      "Exchange: -3.857791225416036e-05 kilogram 'market for scrap steel' (kilogram, RoW, None) to 'gravel production, crushed (for crushed stone)' (kilogram, RoW, None)>\n",
      "Exchange: -1.2422087745839636e-05 kilogram 'market for scrap steel' (kilogram, Europe without Switzerland, None) to 'gravel production, crushed (for crushed stone)' (kilogram, RoW, None)>\n",
      "Exchange: 5.1e-05 kilogram 'market for steel, low-alloyed, hot rolled' (kilogram, GLO, None) to 'gravel production, crushed (for crushed stone)' (kilogram, RoW, None)>\n",
      "Exchange: 4e-06 kilogram 'market for synthetic rubber' (kilogram, GLO, None) to 'gravel production, crushed (for crushed stone)' (kilogram, RoW, None)>\n",
      "Exchange: 0.0051730817742333965 kilogram 'market for tap water' (kilogram, Europe without Switzerland, None) to 'gravel production, crushed (for crushed stone)' (kilogram, RoW, None)>\n",
      "Exchange: 4.489108847282386e-05 kilogram 'market for tap water' (kilogram, ZA, None) to 'gravel production, crushed (for crushed stone)' (kilogram, RoW, None)>\n",
      "Exchange: 2.4058034768543095e-05 kilogram 'market for tap water' (kilogram, CO, None) to 'gravel production, crushed (for crushed stone)' (kilogram, RoW, None)>\n",
      "Exchange: 1.5781809194197946e-05 kilogram 'market for tap water' (kilogram, PE, None) to 'gravel production, crushed (for crushed stone)' (kilogram, RoW, None)>\n",
      "Exchange: 0.00694218729333104 kilogram 'market for tap water' (kilogram, RoW, None) to 'gravel production, crushed (for crushed stone)' (kilogram, RoW, None)>\n",
      "Exchange: -1.8090768836268608e-06 kilogram 'market for waste mineral oil' (kilogram, RoW, None) to 'gravel production, crushed (for crushed stone)' (kilogram, RoW, None)>\n",
      "Exchange: -6.909231163731394e-07 kilogram 'market for waste mineral oil' (kilogram, Europe without Switzerland, None) to 'gravel production, crushed (for crushed stone)' (kilogram, RoW, None)>\n",
      "Exchange: -2e-06 kilogram 'market for waste rubber, unspecified' (kilogram, RoW, None) to 'gravel production, crushed (for crushed stone)' (kilogram, RoW, None)>\n",
      "Exchange: -2e-06 kilogram 'market for waste rubber, unspecified' (kilogram, Europe without Switzerland, None) to 'gravel production, crushed (for crushed stone)' (kilogram, RoW, None)>\n",
      "Exchange: 4e-10 kilogram 'Particulate Matter, < 2.5 um' (kilogram, None, ('air', 'non-urban air or from high stacks')) to 'gravel production, crushed (for crushed stone)' (kilogram, RoW, None)>\n",
      "Exchange: 5.6e-09 kilogram 'Particulate Matter, > 10 um' (kilogram, None, ('air', 'non-urban air or from high stacks')) to 'gravel production, crushed (for crushed stone)' (kilogram, RoW, None)>\n",
      "Exchange: 2e-09 kilogram 'Particulate Matter, > 2.5 um and < 10um' (kilogram, None, ('air', 'non-urban air or from high stacks')) to 'gravel production, crushed (for crushed stone)' (kilogram, RoW, None)>\n",
      "Exchange: 0.000306585 cubic meter 'Water' (cubic meter, None, ('air',)) to 'gravel production, crushed (for crushed stone)' (kilogram, RoW, None)>\n",
      "Exchange: 0.00081756 cubic meter 'Water' (cubic meter, None, ('water',)) to 'gravel production, crushed (for crushed stone)' (kilogram, RoW, None)>\n",
      "Exchange: 1.04 kilogram 'Gravel' (kilogram, None, ('natural resource', 'in ground')) to 'gravel production, crushed (for crushed stone)' (kilogram, RoW, None)>\n",
      "Exchange: 6.27e-05 square meter-year 'Occupation, lake, artificial' (square meter-year, None, ('natural resource', 'land')) to 'gravel production, crushed (for crushed stone)' (kilogram, RoW, None)>\n",
      "Exchange: 0.000288 square meter-year 'Occupation, mineral extraction site' (square meter-year, None, ('natural resource', 'land')) to 'gravel production, crushed (for crushed stone)' (kilogram, RoW, None)>\n",
      "Exchange: 3.51e-05 square meter 'Transformation, from unspecified' (square meter, None, ('natural resource', 'land')) to 'gravel production, crushed (for crushed stone)' (kilogram, RoW, None)>\n",
      "Exchange: 6.27e-06 square meter 'Transformation, to lake, artificial' (square meter, None, ('natural resource', 'land')) to 'gravel production, crushed (for crushed stone)' (kilogram, RoW, None)>\n",
      "Exchange: 2.88e-05 square meter 'Transformation, to mineral extraction site' (square meter, None, ('natural resource', 'land')) to 'gravel production, crushed (for crushed stone)' (kilogram, RoW, None)>\n",
      "Exchange: 0.001111945 cubic meter 'Water, unspecified natural origin' (cubic meter, None, ('natural resource', 'in water')) to 'gravel production, crushed (for crushed stone)' (kilogram, RoW, None)>\n"
     ]
    }
   ],
   "source": [
    "#Look at exhanges characterizing activity gravel_cs\n",
    "for exc in gravel_cs.exchanges():\n",
    "    print(exc)"
   ]
  },
  {
   "cell_type": "code",
   "execution_count": 93,
   "id": "636ca1b6-61a0-4a4b-936c-2a483aaa34aa",
   "metadata": {
    "scrolled": true
   },
   "outputs": [
    {
     "data": {
      "text/plain": [
       "{'flow': '37eceabd-b33f-4757-a4b9-5c51dee1710d',\n",
       " 'type': 'production',\n",
       " 'name': 'gravel, crushed',\n",
       " 'classifications': {'CPC': ['15320: Pebbles, gravel, broken or crushed stone, macadam; granules, chippings and powder of stone']},\n",
       " 'production volume': 3684834500000.0,\n",
       " 'properties': {'carbon allocation': {'amount': 0.0, 'unit': 'kg'},\n",
       "  'carbon content': {'amount': 0.0, 'unit': 'dimensionless'},\n",
       "  'carbon content, fossil': {'amount': 0.0,\n",
       "   'comment': 'SiO2, ecoinvent v2.2 report 7, part I',\n",
       "   'unit': 'dimensionless'},\n",
       "  'carbon content, non-fossil': {'amount': 0.0,\n",
       "   'comment': 'SiO2, ecoinvent v2.2 report 7, part I',\n",
       "   'unit': 'dimensionless'},\n",
       "  'dry mass': {'amount': 1.0, 'unit': 'kg'},\n",
       "  'price': {'amount': 0.00446,\n",
       "   'comment': 'World market prices are estimated to be equal to USA prices, which are given according to http://minerals.usgs.gov/minerals/pubs/commodity/sand_&_gravel_construction/myb1-2007-sandc.xls, table 1, downloaded 21 April 2009. NOTE: The crushing process may incur an additional price, making this price higher, and sand and round gravel smaller than the average price given here.',\n",
       "   'unit': 'EUR2005'},\n",
       "  'water content': {'amount': 0.0,\n",
       "   'comment': 'water mass/dry mass',\n",
       "   'unit': 'dimensionless'},\n",
       "  'water in wet mass': {'amount': 0.0, 'unit': 'kg'},\n",
       "  'wet mass': {'amount': 1.0, 'unit': 'kg'}},\n",
       " 'activity': '597eca42-291d-5f97-ab75-a3defdd5194d',\n",
       " 'unit': 'kilogram',\n",
       " 'comment': 'EcoSpold01Location=CH',\n",
       " 'variable name': 'ref',\n",
       " 'amount': 1.0,\n",
       " 'uncertainty type': 0,\n",
       " 'loc': 1.0,\n",
       " 'input': ('ecoinvent-391-cutoff', 'c3f10ec4f2e54d08bca78ad0957d7a56'),\n",
       " 'output': ('ecoinvent-391-cutoff', 'c3f10ec4f2e54d08bca78ad0957d7a56')}"
      ]
     },
     "execution_count": 93,
     "metadata": {},
     "output_type": "execute_result"
    }
   ],
   "source": [
    "#detail look to exchanges of interest\n",
    "[exc for exc in gravel_cs.exchanges()][0].as_dict() #gravel, crushed"
   ]
  },
  {
   "cell_type": "code",
   "execution_count": 94,
   "id": "a8df5e3c-2434-4c8a-b8f7-089f1e5fd2e7",
   "metadata": {},
   "outputs": [],
   "source": [
    "#create dictionary with exchanges to keep\n",
    "gravel_cs_exc = [\n",
    "    {\"name\": \"gravel, crushed\", \"type\": \"production\"},\n",
    "    {\"name\": \"building, hall, steel construction\", \"type\": \"technosphere\"},\n",
    "    {\"name\": \"conveyor belt\", \"type\": \"technosphere\"},\n",
    "    {\"name\": \"Gravel\", \"type\": \"biosphere\"},\n",
    "    {\"name\": \"gravel/sand quarry infrastructure\", \"type\": \"technosphere\"},\n",
    "    {\"name\": \"industrial machine, heavy, unspecified\", \"type\": \"technosphere\"},\n",
    "    {\"name\": \"recultivation, limestone mine\", \"type\": \"technosphere\"},\n",
    "    {\"name\": \"steel, low-alloyed, hot rolled\", \"type\": \"technosphere\"},\n",
    "    {\"name\": \"synthetic rubber\", \"type\": \"technosphere\"}\n",
    "]"
   ]
  },
  {
   "cell_type": "code",
   "execution_count": 95,
   "id": "6720a9c5-1467-49ad-99dc-7efc53f5ecfc",
   "metadata": {},
   "outputs": [],
   "source": [
    "# Iterate over exchanges in gravel_cs to delete exchanges that are not included in gravel_cs_exc\n",
    "for exc in gravel_cs.exchanges():\n",
    "    found = False\n",
    "    for item in gravel_cs_exc:\n",
    "        if exc['name'] == item['name'] and exc['type'] == item['type']:\n",
    "            found = True\n",
    "            break\n",
    "    if not found:\n",
    "            exc.delete()\n",
    "            exc.save()"
   ]
  },
  {
   "cell_type": "code",
   "execution_count": 96,
   "id": "35a6cf30-378c-40b0-9dc3-63b80f08b358",
   "metadata": {
    "scrolled": true
   },
   "outputs": [
    {
     "name": "stdout",
     "output_type": "stream",
     "text": [
      "Exchange: 1.0 kilogram 'gravel production, crushed (for crushed stone)' (kilogram, RoW, None) to 'gravel production, crushed (for crushed stone)' (kilogram, RoW, None)>\n",
      "Exchange: 2.85e-06 square meter 'market for building, hall, steel construction' (square meter, GLO, None) to 'gravel production, crushed (for crushed stone)' (kilogram, RoW, None)>\n",
      "Exchange: 9.51e-08 meter 'market for conveyor belt' (meter, GLO, None) to 'gravel production, crushed (for crushed stone)' (kilogram, RoW, None)>\n",
      "Exchange: 4.75e-11 unit 'market for gravel/sand quarry infrastructure' (unit, GLO, None) to 'gravel production, crushed (for crushed stone)' (kilogram, RoW, None)>\n",
      "Exchange: 9.51e-05 kilogram 'market for industrial machine, heavy, unspecified' (kilogram, RoW, None) to 'gravel production, crushed (for crushed stone)' (kilogram, RoW, None)>\n",
      "Exchange: 1.27e-06 square meter 'market for recultivation, limestone mine' (square meter, GLO, None) to 'gravel production, crushed (for crushed stone)' (kilogram, RoW, None)>\n",
      "Exchange: 5.1e-05 kilogram 'market for steel, low-alloyed, hot rolled' (kilogram, GLO, None) to 'gravel production, crushed (for crushed stone)' (kilogram, RoW, None)>\n",
      "Exchange: 4e-06 kilogram 'market for synthetic rubber' (kilogram, GLO, None) to 'gravel production, crushed (for crushed stone)' (kilogram, RoW, None)>\n",
      "Exchange: 1.04 kilogram 'Gravel' (kilogram, None, ('natural resource', 'in ground')) to 'gravel production, crushed (for crushed stone)' (kilogram, RoW, None)>\n"
     ]
    }
   ],
   "source": [
    "#verify new exchanges for gravel_cs\n",
    "for exc in gravel_cs.exchanges():\n",
    "    print(exc)"
   ]
  },
  {
   "cell_type": "markdown",
   "id": "697c4a45-7e3e-4cd0-a47f-1d0dedfcab42",
   "metadata": {},
   "source": [
    "## Adding cellullose fibre production modified process\n",
    "\n",
    "This processs is based on the following ecoinvent process:\n",
    "\n",
    "- cellulose fibre production - RoW\n",
    "\n",
    "The new process is modified to exclude the *borax, anhydrous, powder* and *boric acid, anhydrous, powder* technosphere exchanges.\n",
    "\n",
    "The name of the new process is set to:\n",
    "\n",
    "- cellulose fibre production (without borax and boric acid) - RoW"
   ]
  },
  {
   "cell_type": "code",
   "execution_count": 106,
   "id": "9486feee-3465-4ce7-8768-81e72350516c",
   "metadata": {},
   "outputs": [
    {
     "data": {
      "text/plain": [
       "['cellulose fibre production' (kilogram, CH, None),\n",
       " 'cellulose fibre production' (kilogram, RoW, None)]"
      ]
     },
     "execution_count": 106,
     "metadata": {},
     "output_type": "execute_result"
    }
   ],
   "source": [
    "#Search for cellulose fibre production in background database\n",
    "EI_DB.search('cellulose fibre production')"
   ]
  },
  {
   "cell_type": "code",
   "execution_count": 107,
   "id": "c60350d4-aaa2-4ae5-b091-1633c0674eb0",
   "metadata": {},
   "outputs": [],
   "source": [
    "#Copy existing cellulose fibre process\n",
    "cellulose = EI_DB.search('cellulose fibre production')[1]\n",
    "cellulose_mod = cellulose.copy(name='cellulose fibre production (without borax and boric acid)') "
   ]
  },
  {
   "cell_type": "code",
   "execution_count": 108,
   "id": "42c7035c-320b-438a-9c7f-6a25321d3405",
   "metadata": {},
   "outputs": [
    {
     "data": {
      "text/plain": [
       "['cellulose fibre production' (kilogram, CH, None),\n",
       " 'cellulose fibre production' (kilogram, RoW, None),\n",
       " 'cellulose fibre production (without borax and boric acid)' (kilogram, RoW, None)]"
      ]
     },
     "execution_count": 108,
     "metadata": {},
     "output_type": "execute_result"
    }
   ],
   "source": [
    "#Verify that the new cellulose fibre process was recorded\n",
    "EI_DB.search('cellulose fibre production')"
   ]
  },
  {
   "cell_type": "code",
   "execution_count": 109,
   "id": "73485d51-b675-4e0e-b17e-1ee967066419",
   "metadata": {},
   "outputs": [
    {
     "name": "stdout",
     "output_type": "stream",
     "text": [
      "Exchange: 0.04 kilogram 'market for aluminium hydroxide' (kilogram, GLO, None) to 'cellulose fibre production (without borax and boric acid)' (kilogram, RoW, None)>\n",
      "Exchange: 0.04 kilogram 'market for boric acid, anhydrous, powder' (kilogram, GLO, None) to 'cellulose fibre production (without borax and boric acid)' (kilogram, RoW, None)>\n",
      "Exchange: 4.24e-06 square meter 'market for building, hall, steel construction' (square meter, GLO, None) to 'cellulose fibre production (without borax and boric acid)' (kilogram, RoW, None)>\n",
      "Exchange: 0.0011939174733314618 kilowatt hour 'market for electricity, medium voltage' (kilowatt hour, AU, None) to 'cellulose fibre production (without borax and boric acid)' (kilogram, RoW, None)>\n",
      "Exchange: 0.07209155511042603 kilowatt hour 'market group for electricity, medium voltage' (kilowatt hour, RAS, None) to 'cellulose fibre production (without borax and boric acid)' (kilogram, RoW, None)>\n",
      "Exchange: 0.00785732043731028 kilowatt hour 'market group for electricity, medium voltage' (kilowatt hour, RLA, None) to 'cellulose fibre production (without borax and boric acid)' (kilogram, RoW, None)>\n",
      "Exchange: 0.017154767770878203 kilowatt hour 'market group for electricity, medium voltage' (kilowatt hour, Europe without Switzerland, None) to 'cellulose fibre production (without borax and boric acid)' (kilogram, RoW, None)>\n",
      "Exchange: 0.005344023359004132 kilowatt hour 'market for electricity, medium voltage' (kilowatt hour, RU, None) to 'cellulose fibre production (without borax and boric acid)' (kilogram, RoW, None)>\n",
      "Exchange: 0.02518112028564643 kilowatt hour 'market group for electricity, medium voltage' (kilowatt hour, RNA, None) to 'cellulose fibre production (without borax and boric acid)' (kilogram, RoW, None)>\n",
      "Exchange: 0.00394330475058461 kilowatt hour 'market group for electricity, medium voltage' (kilowatt hour, RAF, None) to 'cellulose fibre production (without borax and boric acid)' (kilogram, RoW, None)>\n",
      "Exchange: 0.00023399081281882004 kilowatt hour 'market for electricity, medium voltage' (kilowatt hour, NZ, None) to 'cellulose fibre production (without borax and boric acid)' (kilogram, RoW, None)>\n",
      "Exchange: 0.04624255581670849 megajoule 'market for heat, district or industrial, natural gas' (megajoule, RoW, None) to 'cellulose fibre production (without borax and boric acid)' (kilogram, RoW, None)>\n",
      "Exchange: 0.0007598838840279923 megajoule 'market for heat, district or industrial, natural gas' (megajoule, CA-QC, None) to 'cellulose fibre production (without borax and boric acid)' (kilogram, RoW, None)>\n",
      "Exchange: 0.017077560299263515 megajoule 'market for heat, district or industrial, natural gas' (megajoule, Europe without Switzerland, None) to 'cellulose fibre production (without borax and boric acid)' (kilogram, RoW, None)>\n",
      "Exchange: 0.000484 kilogram 'market for industrial machine, heavy, unspecified' (kilogram, RoW, None) to 'cellulose fibre production (without borax and boric acid)' (kilogram, RoW, None)>\n",
      "Exchange: -1.6962969864809993e-06 kilogram 'market for municipal solid waste' (kilogram, CY, None) to 'cellulose fibre production (without borax and boric acid)' (kilogram, RoW, None)>\n",
      "Exchange: -0.00476114169861038 kilogram 'market for municipal solid waste' (kilogram, RoW, None) to 'cellulose fibre production (without borax and boric acid)' (kilogram, RoW, None)>\n",
      "Exchange: -2.4241095766199606e-06 kilogram 'market for municipal solid waste' (kilogram, IN, None) to 'cellulose fibre production (without borax and boric acid)' (kilogram, RoW, None)>\n",
      "Exchange: -0.0003880058887121231 kilogram 'market group for municipal solid waste' (kilogram, Europe without Switzerland, None) to 'cellulose fibre production (without borax and boric acid)' (kilogram, RoW, None)>\n",
      "Exchange: -6.7320061143958185e-06 kilogram 'market for municipal solid waste' (kilogram, CA-QC, None) to 'cellulose fibre production (without borax and boric acid)' (kilogram, RoW, None)>\n",
      "Exchange: 0.92 kilogram 'market for waste paper, sorted' (kilogram, GLO, None) to 'cellulose fibre production (without borax and boric acid)' (kilogram, RoW, None)>\n"
     ]
    }
   ],
   "source": [
    "#Look at technosphere exhanges characterizing activity cellulose_mod\n",
    "for exc in cellulose_mod.technosphere():\n",
    "    print(exc)"
   ]
  },
  {
   "cell_type": "code",
   "execution_count": 110,
   "id": "bacdcf2a-952c-47ed-8a85-b074ac256908",
   "metadata": {},
   "outputs": [],
   "source": [
    "# Iterate over exchanges in cellulose_mod to delete borax, anhydrous, powder and boric acid, anhydrous, powder technosphere exchanges\n",
    "for exc in cellulose_mod.technosphere():\n",
    "    if exc['name'] == 'borax, anhydrous, powder':\n",
    "        exc.delete()\n",
    "        exc.save()\n",
    "    elif exc['name'] == 'boric acid, anhydrous, powder':\n",
    "        exc.delete()\n",
    "        exc.save()"
   ]
  },
  {
   "cell_type": "code",
   "execution_count": 111,
   "id": "d6481eb8-7fb1-4160-a4bd-a73cd856caea",
   "metadata": {},
   "outputs": [
    {
     "name": "stdout",
     "output_type": "stream",
     "text": [
      "Exchange: 0.04 kilogram 'market for aluminium hydroxide' (kilogram, GLO, None) to 'cellulose fibre production (without borax and boric acid)' (kilogram, RoW, None)>\n",
      "Exchange: 4.24e-06 square meter 'market for building, hall, steel construction' (square meter, GLO, None) to 'cellulose fibre production (without borax and boric acid)' (kilogram, RoW, None)>\n",
      "Exchange: 0.0011939174733314618 kilowatt hour 'market for electricity, medium voltage' (kilowatt hour, AU, None) to 'cellulose fibre production (without borax and boric acid)' (kilogram, RoW, None)>\n",
      "Exchange: 0.07209155511042603 kilowatt hour 'market group for electricity, medium voltage' (kilowatt hour, RAS, None) to 'cellulose fibre production (without borax and boric acid)' (kilogram, RoW, None)>\n",
      "Exchange: 0.00785732043731028 kilowatt hour 'market group for electricity, medium voltage' (kilowatt hour, RLA, None) to 'cellulose fibre production (without borax and boric acid)' (kilogram, RoW, None)>\n",
      "Exchange: 0.017154767770878203 kilowatt hour 'market group for electricity, medium voltage' (kilowatt hour, Europe without Switzerland, None) to 'cellulose fibre production (without borax and boric acid)' (kilogram, RoW, None)>\n",
      "Exchange: 0.005344023359004132 kilowatt hour 'market for electricity, medium voltage' (kilowatt hour, RU, None) to 'cellulose fibre production (without borax and boric acid)' (kilogram, RoW, None)>\n",
      "Exchange: 0.02518112028564643 kilowatt hour 'market group for electricity, medium voltage' (kilowatt hour, RNA, None) to 'cellulose fibre production (without borax and boric acid)' (kilogram, RoW, None)>\n",
      "Exchange: 0.00394330475058461 kilowatt hour 'market group for electricity, medium voltage' (kilowatt hour, RAF, None) to 'cellulose fibre production (without borax and boric acid)' (kilogram, RoW, None)>\n",
      "Exchange: 0.00023399081281882004 kilowatt hour 'market for electricity, medium voltage' (kilowatt hour, NZ, None) to 'cellulose fibre production (without borax and boric acid)' (kilogram, RoW, None)>\n",
      "Exchange: 0.04624255581670849 megajoule 'market for heat, district or industrial, natural gas' (megajoule, RoW, None) to 'cellulose fibre production (without borax and boric acid)' (kilogram, RoW, None)>\n",
      "Exchange: 0.0007598838840279923 megajoule 'market for heat, district or industrial, natural gas' (megajoule, CA-QC, None) to 'cellulose fibre production (without borax and boric acid)' (kilogram, RoW, None)>\n",
      "Exchange: 0.017077560299263515 megajoule 'market for heat, district or industrial, natural gas' (megajoule, Europe without Switzerland, None) to 'cellulose fibre production (without borax and boric acid)' (kilogram, RoW, None)>\n",
      "Exchange: 0.000484 kilogram 'market for industrial machine, heavy, unspecified' (kilogram, RoW, None) to 'cellulose fibre production (without borax and boric acid)' (kilogram, RoW, None)>\n",
      "Exchange: -1.6962969864809993e-06 kilogram 'market for municipal solid waste' (kilogram, CY, None) to 'cellulose fibre production (without borax and boric acid)' (kilogram, RoW, None)>\n",
      "Exchange: -0.00476114169861038 kilogram 'market for municipal solid waste' (kilogram, RoW, None) to 'cellulose fibre production (without borax and boric acid)' (kilogram, RoW, None)>\n",
      "Exchange: -2.4241095766199606e-06 kilogram 'market for municipal solid waste' (kilogram, IN, None) to 'cellulose fibre production (without borax and boric acid)' (kilogram, RoW, None)>\n",
      "Exchange: -0.0003880058887121231 kilogram 'market group for municipal solid waste' (kilogram, Europe without Switzerland, None) to 'cellulose fibre production (without borax and boric acid)' (kilogram, RoW, None)>\n",
      "Exchange: -6.7320061143958185e-06 kilogram 'market for municipal solid waste' (kilogram, CA-QC, None) to 'cellulose fibre production (without borax and boric acid)' (kilogram, RoW, None)>\n",
      "Exchange: 0.92 kilogram 'market for waste paper, sorted' (kilogram, GLO, None) to 'cellulose fibre production (without borax and boric acid)' (kilogram, RoW, None)>\n"
     ]
    }
   ],
   "source": [
    "#verify new technosphere exchanges for cellulose_mod\n",
    "for exc in cellulose_mod.technosphere():\n",
    "    print(exc)"
   ]
  },
  {
   "cell_type": "code",
   "execution_count": null,
   "id": "2212d8cf-d17f-421a-b82a-d7a0abe3d1bc",
   "metadata": {},
   "outputs": [],
   "source": []
  }
 ],
 "metadata": {
  "kernelspec": {
   "display_name": "Python 3 (ipykernel)",
   "language": "python",
   "name": "python3"
  },
  "language_info": {
   "codemirror_mode": {
    "name": "ipython",
    "version": 3
   },
   "file_extension": ".py",
   "mimetype": "text/x-python",
   "name": "python",
   "nbconvert_exporter": "python",
   "pygments_lexer": "ipython3",
   "version": "3.11.8"
  }
 },
 "nbformat": 4,
 "nbformat_minor": 5
}
