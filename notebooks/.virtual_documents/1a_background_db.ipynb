


# We start by importing the variables with the project name and background db
from project_details import EI_DB_NAME, PROJECT_NAME






import bw2data as bd
import bw2io as bi

#Provide a path to where you had backed-up your project
project_path = (
"/home/somesamplebud/brightway2-project-ei-backup.13-October-2023-09-33AM.tar.gz"
)

bi.restore_project_directory(project_path, PROJECT_NAME)








import bw2data as bd
import bw2io as bi

bd.projects.set_current(PROJECT_NAME)
bi.bw2setup()

#Set path to the location where the EcoSpold files are found
EI_PATH = "/Users/andreavargasf/ua_pmlca/ua_pmlca/notebooks/ecoinvent 3.9.1_cutoff_ecoSpold02/datasets"

if EI_DB_NAME in bd.databases:
    print(f"{EI_DB_NAME} Database has already been imported.")
else:
    # Go ahead and import:
    ei_importer = bi.SingleOutputEcospold2Importer(EI_PATH, EI_DB_NAME)
    # Apply strategies
    ei_importer.apply_strategies()
    # Get some statistics
    ei_importer.statistics()
    # Write the database into our project
    ei_importer.write_database()


#Check the databases that are included in the project
bd.databases





bd.projects.set_current(PROJECT_NAME)
eidb = bd.Database(EI_DB_NAME)
print(
    "The imported ecoinvent database is of type {} and has a length of {}.".format(
        type(eidb), len(eidb)
    )
)
eidb.graph_technosphere()



