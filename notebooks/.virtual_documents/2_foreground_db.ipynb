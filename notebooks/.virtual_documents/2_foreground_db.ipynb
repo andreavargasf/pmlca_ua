


from pathlib import Path
from pprint import pprint


import bw2data as bd
import bw2io as bi


#Importing the variables with the project name and background db
from project_details import EI_DB_NAME, PROJECT_NAME


bd.projects.set_current(PROJECT_NAME)
bd.databases


# Is the background database name the same as the one we wrote in `project_details.py`?
assert EI_DB_NAME in bd.databases





# Include the path to the foreground database
FG_DB = Path("./Foreground.xlsx")

# Import your LCI
lci = bi.ExcelImporter(FG_DB)








# Need to match FG_DB to itself
lci.match_database(fields=["name", "unit", "location"])





# Need to match FG_DB to the biosphere
lci.match_database(EI_DB_NAME, fields=["name", "reference product", "location", "unit"])





# Need to match FG_DB to the biosphere
lci.match_database("biosphere3", fields=["name", "categories"])


bi.create_core_migrations()
# Once your package is imported we need to apply strategies
lci.apply_strategies()

# We need to match databases - name and categories but ATTENTION! the categories in
# the excel file is "None" so we willlci.write_excel() also need to match against unit.

lci.statistics()


import_statistics = lci.statistics(print_stats=False)

# If all exchanges have been linked, proceed to write the database
if import_statistics[2] == 0:
    lci.write_database()
else:
    print(f"There are unlinked exchanges {import_statistics}")
    lci.write_excel()
    for unlinked_exchange in lci.unlinked:
        pprint(unlinked_exchange)

bd.databases





import bw2analyzer as bwa


FG_DB_NAME = "asphalt"


pavement_complete_a = bd.Database(FG_DB_NAME).get("DZOAB, A")


bwa.print_recursive_supply_chain(pavement_complete_a, max_level=1)


bwa.print_recursive_supply_chain(pavement_complete_a, max_level=2)



