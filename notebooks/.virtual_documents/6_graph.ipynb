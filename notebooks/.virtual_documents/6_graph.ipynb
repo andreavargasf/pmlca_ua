import pandas as pd
import seaborn as sns
import os
import matplotlib.pyplot as plt
import matplotlib.collections as clt
import ptitprince as pt 



#import LCA results
a = pd.DataFrame(pd.read_excel('scores_a.xlsx',index_col=0))
b = pd.DataFrame(pd.read_excel('scores_b.xlsx',index_col=0))


data = [
    ['Global warming potential', 'GWP-100', 'kg CO2-eq.']]

impact_dict = {}
for impact in data:
    impact_dict[impact[0]] = {'indicator': impact[1], 'unit': impact[2]}


a


impact_dict



baseline = b
alternative = a
text = 'DZOAB'

imp_dzoab = pd.DataFrame(baseline[0])
imp_dzoab30 = pd.DataFrame(alternative[0])
imp_dzoab['RAP content'] = '0%'
imp_dzoab30['RAP content'] = '30%'
imp = pd.concat([imp_dzoab,imp_dzoab30],axis=0)
imp.rename(columns={0: 'kg CO2-eq.'}, inplace=True)
#imp[i] = imp[i]*1050
#imp.rename(columns={[0]:'GWP-100'})
imp


sns.set(style="whitegrid",font_scale=1.5)
f, ax = plt.subplots(figsize=(7, 5), dpi=500)
plt.ticklabel_format(style='sci', axis='x', scilimits=(0,0))
pal = 'Dark2'
dy="RAP content"; dx='kg CO2-eq.'; ort="h"
ax=pt.half_violinplot( x = dx, y = dy, data = imp, palette = pal, bw = .2, cut = 0.,
scale = "area", width = .65, inner = None, orient = ort, linewidth = 0)
ax=sns.stripplot( x = dx, y = dy, data = imp, palette = pal, edgecolor = "white",
size = 3, jitter = 1, zorder = 0, orient = ort)
ax=sns.boxplot( x = dx, y = dy, data = imp, width = .2, zorder = 10,\
showcaps = True, boxprops = { "zorder":10}, palette = pal,\
showfliers = False, whiskerprops = {'linewidth':2, "zorder":10},\
saturation = 1, orient = ort, whis = [5,95], showmeans = True,\
    meanprops={"marker":"o", "markerfacecolor":"white", "markeredgecolor":"black", "markersize":"10"})
plt.title(f'{text}\nGlobal warming potential (GWP-100)')
plt.savefig('graph.png',bbox_inches='tight')



