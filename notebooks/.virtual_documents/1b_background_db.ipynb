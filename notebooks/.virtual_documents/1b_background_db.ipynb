


import bw2data as bd
import bw2io as bi


#Importing the variables with the project name and background db
from project_details import EI_DB_NAME, PROJECT_NAME


#Set project
bd.projects.set_current(PROJECT_NAME)
#Check databases included in project
bd.databases


# Is the background database name the same as the one we wrote in `propject_details.py`?
assert EI_DB_NAME in bd.databases





#Search for original diesel process in background database
EI_DB = bd.Database(EI_DB_NAME)
EI_DB.search('diesel, burned in building machine')


#Copy existing diesel process
diesel = EI_DB.search('diesel, burned in building machine')[1]
diesel_A5 = diesel.copy(name='A5, diesel, burned in building machine') 
diesel_C1 = diesel.copy(name='C1, diesel, burned in building machine') 


#Check that new processes are saved to background database
EI_DB = bd.Database(EI_DB_NAME)
EI_DB.search('diesel, burned in building machine')


#Look at exhanges characterizing activity
for exc in diesel_A5.exchanges():
    print(exc)


#detail look to exchanges of interest
[exc for exc in diesel_A5.exchanges()][8].as_dict() #Ammonia


#Create dictionaries with new emissions for each activity
A5_emissions = [
    {"name": "Ammonia", "amount": 2.33222e-07},
    {"name": "Carbon dioxide, fossil", "amount": 7.44086e-05},
    {"name": "Carbon monoxide, fossil", "amount": 3.19444e-08},
    {"name": "Dinitrogen monoxide", "amount": 4.99833e-10},
    {"name": "Nitrogen oxides", "amount": 7.67056e-08},
    {"name": "NMVOC, non-methane volatile organic compounds", "amount": 8.91294e-10},
    {"name": "Particulate Matter, < 2.5 um", "amount": 1.29832e-09},
    {"name": "Particulate Matter, > 10 um", "amount": 6.83056e-11},
    {"name": "Particulate Matter, > 2.5 um and < 10um", "amount": 1.23587e-09},
    {"name": "Sulfur dioxide", "amount": 4.66667e-10}
]

C1_emissions = [
    {"name": "Ammonia", "amount": 2.33222e-07},
    {"name": "Carbon dioxide, fossil", "amount": 7.44086e-05},
    {"name": "Carbon monoxide, fossil", "amount": 1.00901e-08},
    {"name": "Dinitrogen monoxide", "amount": 4.99833e-10},
    {"name": "Nitrogen oxides", "amount": 3.83334e-08},
    {"name": "NMVOC, non-methane volatile organic compounds", "amount": 4.08334e-10},
    {"name": "Particulates, <2.5 µm", "amount": 1.63390e-09},
    {"name": "Particulates, >2.5 µm and <10 µm", "amount": 3.22335e-09},
    {"name": "Particulates, >10 µm", "amount": 1.89703e-09},
    {"name": "Sulphur dioxide", "amount": 4.66667e-10}
]





# Iterate over exchanges in diesel_A5
for exc in diesel_A5.exchanges():
    # Check if the exchange name is in A5_emissions
    for emission in A5_emissions:
        if exc['name'] == emission['name']:
            # Update the amount in the exchange
            exc['amount'] = emission['amount']
            exc.save()
            break  # Exit the loop once the exchange is found


#Iterate over exchanges in diesel_C1
for exc in diesel_C1.exchanges():
    # Check if the exchange name is in C1_emissions
    for emission in C1_emissions:
        if exc['name'] == emission['name']:
            # Update the amount in the exchange
            exc['amount'] = emission['amount']
            exc.save()
            break  # Exit the loop once the exchange is found





#Look at exhanges characterizing activity diesel_A5
for exc in diesel_A5.exchanges():
    print(exc)





#Search for transport processes in background database
EI_DB.search('transport, freight, lorry 7.5-16 metric ton, EURO5')


EI_DB.search('transport, passenger car, medium size, petrol, EURO 5')


#Copy existing lorry process
lorry = EI_DB.search('transport, freight, lorry 7.5-16 metric ton, EURO5')[4]
lorry_B = lorry.copy(name='B, transport, freight, lorry 7.5-16 metric ton, EURO5') 


#Copy existing car process
car = EI_DB.search('transport, passenger car, medium size, petrol, EURO 5')[1]
car_B = car.copy(name='B, transport, passenger car, medium size, petrol, EURO 5') 


#Verify that the new transport processes were recorded
EI_DB.search('B, transport,')





#Look at technosphere exhanges characterizing activity lorry_B
for exc in lorry_B.technosphere():
    print(exc)


#detail look to exchanges of interest
[exc for exc in lorry_B.technosphere()][1].as_dict() #market group for diesel, low-sulfur


# Iterate over exchanges in lorry_B
for exc in lorry_B.technosphere():
        if exc['name'] != 'diesel, low-sulfur':
            # Delete exchange
            exc.delete()
            exc.save()





#Look at exhanges characterizing activity lorry_B
for exc in lorry_B.technosphere():
    print(exc)





#Look at technosphere exhanges characterizing activity car_B
for exc in car_B.technosphere():
    print(exc)


#detail look to exchanges of interest
[exc for exc in car_B.technosphere()][3].as_dict() #market for petrol, low-sulfur - Europe without Szwitzerland
[exc for exc in car_B.technosphere()][4].as_dict() #market for petrol, low-sulfur - CH


# Iterate over exchanges in car_B
for exc in car_B.technosphere():
        if exc['name'] != 'petrol, low-sulfur':
            #delete exchange
            exc.delete()
            exc.save()


#Look at exhanges characterizing activity car_B
for exc in car_B.technosphere():
    print(exc)





#Search for basalt quarry operation in background database
EI_DB.search('basalt quarry operation')


#Copy existing basalt process
basalt = EI_DB.search('basalt quarry operation')[1]
basalt_cs = basalt.copy(name='basalt quarry operation (for crushed stone)') 


#Verify that the new transport processes were recorded
EI_DB.search('basalt quarry operation')


#Look at biosphere exhanges characterizing activity basalt_cs
for exc in basalt_cs.biosphere():
    print(exc)


#detail look to exchanges of interest
[exc for exc in basalt_cs.biosphere()][5].as_dict() #Basalt


# Iterate over biosphere exchanges in basalt_cs to change the amount of Basalt exchange to 0
for exc in basalt_cs.biosphere():
        if exc['name'] == 'Basalt':
            # Update the amount in the exchange
            exc['amount'] = 0
            exc.save()


#verify new exchange value for Basalt in basalt_cs
for exc in basalt_cs.biosphere():
    print(exc)


#Look at technosphere exhanges characterizing activity basalt_cs
for exc in basalt_cs.technosphere():
    print(exc)


# Iterate over technosphere exchanges in basalt_cs to multiply all technosphere exchanges time 1,04
for exc in basalt_cs.technosphere():
    # Update the amount in the exchange
    exc['amount'] = (exc['amount'])*1.04
    exc.save()
            


#verify new exchange technosphere value for basalt_cs
for exc in basalt_cs.technosphere():
    print(exc)



