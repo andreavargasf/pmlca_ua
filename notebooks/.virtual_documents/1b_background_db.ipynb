


import bw2data as bd
import bw2io as bi


#Importing the variables with the project name and background db
from project_details import EI_DB_NAME, PROJECT_NAME


#Set project
bd.projects.set_current(PROJECT_NAME)
#Check databases included in project
bd.databases


# Is the background database name the same as the one we wrote in `project_details.py`?
assert EI_DB_NAME in bd.databases





#Search for original diesel process in background database
EI_DB = bd.Database(EI_DB_NAME)
EI_DB.search('diesel, burned in building machine')


#Copy existing diesel process
diesel = EI_DB.search('diesel, burned in building machine')[1]
diesel_A5 = diesel.copy(name='A5, diesel, burned in building machine') 
diesel_C1 = diesel.copy(name='C1, diesel, burned in building machine') 


#Check that new processes are saved to background database
EI_DB = bd.Database(EI_DB_NAME)
EI_DB.search('diesel, burned in building machine')


#Look at exhanges characterizing activity
for exc in diesel_A5.exchanges():
    print(exc)


#detail look to exchanges of interest
[exc for exc in diesel_A5.exchanges()][8].as_dict() #Ammonia


#Create dictionaries with new emissions for each activity
A5_emissions = [
    {"name": "Ammonia", "amount": 2.33222e-07},
    {"name": "Carbon dioxide, fossil", "amount": 7.44086e-05},
    {"name": "Carbon monoxide, fossil", "amount": 3.19444e-08},
    {"name": "Dinitrogen monoxide", "amount": 4.99833e-10},
    {"name": "Nitrogen oxides", "amount": 7.67056e-08},
    {"name": "NMVOC, non-methane volatile organic compounds", "amount": 8.91294e-10},
    {"name": "Particulate Matter, < 2.5 um", "amount": 1.29832e-09},
    {"name": "Particulate Matter, > 10 um", "amount": 6.83056e-11},
    {"name": "Particulate Matter, > 2.5 um and < 10um", "amount": 1.23587e-09},
    {"name": "Sulfur dioxide", "amount": 4.66667e-10}
]

C1_emissions = [
    {"name": "Ammonia", "amount": 2.33222e-07},
    {"name": "Carbon dioxide, fossil", "amount": 7.44086e-05},
    {"name": "Carbon monoxide, fossil", "amount": 1.00901e-08},
    {"name": "Dinitrogen monoxide", "amount": 4.99833e-10},
    {"name": "Nitrogen oxides", "amount": 3.83334e-08},
    {"name": "NMVOC, non-methane volatile organic compounds", "amount": 4.08334e-10},
    {"name": "Particulates, <2.5 µm", "amount": 1.63390e-09},
    {"name": "Particulates, >2.5 µm and <10 µm", "amount": 3.22335e-09},
    {"name": "Particulates, >10 µm", "amount": 1.89703e-09},
    {"name": "Sulphur dioxide", "amount": 4.66667e-10}
]





# Iterate over exchanges in diesel_A5
for exc in diesel_A5.exchanges():
    # Check if the exchange name is in A5_emissions
    for emission in A5_emissions:
        if exc['name'] == emission['name']:
            # Update the amount in the exchange
            exc['amount'] = emission['amount']
            exc.save()
            break  # Exit the loop once the exchange is found


#Iterate over exchanges in diesel_C1
for exc in diesel_C1.exchanges():
    # Check if the exchange name is in C1_emissions
    for emission in C1_emissions:
        if exc['name'] == emission['name']:
            # Update the amount in the exchange
            exc['amount'] = emission['amount']
            exc.save()
            break  # Exit the loop once the exchange is found





#Look at exhanges characterizing activity diesel_A5
for exc in diesel_A5.exchanges():
    print(exc)





#Store original diesel exchange as a variable
diesel_og = [exc for exc in diesel_A5.exchanges()][2] #Market group for diesel
diesel_og


#Take a closer look to diesel_og
diesel_og.as_dict()


#find replacement exchange for diesel_og: market for diesel, low-sulfur - Europe without Switzerland
EI_DB.search('diesel, low-sulfur')


#store replacement activity as variable
diesel_ls = EI_DB.search('diesel, low-sulfur')[0]


#Take a closer look to diesel_ls
diesel_ls.as_dict()


#add diesel_ls to diesel_x exchanges based on the diesel_og exchange parameters
diesel_ls_A5 = diesel_A5.new_exchange(input=diesel_ls.key, amount=diesel_og.amount, unit=diesel_og.unit, 
                                      type='technosphere')
diesel_ls_C1 = diesel_C1.new_exchange(input=diesel_ls.key, amount=diesel_og.amount, unit=diesel_og.unit, 
                                      type='technosphere')
diesel_ls_A5.save()
diesel_ls_C1.save()
diesel_A5.save()
diesel_C1.save()


#Verify characterizing activity diesel_A5
[exc for exc in diesel_A5.exchanges()][2].as_dict()


#Delete diesel exchange
[exc for exc in diesel_A5.exchanges()][2].delete() #Market group for diesel
[exc for exc in diesel_C1.exchanges()][2].delete() #Market group for diesel


#Verify characterizing activity diesel_A5
for exc in diesel_A5.exchanges():
    print(exc)


#Verify diesel_ls exchange
[exc for exc in diesel_A5.exchanges()][27].as_dict()





#Search for transport processes in background database
EI_DB.search('transport, freight, lorry 7.5-16 metric ton, EURO5')


EI_DB.search('transport, passenger car, medium size, petrol, EURO 5')


#Copy existing lorry process
lorry = EI_DB.search('transport, freight, lorry 7.5-16 metric ton, EURO5')[4]
lorry_B = lorry.copy(name='B, transport, freight, lorry 7.5-16 metric ton, EURO5') 


#Copy existing car process
car = EI_DB.search('transport, passenger car, medium size, petrol, EURO 5')[1]
car_B = car.copy(name='B, transport, passenger car, medium size, petrol, EURO 5') 


#Verify that the new transport processes were recorded
EI_DB.search('B, transport,')





#Look at technosphere exhanges characterizing activity lorry_B
for exc in lorry_B.technosphere():
    print(exc)


#detail look to exchanges of interest
[exc for exc in lorry_B.technosphere()][1].as_dict() #market group for diesel, low-sulfur


# Iterate over exchanges in lorry_B
for exc in lorry_B.technosphere():
        if exc['name'] != 'diesel, low-sulfur':
            # Delete exchange
            exc.delete()
            exc.save()





#Look at exhanges characterizing activity lorry_B
for exc in lorry_B.technosphere():
    print(exc)





#Look at technosphere exhanges characterizing activity car_B
for exc in car_B.technosphere():
    print(exc)


#detail look to exchanges of interest
[exc for exc in car_B.technosphere()][3].as_dict() #market for petrol, low-sulfur - Europe without Szwitzerland
[exc for exc in car_B.technosphere()][4].as_dict() #market for petrol, low-sulfur - CH


# Iterate over exchanges in car_B
for exc in car_B.technosphere():
        if exc['name'] != 'petrol, low-sulfur':
            #delete exchange
            exc.delete()
            exc.save()


#Look at exhanges characterizing activity car_B
for exc in car_B.technosphere():
    print(exc)





#Search for basalt quarry operation in background database
EI_DB.search('basalt quarry operation')


#Copy existing basalt process
basalt = EI_DB.search('basalt quarry operation')[1]
basalt_cs = basalt.copy(name='basalt quarry operation (for crushed stone)') 


#Verify that the new basalt process was recorded
EI_DB.search('basalt quarry operation')


#Look at biosphere exhanges characterizing activity basalt_cs
for exc in basalt_cs.biosphere():
    print(exc)


#detail look to biosphere exchanges of interest
[exc for exc in basalt_cs.biosphere()][5].as_dict() #Basalt


# Iterate over biosphere exchanges in basalt_cs to change the amount of Basalt exchange to 0
for exc in basalt_cs.biosphere():
        if exc['name'] == 'Basalt':
            # Update the amount in the exchange
            exc['amount'] = 0
            exc.save()


#verify new exchange value for Basalt in basalt_cs
for exc in basalt_cs.biosphere():
    print(exc)


#Look at technosphere exhanges characterizing activity basalt_cs
for exc in basalt_cs.technosphere():
    print(exc)


#detail look to technosphere exchange of interest
[exc for exc in basalt_cs.technosphere()][6].as_dict() #limestone quarry infrastructure


# Iterate over technosphere exchanges in basalt_cs to change the amount of limestone quarry operation exchange to 0
for exc in basalt_cs.technosphere():
        if exc['name'] == 'limestone quarry infrastructure':
            # Update the amount in the exchange
            exc['amount'] = 0
            exc.save()


#verify new exchange value for limestone quarry operation in basalt_cs
for exc in basalt_cs.technosphere():
    print(exc)


#Look at technosphere exhanges characterizing activity basalt_cs
for exc in basalt_cs.technosphere():
    print(exc)


# Iterate over technosphere exchanges in basalt_cs to multiply all technosphere exchanges time 1,04
for exc in basalt_cs.technosphere():
    # Update the amount in the exchange
    exc['amount'] = (exc['amount'])*1.04
    exc.save()
            


#verify new exchange technosphere values for basalt_cs
for exc in basalt_cs.technosphere():
    print(exc)





#Search for gravel production, crushed in background database
EI_DB.search('gravel production, crushed')


#Copy existing gravel process
gravel = EI_DB.search('gravel production, crushed')[2]
gravel_cs = gravel.copy(name='gravel production, crushed (for crushed stone)') 


#Verify that the new gravel process was recorded
EI_DB.search('gravel production, crushed')


#Look at exhanges characterizing activity gravel_cs
for exc in gravel_cs.exchanges():
    print(exc)


#detail look to exchanges of interest
[exc for exc in gravel_cs.exchanges()][0].as_dict() #gravel, crushed


#create dictionary with exchanges to keep
gravel_cs_exc = [
    {"name": "gravel, crushed", "type": "production"},
    {"name": "building, hall, steel construction", "type": "technosphere"},
    {"name": "conveyor belt", "type": "technosphere"},
    {"name": "Gravel", "type": "biosphere"},
    {"name": "gravel/sand quarry infrastructure", "type": "technosphere"},
    {"name": "industrial machine, heavy, unspecified", "type": "technosphere"},
    {"name": "recultivation, limestone mine", "type": "technosphere"},
    {"name": "steel, low-alloyed, hot rolled", "type": "technosphere"},
    {"name": "synthetic rubber", "type": "technosphere"}
]


# Iterate over exchanges in gravel_cs to delete exchanges that are not included in gravel_cs_exc
for exc in gravel_cs.exchanges():
    found = False
    for item in gravel_cs_exc:
        if exc['name'] == item['name'] and exc['type'] == item['type']:
            found = True
            break
    if not found:
            exc.delete()
            exc.save()


#verify new exchanges for gravel_cs
for exc in gravel_cs.exchanges():
    print(exc)





#Search for cellulose fibre production in background database
EI_DB.search('cellulose fibre production')


#Copy existing cellulose fibre process
cellulose = EI_DB.search('cellulose fibre production')[1]
cellulose_mod = cellulose.copy(name='cellulose fibre production (without borax and boric acid)') 


#Verify that the new cellulose fibre process was recorded
EI_DB.search('cellulose fibre production')


#Look at technosphere exhanges characterizing activity cellulose_mod
for exc in cellulose_mod.technosphere():
    print(exc)


# Iterate over exchanges in cellulose_mod to delete borax, anhydrous, powder and boric acid, anhydrous, powder technosphere exchanges
for exc in cellulose_mod.technosphere():
    if exc['name'] == 'borax, anhydrous, powder':
        exc.delete()
        exc.save()
    elif exc['name'] == 'boric acid, anhydrous, powder':
        exc.delete()
        exc.save()


#verify new technosphere exchanges for cellulose_mod
for exc in cellulose_mod.technosphere():
    print(exc)



