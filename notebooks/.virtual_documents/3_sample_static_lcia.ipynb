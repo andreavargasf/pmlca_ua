


import bw2analyzer as bwa
import bw2calc as bc
import bw2data as bd
import bw2io as bi
#import ipywidgets as widgets
import pandas as pd
from bw2data.query import Filter, Query
from IPython.display import display


from project_details import EI_DB_NAME, PROJECT_NAME


bd.projects.set_current(PROJECT_NAME)
bd.databases


# Is the background database name the same as the one we wrote in `propject_details.py`?
assert EI_DB_NAME in bd.databases


FG_DB_NAME = "asphalt"


db_asphalt = bd.Database(FG_DB_NAME)


pavement_complete_a = db_asphalt.get("DZOAB, A")


bwa.print_recursive_supply_chain(pavement_complete_a, max_level=1)


bwa.print_recursive_supply_chain(pavement_complete_a, max_level=2)





asphalt_db_data = db_asphalt.load()


query = Query()
filter_refprod = Filter("reference product", "is", "pavement, complete")
query.add(filter_refprod)


res = query(asphalt_db_data)


for res_key, res_act in res.items():
    print(bd.get_activity(res_key))








# Use the found activities providing "pavement, complete" as functional units for a multi lca
functional_units = [{bd.get_activity(res_a): 1} for res_a, _ in res.items()]
functional_units


# We sort the obtained functional units by code + ref prod
functional_units = sorted(
    functional_units,
    key=lambda fu: [
        list(fu.keys())[0]["code"],
        list(fu.keys())[0]["reference product"],
    ],
)
functional_units





bd.methods


cml_methods = [m for m in bd.methods if m[0] == "CML v4.8 2016"]
cml_methods


bd.calculation_setups["asphalt_pavement_complete"] = {
    "inv": functional_units,
    "ia": cml_methods,
}


# `mlca.results`, is a NumPy array of LCA scores,
# with rows of functional units and
# columns of LCIA methods. Ordering is the same as in the `calculation_setup`.
mlca = bc.MultiLCA("asphalt_pavement_complete")


def format_results(mlca):
    formatted_results = []
    for i, scores in enumerate(mlca.results):  # the results for a fu
        for j, method_key in enumerate(mlca.methods):  # the result for each method
            demand = list(mlca.func_units[i].values())[0]
            activity = list(mlca.func_units[i].keys())[0]
            method = bd.Method(method_key)
            a_result = {
                "activity": repr(activity),
                "demand": demand,
                "method": method_key[0],
                "category": method_key[1],
                "subcategory": method_key[2],
                "score": scores[j],
                "unit": method.metadata["unit"],
            }
            formatted_results.append(a_result)
    return formatted_results


df_results = pd.DataFrame(format_results(mlca))
df_results


df_results.to_excel("asphalt_lcia_results.xlsx")
